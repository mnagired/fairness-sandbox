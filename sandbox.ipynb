{
 "cells": [
  {
   "cell_type": "code",
   "execution_count": 1,
   "id": "fb2bf5a5",
   "metadata": {
    "ExecuteTime": {
     "end_time": "2021-06-08T02:13:13.513889Z",
     "start_time": "2021-06-08T02:13:13.509016Z"
    }
   },
   "outputs": [
    {
     "name": "stdout",
     "output_type": "stream",
     "text": [
      "42\n"
     ]
    }
   ],
   "source": [
    "print(42)"
   ]
  },
  {
   "cell_type": "code",
   "execution_count": 1,
   "id": "cc19d3a1",
   "metadata": {
    "ExecuteTime": {
     "end_time": "2021-06-08T02:16:42.086673Z",
     "start_time": "2021-06-08T02:16:42.083873Z"
    }
   },
   "outputs": [],
   "source": [
    "# testing to see if .ipynb_checkpoints successfully added to .gitignore"
   ]
  },
  {
   "cell_type": "code",
   "execution_count": null,
   "id": "231774fc",
   "metadata": {},
   "outputs": [],
   "source": []
  }
 ],
 "metadata": {
  "kernelspec": {
   "display_name": "Python 3",
   "language": "python",
   "name": "python3"
  },
  "language_info": {
   "codemirror_mode": {
    "name": "ipython",
    "version": 3
   },
   "file_extension": ".py",
   "mimetype": "text/x-python",
   "name": "python",
   "nbconvert_exporter": "python",
   "pygments_lexer": "ipython3",
   "version": "3.7.3"
  }
 },
 "nbformat": 4,
 "nbformat_minor": 5
}
