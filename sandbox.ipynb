{
 "cells": [
  {
   "cell_type": "markdown",
   "id": "a97fde87",
   "metadata": {
    "ExecuteTime": {
     "end_time": "2021-06-08T20:41:26.879421Z",
     "start_time": "2021-06-08T20:41:26.876140Z"
    }
   },
   "source": [
    "# Fairness Sandox Prototype"
   ]
  },
  {
   "cell_type": "markdown",
   "id": "f8a34d96",
   "metadata": {},
   "source": [
    "This rudimentary version of the framework will contain one dataset, one model, one bias mitigation algorithm, and a limited amount of validation metrics. Emphasis will be on modularity and abstraction so as to encourage more features in the future."
   ]
  },
  {
   "cell_type": "markdown",
   "id": "4d3d4a8f",
   "metadata": {},
   "source": [
    "### Setup\n",
    "\n",
    "Please run the code block below to install the necessary packages (if needed)."
   ]
  },
  {
   "cell_type": "code",
   "execution_count": null,
   "id": "edf30bf1",
   "metadata": {
    "scrolled": true
   },
   "outputs": [],
   "source": [
    "%pip install aif360\n",
    "%pip install fairlearn\n",
    "%pip install imbalanced-learn\n",
    "%pip install matplotlib\n",
    "%pip install numpy\n",
    "%pip install pandas\n",
    "%pip install seaborn\n",
    "%pip install scikit-learn"
   ]
  },
  {
   "cell_type": "code",
   "execution_count": 1,
   "id": "ad92cdc7",
   "metadata": {
    "ExecuteTime": {
     "end_time": "2021-06-08T22:05:53.619634Z",
     "start_time": "2021-06-08T22:05:52.655113Z"
    }
   },
   "outputs": [],
   "source": [
    "import pandas as pd\n",
    "import numpy as np\n",
    "import matplotlib.pyplot as plt\n",
    "import seaborn as sns\n",
    "\n",
    "from sklearn.metrics import confusion_matrix, accuracy_score, f1_score, roc_curve, auc\n",
    "\n",
    "import fairlearn\n",
    "import aif360"
   ]
  },
  {
   "cell_type": "markdown",
   "id": "2131ba33",
   "metadata": {},
   "source": [
    "# Data + EDA"
   ]
  },
  {
   "cell_type": "markdown",
   "id": "70889b91",
   "metadata": {},
   "source": [
    "### Dataset Class"
   ]
  },
  {
   "cell_type": "code",
   "execution_count": 35,
   "id": "3e619b36",
   "metadata": {
    "ExecuteTime": {
     "end_time": "2021-06-08T22:21:31.561099Z",
     "start_time": "2021-06-08T22:21:31.555846Z"
    }
   },
   "outputs": [],
   "source": [
    "class Dataset:\n",
    "    def __init__(self, short_name = '', path = '', cat_cols = [], num_cols = []):\n",
    "        self.short_name = short_name\n",
    "        self.path = path\n",
    "        self.cat_cols = cat_cols\n",
    "        self.num_cols = num_cols"
   ]
  },
  {
   "cell_type": "markdown",
   "id": "93d1d34b",
   "metadata": {},
   "source": [
    "### Popular Datasets"
   ]
  },
  {
   "cell_type": "code",
   "execution_count": 44,
   "id": "180ac7e8",
   "metadata": {
    "ExecuteTime": {
     "end_time": "2021-06-08T22:22:32.987758Z",
     "start_time": "2021-06-08T22:22:32.982253Z"
    }
   },
   "outputs": [],
   "source": [
    "# TODO: change to dict with keys = shorthand for dataset,\n",
    "#                           values = array\n",
    "paths_to_datasets = []\n",
    "\n",
    "def add_dataset(dataset):\n",
    "    if not isinstance(dataset, Dataset):\n",
    "        print(\"Error! Please enter a valid Dataset object\")\n",
    "    else:\n",
    "        if dataset.path not in paths_to_datasets:\n",
    "            paths_to_datasets.append(dataset.path)"
   ]
  },
  {
   "cell_type": "code",
   "execution_count": 45,
   "id": "8cc5430e",
   "metadata": {
    "ExecuteTime": {
     "end_time": "2021-06-08T22:22:33.775083Z",
     "start_time": "2021-06-08T22:22:33.769494Z"
    }
   },
   "outputs": [],
   "source": [
    "# example - adding a dataset\n",
    "path_adult_income = 'https://raw.githubusercontent.com/saravrajavelu/Adult-Income-Analysis/master/adult.csv'\n",
    "cat_cols = ['workclass', 'education','marital-status', 'occupation', 'relationship', 'race', 'gender', 'native-country','income']\n",
    "num_cols = ['age', 'fnlwgt', 'educational-num', 'capital-gain', 'capital-loss', 'hours-per-week']\n",
    "adult_income = Dataset('adult_income', path_adult_income, cat_cols, num_cols)\n",
    "\n",
    "add_dataset(adult_income)"
   ]
  },
  {
   "cell_type": "code",
   "execution_count": 46,
   "id": "ca84fb89",
   "metadata": {
    "ExecuteTime": {
     "end_time": "2021-06-08T22:22:35.214416Z",
     "start_time": "2021-06-08T22:22:35.199385Z"
    }
   },
   "outputs": [],
   "source": [
    "add_dataset(Dataset(\"student_mat\", path='Datasets/student-mat.csv'))\n",
    "add_dataset(Dataset(\"student_por\", path='Datasets/student-por.csv'))\n",
    "\n",
    "path_to_data = paths_to_datasets[2] # fill me in\n",
    "#print(paths_to_datasets)\n",
    "#print(path_to_data)\n",
    "\n",
    "df = pd.read_csv(path_to_data, sep=\";\")"
   ]
  },
  {
   "cell_type": "code",
   "execution_count": 47,
   "id": "da1de1d9",
   "metadata": {
    "ExecuteTime": {
     "end_time": "2021-06-08T22:22:37.596914Z",
     "start_time": "2021-06-08T22:22:37.593886Z"
    }
   },
   "outputs": [],
   "source": [
    "# TODO: add functionality for missing data + \n",
    "#       encoding categorical features"
   ]
  },
  {
   "cell_type": "markdown",
   "id": "664925f0",
   "metadata": {},
   "source": [
    "### EDA"
   ]
  },
  {
   "cell_type": "markdown",
   "id": "296e814b",
   "metadata": {},
   "source": [
    "Feel free to use any/all of the following EDA features and/or add your own!"
   ]
  },
  {
   "cell_type": "code",
   "execution_count": 48,
   "id": "22549fff",
   "metadata": {
    "ExecuteTime": {
     "end_time": "2021-06-08T22:22:39.824189Z",
     "start_time": "2021-06-08T22:22:39.800655Z"
    }
   },
   "outputs": [
    {
     "data": {
      "text/html": [
       "<div>\n",
       "<style scoped>\n",
       "    .dataframe tbody tr th:only-of-type {\n",
       "        vertical-align: middle;\n",
       "    }\n",
       "\n",
       "    .dataframe tbody tr th {\n",
       "        vertical-align: top;\n",
       "    }\n",
       "\n",
       "    .dataframe thead th {\n",
       "        text-align: right;\n",
       "    }\n",
       "</style>\n",
       "<table border=\"1\" class=\"dataframe\">\n",
       "  <thead>\n",
       "    <tr style=\"text-align: right;\">\n",
       "      <th></th>\n",
       "      <th>school</th>\n",
       "      <th>sex</th>\n",
       "      <th>age</th>\n",
       "      <th>address</th>\n",
       "      <th>famsize</th>\n",
       "      <th>Pstatus</th>\n",
       "      <th>Medu</th>\n",
       "      <th>Fedu</th>\n",
       "      <th>Mjob</th>\n",
       "      <th>Fjob</th>\n",
       "      <th>...</th>\n",
       "      <th>famrel</th>\n",
       "      <th>freetime</th>\n",
       "      <th>goout</th>\n",
       "      <th>Dalc</th>\n",
       "      <th>Walc</th>\n",
       "      <th>health</th>\n",
       "      <th>absences</th>\n",
       "      <th>G1</th>\n",
       "      <th>G2</th>\n",
       "      <th>G3</th>\n",
       "    </tr>\n",
       "  </thead>\n",
       "  <tbody>\n",
       "    <tr>\n",
       "      <th>0</th>\n",
       "      <td>GP</td>\n",
       "      <td>F</td>\n",
       "      <td>18</td>\n",
       "      <td>U</td>\n",
       "      <td>GT3</td>\n",
       "      <td>A</td>\n",
       "      <td>4</td>\n",
       "      <td>4</td>\n",
       "      <td>at_home</td>\n",
       "      <td>teacher</td>\n",
       "      <td>...</td>\n",
       "      <td>4</td>\n",
       "      <td>3</td>\n",
       "      <td>4</td>\n",
       "      <td>1</td>\n",
       "      <td>1</td>\n",
       "      <td>3</td>\n",
       "      <td>4</td>\n",
       "      <td>0</td>\n",
       "      <td>11</td>\n",
       "      <td>11</td>\n",
       "    </tr>\n",
       "    <tr>\n",
       "      <th>1</th>\n",
       "      <td>GP</td>\n",
       "      <td>F</td>\n",
       "      <td>17</td>\n",
       "      <td>U</td>\n",
       "      <td>GT3</td>\n",
       "      <td>T</td>\n",
       "      <td>1</td>\n",
       "      <td>1</td>\n",
       "      <td>at_home</td>\n",
       "      <td>other</td>\n",
       "      <td>...</td>\n",
       "      <td>5</td>\n",
       "      <td>3</td>\n",
       "      <td>3</td>\n",
       "      <td>1</td>\n",
       "      <td>1</td>\n",
       "      <td>3</td>\n",
       "      <td>2</td>\n",
       "      <td>9</td>\n",
       "      <td>11</td>\n",
       "      <td>11</td>\n",
       "    </tr>\n",
       "    <tr>\n",
       "      <th>2</th>\n",
       "      <td>GP</td>\n",
       "      <td>F</td>\n",
       "      <td>15</td>\n",
       "      <td>U</td>\n",
       "      <td>LE3</td>\n",
       "      <td>T</td>\n",
       "      <td>1</td>\n",
       "      <td>1</td>\n",
       "      <td>at_home</td>\n",
       "      <td>other</td>\n",
       "      <td>...</td>\n",
       "      <td>4</td>\n",
       "      <td>3</td>\n",
       "      <td>2</td>\n",
       "      <td>2</td>\n",
       "      <td>3</td>\n",
       "      <td>3</td>\n",
       "      <td>6</td>\n",
       "      <td>12</td>\n",
       "      <td>13</td>\n",
       "      <td>12</td>\n",
       "    </tr>\n",
       "    <tr>\n",
       "      <th>3</th>\n",
       "      <td>GP</td>\n",
       "      <td>F</td>\n",
       "      <td>15</td>\n",
       "      <td>U</td>\n",
       "      <td>GT3</td>\n",
       "      <td>T</td>\n",
       "      <td>4</td>\n",
       "      <td>2</td>\n",
       "      <td>health</td>\n",
       "      <td>services</td>\n",
       "      <td>...</td>\n",
       "      <td>3</td>\n",
       "      <td>2</td>\n",
       "      <td>2</td>\n",
       "      <td>1</td>\n",
       "      <td>1</td>\n",
       "      <td>5</td>\n",
       "      <td>0</td>\n",
       "      <td>14</td>\n",
       "      <td>14</td>\n",
       "      <td>14</td>\n",
       "    </tr>\n",
       "    <tr>\n",
       "      <th>4</th>\n",
       "      <td>GP</td>\n",
       "      <td>F</td>\n",
       "      <td>16</td>\n",
       "      <td>U</td>\n",
       "      <td>GT3</td>\n",
       "      <td>T</td>\n",
       "      <td>3</td>\n",
       "      <td>3</td>\n",
       "      <td>other</td>\n",
       "      <td>other</td>\n",
       "      <td>...</td>\n",
       "      <td>4</td>\n",
       "      <td>3</td>\n",
       "      <td>2</td>\n",
       "      <td>1</td>\n",
       "      <td>2</td>\n",
       "      <td>5</td>\n",
       "      <td>0</td>\n",
       "      <td>11</td>\n",
       "      <td>13</td>\n",
       "      <td>13</td>\n",
       "    </tr>\n",
       "  </tbody>\n",
       "</table>\n",
       "<p>5 rows × 33 columns</p>\n",
       "</div>"
      ],
      "text/plain": [
       "  school sex  age address famsize Pstatus  Medu  Fedu     Mjob      Fjob  ...  \\\n",
       "0     GP   F   18       U     GT3       A     4     4  at_home   teacher  ...   \n",
       "1     GP   F   17       U     GT3       T     1     1  at_home     other  ...   \n",
       "2     GP   F   15       U     LE3       T     1     1  at_home     other  ...   \n",
       "3     GP   F   15       U     GT3       T     4     2   health  services  ...   \n",
       "4     GP   F   16       U     GT3       T     3     3    other     other  ...   \n",
       "\n",
       "  famrel freetime  goout  Dalc  Walc health absences  G1  G2  G3  \n",
       "0      4        3      4     1     1      3        4   0  11  11  \n",
       "1      5        3      3     1     1      3        2   9  11  11  \n",
       "2      4        3      2     2     3      3        6  12  13  12  \n",
       "3      3        2      2     1     1      5        0  14  14  14  \n",
       "4      4        3      2     1     2      5        0  11  13  13  \n",
       "\n",
       "[5 rows x 33 columns]"
      ]
     },
     "execution_count": 48,
     "metadata": {},
     "output_type": "execute_result"
    }
   ],
   "source": [
    "# glimpse the first few data points\n",
    "df.head()"
   ]
  },
  {
   "cell_type": "code",
   "execution_count": 49,
   "id": "f1708504",
   "metadata": {
    "ExecuteTime": {
     "end_time": "2021-06-08T22:22:41.515492Z",
     "start_time": "2021-06-08T22:22:41.507471Z"
    }
   },
   "outputs": [
    {
     "data": {
      "text/plain": [
       "F    383\n",
       "M    266\n",
       "Name: sex, dtype: int64"
      ]
     },
     "execution_count": 49,
     "metadata": {},
     "output_type": "execute_result"
    }
   ],
   "source": [
    "df['sex'].value_counts()\n",
    "\n",
    "#df['address'].value_counts()"
   ]
  },
  {
   "cell_type": "markdown",
   "id": "39c01df7",
   "metadata": {},
   "source": [
    "# Model"
   ]
  },
  {
   "cell_type": "markdown",
   "id": "0e205eaf",
   "metadata": {},
   "source": [
    "### Model Selection"
   ]
  },
  {
   "cell_type": "code",
   "execution_count": null,
   "id": "5a8e2e78",
   "metadata": {},
   "outputs": [],
   "source": [
    "print(42)"
   ]
  },
  {
   "cell_type": "markdown",
   "id": "2e96ee99",
   "metadata": {},
   "source": [
    "### Model Performance"
   ]
  },
  {
   "cell_type": "code",
   "execution_count": null,
   "id": "a8476fef",
   "metadata": {},
   "outputs": [],
   "source": [
    "print(42)"
   ]
  },
  {
   "cell_type": "markdown",
   "id": "685ad84a",
   "metadata": {},
   "source": [
    "# Bias Injection"
   ]
  },
  {
   "cell_type": "markdown",
   "id": "3c7001cd",
   "metadata": {},
   "source": [
    "### Bias Selection"
   ]
  },
  {
   "cell_type": "markdown",
   "id": "31783531",
   "metadata": {},
   "source": [
    "### Post-Injection Visualization"
   ]
  },
  {
   "cell_type": "markdown",
   "id": "b9e8415c",
   "metadata": {
    "heading_collapsed": true
   },
   "source": [
    "# Fairness Intervention"
   ]
  },
  {
   "cell_type": "markdown",
   "id": "5fb26c3f",
   "metadata": {
    "heading_collapsed": true
   },
   "source": [
    "# Evaluation"
   ]
  },
  {
   "cell_type": "code",
   "execution_count": null,
   "id": "fb0c9f48",
   "metadata": {
    "hidden": true
   },
   "outputs": [],
   "source": []
  }
 ],
 "metadata": {
  "kernelspec": {
   "display_name": "Python 3",
   "language": "python",
   "name": "python3"
  },
  "language_info": {
   "codemirror_mode": {
    "name": "ipython",
    "version": 3
   },
   "file_extension": ".py",
   "mimetype": "text/x-python",
   "name": "python",
   "nbconvert_exporter": "python",
   "pygments_lexer": "ipython3",
   "version": "3.7.3"
  }
 },
 "nbformat": 4,
 "nbformat_minor": 5
}
