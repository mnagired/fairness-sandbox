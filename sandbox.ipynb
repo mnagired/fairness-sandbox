{
 "cells": [
  {
   "cell_type": "markdown",
   "id": "d5e91243",
   "metadata": {
    "ExecuteTime": {
     "end_time": "2021-06-08T20:41:26.879421Z",
     "start_time": "2021-06-08T20:41:26.876140Z"
    }
   },
   "source": [
    "# Fairness Sandox"
   ]
  },
  {
   "cell_type": "markdown",
   "id": "0a42ced1",
   "metadata": {},
   "source": [
    "### Setup\n",
    "\n",
    "Please run the code block below to install the necessary packages (if needed)."
   ]
  },
  {
   "cell_type": "code",
   "execution_count": 1,
   "id": "d3234f6d",
   "metadata": {
    "collapsed": true,
    "jupyter": {
     "outputs_hidden": true
    },
    "scrolled": true,
    "tags": []
   },
   "outputs": [
    {
     "name": "stdout",
     "output_type": "stream",
     "text": [
      "Requirement already satisfied: aif360 in /Users/manishn/cfpb-venv/lib/python3.7/site-packages (0.4.0)\n",
      "Requirement already satisfied: scipy<1.6.0,>=1.2.0 in /Users/manishn/cfpb-venv/lib/python3.7/site-packages (from aif360) (1.5.2)\n",
      "Requirement already satisfied: numpy>=1.16 in /Users/manishn/cfpb-venv/lib/python3.7/site-packages (from aif360) (1.19.1)\n",
      "Requirement already satisfied: scikit-learn>=0.22.1 in /Users/manishn/cfpb-venv/lib/python3.7/site-packages (from aif360) (0.24.2)\n",
      "Requirement already satisfied: tempeh in /Users/manishn/cfpb-venv/lib/python3.7/site-packages (from aif360) (0.1.12)\n",
      "Requirement already satisfied: pandas>=0.24.0 in /Users/manishn/cfpb-venv/lib/python3.7/site-packages (from aif360) (1.1.0)\n",
      "Requirement already satisfied: matplotlib in /Users/manishn/cfpb-venv/lib/python3.7/site-packages (from aif360) (3.3.0)\n",
      "Requirement already satisfied: python-dateutil>=2.7.3 in /Users/manishn/cfpb-venv/lib/python3.7/site-packages (from pandas>=0.24.0->aif360) (2.8.1)\n",
      "Requirement already satisfied: pytz>=2017.2 in /Users/manishn/cfpb-venv/lib/python3.7/site-packages (from pandas>=0.24.0->aif360) (2020.1)\n",
      "Requirement already satisfied: six>=1.5 in /Users/manishn/cfpb-venv/lib/python3.7/site-packages (from python-dateutil>=2.7.3->pandas>=0.24.0->aif360) (1.15.0)\n",
      "Requirement already satisfied: threadpoolctl>=2.0.0 in /Users/manishn/cfpb-venv/lib/python3.7/site-packages (from scikit-learn>=0.22.1->aif360) (2.1.0)\n",
      "Requirement already satisfied: joblib>=0.11 in /Users/manishn/cfpb-venv/lib/python3.7/site-packages (from scikit-learn>=0.22.1->aif360) (0.16.0)\n",
      "Requirement already satisfied: kiwisolver>=1.0.1 in /Users/manishn/cfpb-venv/lib/python3.7/site-packages (from matplotlib->aif360) (1.2.0)\n",
      "Requirement already satisfied: pillow>=6.2.0 in /Users/manishn/cfpb-venv/lib/python3.7/site-packages (from matplotlib->aif360) (7.2.0)\n",
      "Requirement already satisfied: cycler>=0.10 in /Users/manishn/cfpb-venv/lib/python3.7/site-packages (from matplotlib->aif360) (0.10.0)\n",
      "Requirement already satisfied: pyparsing!=2.0.4,!=2.1.2,!=2.1.6,>=2.0.3 in /Users/manishn/cfpb-venv/lib/python3.7/site-packages (from matplotlib->aif360) (2.4.7)\n",
      "Requirement already satisfied: shap in /Users/manishn/cfpb-venv/lib/python3.7/site-packages (from tempeh->aif360) (0.35.0)\n",
      "Requirement already satisfied: pytest in /Users/manishn/cfpb-venv/lib/python3.7/site-packages (from tempeh->aif360) (6.0.0)\n",
      "Requirement already satisfied: memory-profiler in /Users/manishn/cfpb-venv/lib/python3.7/site-packages (from tempeh->aif360) (0.57.0)\n",
      "Requirement already satisfied: requests in /Users/manishn/cfpb-venv/lib/python3.7/site-packages (from tempeh->aif360) (2.24.0)\n",
      "Requirement already satisfied: psutil in /Users/manishn/cfpb-venv/lib/python3.7/site-packages (from memory-profiler->tempeh->aif360) (5.7.2)\n",
      "Requirement already satisfied: attrs>=17.4.0 in /Users/manishn/cfpb-venv/lib/python3.7/site-packages (from pytest->tempeh->aif360) (19.3.0)\n",
      "Requirement already satisfied: more-itertools>=4.0.0 in /Users/manishn/cfpb-venv/lib/python3.7/site-packages (from pytest->tempeh->aif360) (8.4.0)\n",
      "Requirement already satisfied: importlib-metadata>=0.12 in /Users/manishn/cfpb-venv/lib/python3.7/site-packages (from pytest->tempeh->aif360) (1.7.0)\n",
      "Requirement already satisfied: pluggy<1.0,>=0.12 in /Users/manishn/cfpb-venv/lib/python3.7/site-packages (from pytest->tempeh->aif360) (0.13.1)\n",
      "Requirement already satisfied: iniconfig in /Users/manishn/cfpb-venv/lib/python3.7/site-packages (from pytest->tempeh->aif360) (1.0.0)\n",
      "Requirement already satisfied: py>=1.8.2 in /Users/manishn/cfpb-venv/lib/python3.7/site-packages (from pytest->tempeh->aif360) (1.9.0)\n",
      "Requirement already satisfied: packaging in /Users/manishn/cfpb-venv/lib/python3.7/site-packages (from pytest->tempeh->aif360) (20.4)\n",
      "Requirement already satisfied: toml in /Users/manishn/cfpb-venv/lib/python3.7/site-packages (from pytest->tempeh->aif360) (0.10.1)\n",
      "Requirement already satisfied: zipp>=0.5 in /Users/manishn/cfpb-venv/lib/python3.7/site-packages (from importlib-metadata>=0.12->pytest->tempeh->aif360) (3.1.0)\n",
      "Requirement already satisfied: urllib3!=1.25.0,!=1.25.1,<1.26,>=1.21.1 in /Users/manishn/cfpb-venv/lib/python3.7/site-packages (from requests->tempeh->aif360) (1.25.10)\n",
      "Requirement already satisfied: certifi>=2017.4.17 in /Users/manishn/cfpb-venv/lib/python3.7/site-packages (from requests->tempeh->aif360) (2020.6.20)\n",
      "Requirement already satisfied: chardet<4,>=3.0.2 in /Users/manishn/cfpb-venv/lib/python3.7/site-packages (from requests->tempeh->aif360) (3.0.4)\n",
      "Requirement already satisfied: idna<3,>=2.5 in /Users/manishn/cfpb-venv/lib/python3.7/site-packages (from requests->tempeh->aif360) (2.10)\n",
      "Requirement already satisfied: tqdm>4.25.0 in /Users/manishn/cfpb-venv/lib/python3.7/site-packages (from shap->tempeh->aif360) (4.48.0)\n",
      "Note: you may need to restart the kernel to use updated packages.\n",
      "Requirement already satisfied: fairlearn in /Users/manishn/cfpb-venv/lib/python3.7/site-packages (0.6.2)\n",
      "Requirement already satisfied: scipy>=1.4.1 in /Users/manishn/cfpb-venv/lib/python3.7/site-packages (from fairlearn) (1.5.2)\n",
      "Requirement already satisfied: scikit-learn>=0.22.1 in /Users/manishn/cfpb-venv/lib/python3.7/site-packages (from fairlearn) (0.24.2)\n",
      "Requirement already satisfied: numpy>=1.17.2 in /Users/manishn/cfpb-venv/lib/python3.7/site-packages (from fairlearn) (1.19.1)\n",
      "Requirement already satisfied: pandas>=0.25.1 in /Users/manishn/cfpb-venv/lib/python3.7/site-packages (from fairlearn) (1.1.0)\n",
      "Requirement already satisfied: python-dateutil>=2.7.3 in /Users/manishn/cfpb-venv/lib/python3.7/site-packages (from pandas>=0.25.1->fairlearn) (2.8.1)\n",
      "Requirement already satisfied: pytz>=2017.2 in /Users/manishn/cfpb-venv/lib/python3.7/site-packages (from pandas>=0.25.1->fairlearn) (2020.1)\n",
      "Requirement already satisfied: six>=1.5 in /Users/manishn/cfpb-venv/lib/python3.7/site-packages (from python-dateutil>=2.7.3->pandas>=0.25.1->fairlearn) (1.15.0)\n",
      "Requirement already satisfied: joblib>=0.11 in /Users/manishn/cfpb-venv/lib/python3.7/site-packages (from scikit-learn>=0.22.1->fairlearn) (0.16.0)\n",
      "Requirement already satisfied: threadpoolctl>=2.0.0 in /Users/manishn/cfpb-venv/lib/python3.7/site-packages (from scikit-learn>=0.22.1->fairlearn) (2.1.0)\n",
      "Note: you may need to restart the kernel to use updated packages.\n",
      "Requirement already satisfied: imbalanced-learn in /Users/manishn/cfpb-venv/lib/python3.7/site-packages (0.8.0)\n",
      "Requirement already satisfied: joblib>=0.11 in /Users/manishn/cfpb-venv/lib/python3.7/site-packages (from imbalanced-learn) (0.16.0)\n",
      "Requirement already satisfied: numpy>=1.13.3 in /Users/manishn/cfpb-venv/lib/python3.7/site-packages (from imbalanced-learn) (1.19.1)\n",
      "Requirement already satisfied: scipy>=0.19.1 in /Users/manishn/cfpb-venv/lib/python3.7/site-packages (from imbalanced-learn) (1.5.2)\n",
      "Requirement already satisfied: scikit-learn>=0.24 in /Users/manishn/cfpb-venv/lib/python3.7/site-packages (from imbalanced-learn) (0.24.2)\n",
      "Requirement already satisfied: threadpoolctl>=2.0.0 in /Users/manishn/cfpb-venv/lib/python3.7/site-packages (from scikit-learn>=0.24->imbalanced-learn) (2.1.0)\n",
      "Note: you may need to restart the kernel to use updated packages.\n",
      "Requirement already satisfied: matplotlib in /Users/manishn/cfpb-venv/lib/python3.7/site-packages (3.3.0)\n",
      "Requirement already satisfied: kiwisolver>=1.0.1 in /Users/manishn/cfpb-venv/lib/python3.7/site-packages (from matplotlib) (1.2.0)\n",
      "Requirement already satisfied: numpy>=1.15 in /Users/manishn/cfpb-venv/lib/python3.7/site-packages (from matplotlib) (1.19.1)\n",
      "Requirement already satisfied: pillow>=6.2.0 in /Users/manishn/cfpb-venv/lib/python3.7/site-packages (from matplotlib) (7.2.0)\n",
      "Requirement already satisfied: pyparsing!=2.0.4,!=2.1.2,!=2.1.6,>=2.0.3 in /Users/manishn/cfpb-venv/lib/python3.7/site-packages (from matplotlib) (2.4.7)\n",
      "Requirement already satisfied: cycler>=0.10 in /Users/manishn/cfpb-venv/lib/python3.7/site-packages (from matplotlib) (0.10.0)\n",
      "Requirement already satisfied: python-dateutil>=2.1 in /Users/manishn/cfpb-venv/lib/python3.7/site-packages (from matplotlib) (2.8.1)\n",
      "Requirement already satisfied: six in /Users/manishn/cfpb-venv/lib/python3.7/site-packages (from cycler>=0.10->matplotlib) (1.15.0)\n",
      "Note: you may need to restart the kernel to use updated packages.\n",
      "Requirement already satisfied: numpy in /Users/manishn/cfpb-venv/lib/python3.7/site-packages (1.19.1)\n",
      "Note: you may need to restart the kernel to use updated packages.\n",
      "Requirement already satisfied: pandas in /Users/manishn/cfpb-venv/lib/python3.7/site-packages (1.1.0)\n",
      "Requirement already satisfied: python-dateutil>=2.7.3 in /Users/manishn/cfpb-venv/lib/python3.7/site-packages (from pandas) (2.8.1)\n",
      "Requirement already satisfied: pytz>=2017.2 in /Users/manishn/cfpb-venv/lib/python3.7/site-packages (from pandas) (2020.1)\n",
      "Requirement already satisfied: numpy>=1.15.4 in /Users/manishn/cfpb-venv/lib/python3.7/site-packages (from pandas) (1.19.1)\n",
      "Requirement already satisfied: six>=1.5 in /Users/manishn/cfpb-venv/lib/python3.7/site-packages (from python-dateutil>=2.7.3->pandas) (1.15.0)\n",
      "Note: you may need to restart the kernel to use updated packages.\n",
      "Requirement already satisfied: seaborn in /Users/manishn/cfpb-venv/lib/python3.7/site-packages (0.11.1)\n",
      "Requirement already satisfied: scipy>=1.0 in /Users/manishn/cfpb-venv/lib/python3.7/site-packages (from seaborn) (1.5.2)\n",
      "Requirement already satisfied: matplotlib>=2.2 in /Users/manishn/cfpb-venv/lib/python3.7/site-packages (from seaborn) (3.3.0)\n",
      "Requirement already satisfied: pandas>=0.23 in /Users/manishn/cfpb-venv/lib/python3.7/site-packages (from seaborn) (1.1.0)\n",
      "Requirement already satisfied: numpy>=1.15 in /Users/manishn/cfpb-venv/lib/python3.7/site-packages (from seaborn) (1.19.1)\n",
      "Requirement already satisfied: pillow>=6.2.0 in /Users/manishn/cfpb-venv/lib/python3.7/site-packages (from matplotlib>=2.2->seaborn) (7.2.0)\n",
      "Requirement already satisfied: pyparsing!=2.0.4,!=2.1.2,!=2.1.6,>=2.0.3 in /Users/manishn/cfpb-venv/lib/python3.7/site-packages (from matplotlib>=2.2->seaborn) (2.4.7)\n",
      "Requirement already satisfied: cycler>=0.10 in /Users/manishn/cfpb-venv/lib/python3.7/site-packages (from matplotlib>=2.2->seaborn) (0.10.0)\n",
      "Requirement already satisfied: python-dateutil>=2.1 in /Users/manishn/cfpb-venv/lib/python3.7/site-packages (from matplotlib>=2.2->seaborn) (2.8.1)\n",
      "Requirement already satisfied: kiwisolver>=1.0.1 in /Users/manishn/cfpb-venv/lib/python3.7/site-packages (from matplotlib>=2.2->seaborn) (1.2.0)\n",
      "Requirement already satisfied: six in /Users/manishn/cfpb-venv/lib/python3.7/site-packages (from cycler>=0.10->matplotlib>=2.2->seaborn) (1.15.0)\n",
      "Requirement already satisfied: pytz>=2017.2 in /Users/manishn/cfpb-venv/lib/python3.7/site-packages (from pandas>=0.23->seaborn) (2020.1)\n",
      "Note: you may need to restart the kernel to use updated packages.\n",
      "Requirement already satisfied: scikit-learn in /Users/manishn/cfpb-venv/lib/python3.7/site-packages (0.24.2)\n",
      "Requirement already satisfied: joblib>=0.11 in /Users/manishn/cfpb-venv/lib/python3.7/site-packages (from scikit-learn) (0.16.0)\n",
      "Requirement already satisfied: numpy>=1.13.3 in /Users/manishn/cfpb-venv/lib/python3.7/site-packages (from scikit-learn) (1.19.1)\n",
      "Requirement already satisfied: scipy>=0.19.1 in /Users/manishn/cfpb-venv/lib/python3.7/site-packages (from scikit-learn) (1.5.2)\n",
      "Requirement already satisfied: threadpoolctl>=2.0.0 in /Users/manishn/cfpb-venv/lib/python3.7/site-packages (from scikit-learn) (2.1.0)\n",
      "Note: you may need to restart the kernel to use updated packages.\n"
     ]
    }
   ],
   "source": [
    "%pip install aif360\n",
    "%pip install fairlearn\n",
    "%pip install imbalanced-learn\n",
    "%pip install matplotlib\n",
    "%pip install numpy\n",
    "%pip install pandas\n",
    "%pip install seaborn\n",
    "%pip install scikit-learn"
   ]
  },
  {
   "cell_type": "code",
   "execution_count": 271,
   "id": "4a692724",
   "metadata": {
    "ExecuteTime": {
     "end_time": "2021-06-10T20:42:02.586362Z",
     "start_time": "2021-06-10T20:42:02.581026Z"
    }
   },
   "outputs": [],
   "source": [
    "import pandas as pd\n",
    "import numpy as np\n",
    "import matplotlib.pyplot as plt\n",
    "import seaborn as sns\n",
    "import math\n",
    "\n",
    "from sklearn.compose import ColumnTransformer\n",
    "from sklearn.preprocessing import OneHotEncoder\n",
    "\n",
    "from sklearn.metrics import confusion_matrix, accuracy_score, f1_score, roc_curve, auc\n",
    "\n",
    "import fairlearn\n",
    "from fairlearn.metrics import *\n",
    "from fairlearn.reductions import *\n",
    "import aif360\n",
    "\n",
    "import copy, random\n",
    "\n",
    "from sklearn.metrics import accuracy_score\n",
    "\n",
    "from sklearn.ensemble import RandomForestClassifier\n",
    "from sklearn.linear_model import LogisticRegression\n",
    "from sklearn.tree import DecisionTreeClassifier"
   ]
  },
  {
   "cell_type": "markdown",
   "id": "da59e303",
   "metadata": {},
   "source": [
    "# Data"
   ]
  },
  {
   "cell_type": "markdown",
   "id": "30a51666",
   "metadata": {},
   "source": [
    "### Dataset Class"
   ]
  },
  {
   "cell_type": "code",
   "execution_count": 239,
   "id": "996906d7",
   "metadata": {
    "ExecuteTime": {
     "end_time": "2021-06-10T20:42:06.040700Z",
     "start_time": "2021-06-10T20:42:06.035368Z"
    }
   },
   "outputs": [],
   "source": [
    "class Dataset:\n",
    "    def __init__(self, short_name = '', path = '', cat_cols = [], num_cols = [],\n",
    "                 sens_attr = '', has_sens_attr = True,\n",
    "                 sep = '', synthetic = False):\n",
    "        self.short_name = short_name\n",
    "        self.path = path\n",
    "        self.cat_cols = cat_cols\n",
    "        self.num_cols = num_cols\n",
    "        self.has_sens_attr = has_sens_attr\n",
    "        if has_sens_attr:\n",
    "            self.sens_attr = sens_attr\n",
    "        if not synthetic:\n",
    "            self.df = pd.read_csv(path, sep = sep)"
   ]
  },
  {
   "cell_type": "code",
   "execution_count": 240,
   "id": "21b5fd8a",
   "metadata": {
    "ExecuteTime": {
     "end_time": "2021-06-10T20:42:06.330948Z",
     "start_time": "2021-06-10T20:42:06.325325Z"
    }
   },
   "outputs": [],
   "source": [
    "# collection of datasets is a dictionary where keys = short name, values = Dataset object\n",
    "\n",
    "datasets = dict()\n",
    "\n",
    "def add_dataset(dataset):\n",
    "    if not isinstance(dataset, Dataset):\n",
    "        raise TypeError(\"Please enter a valid Dataset object\")\n",
    "    else:\n",
    "        if dataset.short_name not in datasets.keys():\n",
    "            datasets[dataset.short_name] = dataset"
   ]
  },
  {
   "cell_type": "markdown",
   "id": "5f38f1ae",
   "metadata": {},
   "source": [
    "### Popular Datasets"
   ]
  },
  {
   "cell_type": "code",
   "execution_count": 241,
   "id": "e570253c",
   "metadata": {
    "ExecuteTime": {
     "end_time": "2021-06-10T20:42:06.534123Z",
     "start_time": "2021-06-10T20:42:06.464059Z"
    },
    "tags": []
   },
   "outputs": [],
   "source": [
    "# example - adding a dataset\n",
    "path_adult_income = 'Datasets/adult.csv'\n",
    "cat_cols_adult = ['workclass', 'education','marital-status', 'occupation', 'relationship', 'race',\n",
    "            'gender', 'native-country','income']\n",
    "num_cols_adult = ['age', 'fnlwgt', 'educational-num', 'capital-gain', 'capital-loss', 'hours-per-week']\n",
    "adult_income = Dataset('adult_income', path_adult_income, cat_cols_adult, num_cols_adult, sep = \",\", sens_attr = 'race')\n",
    "\n",
    "add_dataset(adult_income)"
   ]
  },
  {
   "cell_type": "code",
   "execution_count": 242,
   "id": "38eddaac",
   "metadata": {
    "ExecuteTime": {
     "end_time": "2021-06-10T20:42:06.621748Z",
     "start_time": "2021-06-10T20:42:06.598777Z"
    }
   },
   "outputs": [],
   "source": [
    "cat_cols_por = ['school', 'sex', 'address','famsize','Pstatus','Mjob','Fjob','reason',\n",
    "       'guardian','schoolsup','famsup','paid', 'activities','nursery','higher', 'internet','romantic']\n",
    "num_cols_por = ['age', 'Medu', 'Fedu','traveltime','studytime','failures', 'famrel',\n",
    "       'freetime','goout','Dalc','Walc','health','absences','G1', 'G2', 'G3']\n",
    "\n",
    "add_dataset(Dataset(\"student_por\", path='Datasets/student-por.csv',\n",
    "                    cat_cols=cat_cols_por, num_cols=num_cols_por, sep = \";\", sens_attr = 'sex'))"
   ]
  },
  {
   "cell_type": "markdown",
   "id": "adf52542-122b-425b-a0e4-bbe4f00584b5",
   "metadata": {},
   "source": [
    "### Synthetic Data Generation"
   ]
  },
  {
   "cell_type": "markdown",
   "id": "7494ce9f-9cf2-488d-a5f2-fd8451e38205",
   "metadata": {},
   "source": [
    "#### Helper Functions"
   ]
  },
  {
   "cell_type": "code",
   "execution_count": 243,
   "id": "f4b3c618-6764-4083-ac9f-2fa30e12bc39",
   "metadata": {},
   "outputs": [],
   "source": [
    "# create binary sensitive attribute\n",
    "def get_sensitive_feat(n, r):\n",
    "    num_minority = int(r * n)\n",
    "    num_majority = n - num_minority\n",
    "    \n",
    "    minority = np.zeros((num_minority, 1))\n",
    "    majority = np.ones((num_majority, 1))\n",
    "    \n",
    "    sens_feat = np.vstack((minority, majority))\n",
    "    \n",
    "    # shuffle so as to ensure randomness\n",
    "    np.random.shuffle(sens_feat)\n",
    "    \n",
    "    return sens_feat"
   ]
  },
  {
   "cell_type": "code",
   "execution_count": 244,
   "id": "7bc8ea01-b38c-4aa1-8a51-f4db3155431e",
   "metadata": {},
   "outputs": [],
   "source": [
    "def get_cat_feats(num_cat_feats, cat_feats_levels, n):\n",
    "    cat_feats = []\n",
    "    for i in range(num_cat_feats):\n",
    "        levels = cat_feats_levels[i]\n",
    "        if levels < 2:\n",
    "            raise ValueError(\"Categorical features must have at least 2 classes!\")\n",
    "        vals = np.arange(levels)\n",
    "        cat = np.random.choice(vals, n, [0.5,0.5]).reshape(n, 1)\n",
    "        cat_feats.append(cat)\n",
    "    return np.hstack((cat_feats))"
   ]
  },
  {
   "cell_type": "code",
   "execution_count": 245,
   "id": "c5c4523d-23e2-482d-9f3d-ad084f8b429c",
   "metadata": {},
   "outputs": [],
   "source": [
    "def distribution_plot(outcome_min = [], outcome_maj = [], outcome = [],\n",
    "                      threshold_min = 0.5, threshold_maj = 0.5,\n",
    "                      diff_dist = False):\n",
    "    \n",
    "    if diff_dist:\n",
    "\n",
    "        plt.figure(figsize=(17,7))\n",
    "\n",
    "        plt.subplot(1,2,1)\n",
    "        plt.hist(outcome_min,label='continuous outcome',bins='auto')\n",
    "        plt.axvline(threshold_min,color='red',label='threshold')\n",
    "        plt.xlabel(\"Continuous Outcome\")\n",
    "        plt.ylabel(\"Number of Samples\")\n",
    "        plt.title(\"Minority\")\n",
    "\n",
    "        plt.subplot(1,2,2)\n",
    "        plt.hist(outcome_maj,label='continuous outcome',bins='auto')\n",
    "        plt.axvline(threshold_maj,color='red',label='threshold')\n",
    "        plt.xlabel(\"Continuous Outcome\")\n",
    "        plt.ylabel(\"Number of Samples\")\n",
    "        plt.title(\"Majority\")\n",
    "        plt.show()\n",
    "        \n",
    "    else:\n",
    "        \n",
    "        plt.figure(figsize=(17,7))\n",
    "        plt.subplot(1,2,1)\n",
    "        plt.hist(outcome,label='continuous outcome',bins='auto')\n",
    "        plt.axvline(threshold_min,color='red',label='threshold')\n",
    "        plt.xlabel(\"Continuous Outcome\")\n",
    "        plt.ylabel(\"Number of Samples\")\n",
    "        plt.title(\"Distribution of Outcomes\")\n",
    "        plt.show()"
   ]
  },
  {
   "cell_type": "code",
   "execution_count": 246,
   "id": "e23aa101-31be-4905-aa9e-59963d911b8f",
   "metadata": {},
   "outputs": [],
   "source": [
    "def get_attribute_names(df, num_numerical_cols, num_cat_cols):\n",
    "    col_names = []\n",
    "    for i in range(num_numerical_cols):\n",
    "        col_names.append('num' + str(i+1))\n",
    "    for i in range(num_cat_cols):\n",
    "        col_names.append('cat' + str(i+1))\n",
    "    col_names.append('sens_feat')\n",
    "    col_names.append('outcome')\n",
    "    \n",
    "    return col_names"
   ]
  },
  {
   "cell_type": "code",
   "execution_count": 247,
   "id": "c5b76ac5-7125-460f-a6e4-25b34ac7a8f2",
   "metadata": {},
   "outputs": [],
   "source": [
    "# flip labels with probability eta\n",
    "def flip_labels(df_synthetic, label_noise):\n",
    "    labels = df_synthetic['outcome']\n",
    "    \n",
    "    for i in range(len(labels)):\n",
    "        if random.uniform(0,1) <= label_noise:\n",
    "            labels[i] = 1 if labels[i] == 0 else 0\n",
    "    df_synthetic['outcome'] = labels\n",
    "    \n",
    "    return df_synthetic"
   ]
  },
  {
   "cell_type": "markdown",
   "id": "fdd38444-11ab-4455-9010-eba432d9ab9d",
   "metadata": {},
   "source": [
    "#### Main Function"
   ]
  },
  {
   "cell_type": "code",
   "execution_count": 248,
   "id": "e99fbbf3-0257-4f4d-877e-905d34151210",
   "metadata": {},
   "outputs": [],
   "source": [
    "'''\n",
    "Parameters:\n",
    "\n",
    "    n is the total number of examples in the dataset\n",
    "    \n",
    "    num_numerical_feats is number of numerical features\n",
    "        each numerical feature is drawn from a\n",
    "        multivariate normal distribution with mean 0\n",
    "        \n",
    "    num_cat_feats is number of categorical features\n",
    "    \n",
    "    cat_levels is an array where each element is the number\n",
    "        of levels for each categorical feature\n",
    "        len(cat_levels) = num_cat_feats\n",
    "        \n",
    "    r is the proportion of examples in the minority group\n",
    "        (1-r) is proportion of examples in majority group\n",
    "        \n",
    "    label_noise is in [0,1]\n",
    "    \n",
    "    diff_dist is true if minority and majority have different\n",
    "        underlying sampling distributions\n",
    "        \n",
    "    show_vis displays the distribution of outcomes\n",
    "\n",
    "'''\n",
    "\n",
    "def get_synthetic_data(n, r, num_numerical_feats, num_cat_feats,\n",
    "                       cat_levels = [], label_noise = 0, \n",
    "                       diff_dist = False, show_vis = False):\n",
    "    \n",
    "    assert 0 < r < 1, \"R must be in [0,1]\"\n",
    "    num_min = int(n*r)\n",
    "    num_maj = n - num_min\n",
    "    \n",
    "    cat_probs = list(np.multiply(np.ones(num_cat_feats),0.5))\n",
    "    \n",
    "    # numerical feature params\n",
    "    means = list(np.zeros(num_numerical_feats))\n",
    "    cov_matrix = list(np.identity(num_numerical_feats))\n",
    "    \n",
    "    # generating the features\n",
    "    \n",
    "    num_features_min = np.random.multivariate_normal(means, cov_matrix, num_min)\n",
    "    num_features_maj = np.random.multivariate_normal(means, cov_matrix, num_maj)\n",
    "    num_features = np.concatenate((num_features_min, num_features_maj))\n",
    "        \n",
    "    # binary sensitive attribute, 0: minority, 1: majority\n",
    "    sens_feat = get_sensitive_feat(r=r, n=n) \n",
    "    \n",
    "    assert len(cat_levels) == num_cat_feats, \\\n",
    "    \"Each categorical feature must have a specification for its number of levels\"\n",
    "    cat_feats = get_cat_feats(num_cat_feats, cat_levels, n)\n",
    "    \n",
    "    # generating outcomes (continuous and binary)\n",
    "    if diff_dist:\n",
    "        # causal effect params\n",
    "        effect_param_min = [0.5, -0.2, 0.1] \n",
    "        effect_param_maj = [-0.7, 0.5, 1.5]\n",
    "        outcome_continuous_min = 1/(1+np.exp(-np.matmul(num_features_min,effect_param_min))) # logit model + no added noise\n",
    "        outcome_continuous_maj = 1/(1+np.exp(-np.matmul(num_features_maj,effect_param_maj)))\n",
    "        outcome_binary_min = np.where(outcome_continuous_min >= 0.5, 1, 0) # logistic decision boundary\n",
    "        outcome_binary_maj = np.where(outcome_continuous_maj >= 0.5, 1, 0)\n",
    "        outcome_binary = np.hstack((outcome_binary_min, outcome_binary_maj)).reshape(n,1)\n",
    "        if show_vis:\n",
    "            distribution_plot(outcome_continuous_min, outcome_continuous_maj, diff_dist=True)\n",
    "    else:\n",
    "        effect_param = [0.5, -0.2, 0.1] \n",
    "        outcome_continuous = 1/(1+np.exp(-np.matmul(num_features,effect_param))) # logit model + no added noise\n",
    "        outcome_binary = np.where(outcome_continuous >= 0.5, 1, 0).reshape(n,1) # logistic decision boundary\n",
    "        if show_vis:\n",
    "            distribution_plot(outcome=outcome_continuous, diff_dist=False)\n",
    "\n",
    "    \n",
    "    temp_data = np.hstack((num_features, cat_feats, sens_feat, outcome_binary))\n",
    "    np.random.shuffle(temp_data) # randomly shuffle the data\n",
    "    \n",
    "    df_synthetic = pd.DataFrame(temp_data)\n",
    "    df_synthetic.columns = get_attribute_names(df_synthetic, num_numerical_feats, num_cat_feats)\n",
    "    \n",
    "    assert 0 <= label_noise < 1, \"Label noise must be in [0, 1)\"\n",
    "    if label_noise != 0:\n",
    "        df_synthetic = flip_labels(df_synthetic, label_noise)\n",
    "    \n",
    "    # add to dictionary of datasets\n",
    "    path_synthetic = 'Datasets/synthetic_data.csv'\n",
    "    df_synthetic.to_csv(path_synthetic)\n",
    "    add_dataset(Dataset('synthetic', path_synthetic, cat_cols=[], num_cols=[], synthetic=True, sens_attr = \"sens_feat\"))\n",
    "    \n",
    "    return df_synthetic\n",
    "\n",
    "# example usage\n",
    "df_synthetic = get_synthetic_data(1000, 0.25, 3, 2, [2,3], diff_dist=True, label_noise = 0.1)"
   ]
  },
  {
   "cell_type": "markdown",
   "id": "dba55ee6",
   "metadata": {},
   "source": [
    "# EDA"
   ]
  },
  {
   "cell_type": "markdown",
   "id": "ad765b98",
   "metadata": {},
   "source": [
    "Feel free to use any/all of the following EDA functions and/or add your own!"
   ]
  },
  {
   "cell_type": "code",
   "execution_count": 249,
   "id": "7b887484",
   "metadata": {
    "ExecuteTime": {
     "end_time": "2021-06-10T20:42:07.151553Z",
     "start_time": "2021-06-10T20:42:07.125905Z"
    },
    "tags": []
   },
   "outputs": [
    {
     "data": {
      "text/html": [
       "<div>\n",
       "<style scoped>\n",
       "    .dataframe tbody tr th:only-of-type {\n",
       "        vertical-align: middle;\n",
       "    }\n",
       "\n",
       "    .dataframe tbody tr th {\n",
       "        vertical-align: top;\n",
       "    }\n",
       "\n",
       "    .dataframe thead th {\n",
       "        text-align: right;\n",
       "    }\n",
       "</style>\n",
       "<table border=\"1\" class=\"dataframe\">\n",
       "  <thead>\n",
       "    <tr style=\"text-align: right;\">\n",
       "      <th></th>\n",
       "      <th>num1</th>\n",
       "      <th>num2</th>\n",
       "      <th>num3</th>\n",
       "      <th>cat1</th>\n",
       "      <th>cat2</th>\n",
       "      <th>sens_feat</th>\n",
       "      <th>outcome</th>\n",
       "    </tr>\n",
       "  </thead>\n",
       "  <tbody>\n",
       "    <tr>\n",
       "      <th>0</th>\n",
       "      <td>0.776551</td>\n",
       "      <td>0.843440</td>\n",
       "      <td>-1.273584</td>\n",
       "      <td>1.0</td>\n",
       "      <td>1.0</td>\n",
       "      <td>0.0</td>\n",
       "      <td>0.0</td>\n",
       "    </tr>\n",
       "    <tr>\n",
       "      <th>1</th>\n",
       "      <td>1.129366</td>\n",
       "      <td>0.107933</td>\n",
       "      <td>0.067378</td>\n",
       "      <td>1.0</td>\n",
       "      <td>2.0</td>\n",
       "      <td>0.0</td>\n",
       "      <td>0.0</td>\n",
       "    </tr>\n",
       "    <tr>\n",
       "      <th>2</th>\n",
       "      <td>0.914137</td>\n",
       "      <td>0.316224</td>\n",
       "      <td>-0.748179</td>\n",
       "      <td>1.0</td>\n",
       "      <td>1.0</td>\n",
       "      <td>0.0</td>\n",
       "      <td>1.0</td>\n",
       "    </tr>\n",
       "    <tr>\n",
       "      <th>3</th>\n",
       "      <td>-3.537400</td>\n",
       "      <td>0.844789</td>\n",
       "      <td>-0.520245</td>\n",
       "      <td>1.0</td>\n",
       "      <td>2.0</td>\n",
       "      <td>1.0</td>\n",
       "      <td>0.0</td>\n",
       "    </tr>\n",
       "    <tr>\n",
       "      <th>4</th>\n",
       "      <td>0.377242</td>\n",
       "      <td>-0.974418</td>\n",
       "      <td>0.318796</td>\n",
       "      <td>0.0</td>\n",
       "      <td>0.0</td>\n",
       "      <td>1.0</td>\n",
       "      <td>0.0</td>\n",
       "    </tr>\n",
       "  </tbody>\n",
       "</table>\n",
       "</div>"
      ],
      "text/plain": [
       "       num1      num2      num3  cat1  cat2  sens_feat  outcome\n",
       "0  0.776551  0.843440 -1.273584   1.0   1.0        0.0      0.0\n",
       "1  1.129366  0.107933  0.067378   1.0   2.0        0.0      0.0\n",
       "2  0.914137  0.316224 -0.748179   1.0   1.0        0.0      1.0\n",
       "3 -3.537400  0.844789 -0.520245   1.0   2.0        1.0      0.0\n",
       "4  0.377242 -0.974418  0.318796   0.0   0.0        1.0      0.0"
      ]
     },
     "execution_count": 249,
     "metadata": {},
     "output_type": "execute_result"
    }
   ],
   "source": [
    "# take a peek at the first few data points\n",
    "df_synthetic.head()"
   ]
  },
  {
   "cell_type": "code",
   "execution_count": 250,
   "id": "3e5f3bce",
   "metadata": {
    "ExecuteTime": {
     "end_time": "2021-06-10T20:42:07.426895Z",
     "start_time": "2021-06-10T20:42:07.269718Z"
    },
    "tags": []
   },
   "outputs": [
    {
     "data": {
      "image/png": "[encoded data removed]",
      "text/plain": [
       "<Figure size 432x288 with 1 Axes>"
      ]
     },
     "metadata": {
      "needs_background": "light"
     },
     "output_type": "display_data"
    }
   ],
   "source": [
    "def plot_counts(df, attr):\n",
    "    if attr in df.columns:\n",
    "        df[attr].value_counts(normalize=True).plot.barh()\n",
    "    else:\n",
    "        print(\"Error! Please enter a valid feature.\")\n",
    "\n",
    "# example\n",
    "plot_counts(df_synthetic, 'sens_feat')"
   ]
  },
  {
   "cell_type": "code",
   "execution_count": 266,
   "id": "243c0f8c",
   "metadata": {
    "ExecuteTime": {
     "end_time": "2021-06-10T20:42:08.016753Z",
     "start_time": "2021-06-10T20:42:07.428807Z"
    },
    "tags": []
   },
   "outputs": [
    {
     "name": "stdout",
     "output_type": "stream",
     "text": [
      "0.0\n",
      "1.0\n"
     ]
    },
    {
     "data": {
      "image/png": "[encoded data removed]",
      "text/plain": [
       "<Figure size 360x360 with 1 Axes>"
      ]
     },
     "metadata": {
      "needs_background": "light"
     },
     "output_type": "display_data"
    },
    {
     "data": {
      "image/png": "[encoded data removed]",
      "text/plain": [
       "<Figure size 360x360 with 1 Axes>"
      ]
     },
     "metadata": {
      "needs_background": "light"
     },
     "output_type": "display_data"
    }
   ],
   "source": [
    "def group_by_plot(df, attr1, attr2):\n",
    "    for val in list(df[attr1].unique()):\n",
    "        print(val)\n",
    "        temp = df[df[attr1] == val]\n",
    "        sns.displot(temp[attr2])\n",
    "\n",
    "# example\n",
    "group_by_plot(df_synthetic, 'sens_feat', 'outcome')"
   ]
  },
  {
   "cell_type": "markdown",
   "id": "11a7fd87-924b-41b0-a505-25cac190e8cd",
   "metadata": {},
   "source": [
    "# Preparation"
   ]
  },
  {
   "cell_type": "markdown",
   "id": "360cd4bf-693e-4ebb-a1c4-4d5051dea153",
   "metadata": {},
   "source": [
    "### Train/Test Split\n",
    "\n",
    "NOTES: \n",
    "1. Whether you input your own data, choose one of our provided datasets, or generate synthetic data, we will consider this to be the UNBIASED GROUND TRUTH.\n",
    "2. Then, we will split the data, with the first part being the data which we will inject bias into and the second part being the unbiased ground truth testing data.\n",
    "\n"
   ]
  },
  {
   "cell_type": "code",
   "execution_count": 252,
   "id": "b3140d33-1003-43b3-baad-49203e16f68f",
   "metadata": {},
   "outputs": [],
   "source": [
    "'''\n",
    "    train_ratio: is the proportion of data examples in the training set\n",
    "        (1-train_ratio is proportion in unbiased testing set)\n",
    "'''\n",
    "def train_test_split(df, train_ratio = 0.5):\n",
    "    \n",
    "    df_train = df.loc[range(0,int(len(df_synthetic)*train_ratio)), :]\n",
    "    df_test = df_synthetic.loc[range(int(len(df_synthetic)*train_ratio)+1, len(df_synthetic)), :]\n",
    "    \n",
    "    return df_train, df_test\n",
    "\n",
    "df_train, df_test = train_test_split(df_synthetic)"
   ]
  },
  {
   "cell_type": "markdown",
   "id": "0d385bc3-625f-4726-a2b3-7dac659fda04",
   "metadata": {},
   "source": [
    "### Data Preprocessing"
   ]
  },
  {
   "cell_type": "code",
   "execution_count": 253,
   "id": "547edc7c-4c9b-4f47-8a61-9398fc20f79f",
   "metadata": {
    "tags": []
   },
   "outputs": [],
   "source": [
    "# format data\n",
    "X_train = df_train.iloc[:, :-1].values\n",
    "y_train = df_train.iloc[:, -1].values"
   ]
  },
  {
   "cell_type": "code",
   "execution_count": 254,
   "id": "c8977856-1125-4a45-bd5d-eac6cb5158b1",
   "metadata": {},
   "outputs": [],
   "source": [
    "'''\n",
    "\n",
    "This function separates the minority and majority classes\n",
    "\n",
    "Parameters:\n",
    "    \n",
    "    sens_attr: sensitive attribute\n",
    "    maj_val: value of sens_attr which indicates majority class\n",
    "    min_val: value of sens_attr which indicates minority class\n",
    "\n",
    "'''\n",
    "def get_maj_min(df, sens_attr, maj_val, min_val):\n",
    "    assert sens_attr in list(df.columns), \"Sensitive attribute must be a column in the dataframe!\"\n",
    "    df_majority = df_train[df_train[sens_attr] == maj_val]\n",
    "    df_minority = df_train[df_train[sens_attr] == min_val]\n",
    "    \n",
    "    return df_majority, df_minority\n",
    "\n",
    "df_majority, df_minority = get_maj_min(df_train, 'sens_feat', 1, 0)"
   ]
  },
  {
   "cell_type": "markdown",
   "id": "773aa0d5-dcda-4c49-93f1-8d8d116972c9",
   "metadata": {},
   "source": [
    "#### One-Hot Encoding (ONLY for non-synthetic data)"
   ]
  },
  {
   "cell_type": "code",
   "execution_count": 255,
   "id": "13da5c4e",
   "metadata": {
    "ExecuteTime": {
     "end_time": "2021-06-10T20:42:08.750322Z",
     "start_time": "2021-06-10T20:42:08.728346Z"
    },
    "collapsed": true,
    "jupyter": {
     "outputs_hidden": true
    },
    "tags": []
   },
   "outputs": [
    {
     "ename": "ValueError",
     "evalue": "all features must be in [0, 5] or [-6, 0]",
     "output_type": "error",
     "traceback": [
      "\u001b[0;31m---------------------------------------------------------------------------\u001b[0m",
      "\u001b[0;31mIndexError\u001b[0m                                Traceback (most recent call last)",
      "\u001b[0;32m~/cfpb-venv/lib/python3.7/site-packages/sklearn/utils/__init__.py\u001b[0m in \u001b[0;36m_get_column_indices\u001b[0;34m(X, key)\u001b[0m\n\u001b[1;32m    364\u001b[0m         \u001b[0;32mtry\u001b[0m\u001b[0;34m:\u001b[0m\u001b[0;34m\u001b[0m\u001b[0;34m\u001b[0m\u001b[0m\n\u001b[0;32m--> 365\u001b[0;31m             \u001b[0midx\u001b[0m \u001b[0;34m=\u001b[0m \u001b[0m_safe_indexing\u001b[0m\u001b[0;34m(\u001b[0m\u001b[0mnp\u001b[0m\u001b[0;34m.\u001b[0m\u001b[0marange\u001b[0m\u001b[0;34m(\u001b[0m\u001b[0mn_columns\u001b[0m\u001b[0;34m)\u001b[0m\u001b[0;34m,\u001b[0m \u001b[0mkey\u001b[0m\u001b[0;34m)\u001b[0m\u001b[0;34m\u001b[0m\u001b[0;34m\u001b[0m\u001b[0m\n\u001b[0m\u001b[1;32m    366\u001b[0m         \u001b[0;32mexcept\u001b[0m \u001b[0mIndexError\u001b[0m \u001b[0;32mas\u001b[0m \u001b[0me\u001b[0m\u001b[0;34m:\u001b[0m\u001b[0;34m\u001b[0m\u001b[0;34m\u001b[0m\u001b[0m\n",
      "\u001b[0;32m~/cfpb-venv/lib/python3.7/site-packages/sklearn/utils/__init__.py\u001b[0m in \u001b[0;36m_safe_indexing\u001b[0;34m(X, indices, axis)\u001b[0m\n\u001b[1;32m    343\u001b[0m     \u001b[0;32melif\u001b[0m \u001b[0mhasattr\u001b[0m\u001b[0;34m(\u001b[0m\u001b[0mX\u001b[0m\u001b[0;34m,\u001b[0m \u001b[0;34m\"shape\"\u001b[0m\u001b[0;34m)\u001b[0m\u001b[0;34m:\u001b[0m\u001b[0;34m\u001b[0m\u001b[0;34m\u001b[0m\u001b[0m\n\u001b[0;32m--> 344\u001b[0;31m         \u001b[0;32mreturn\u001b[0m \u001b[0m_array_indexing\u001b[0m\u001b[0;34m(\u001b[0m\u001b[0mX\u001b[0m\u001b[0;34m,\u001b[0m \u001b[0mindices\u001b[0m\u001b[0;34m,\u001b[0m \u001b[0mindices_dtype\u001b[0m\u001b[0;34m,\u001b[0m \u001b[0maxis\u001b[0m\u001b[0;34m=\u001b[0m\u001b[0maxis\u001b[0m\u001b[0;34m)\u001b[0m\u001b[0;34m\u001b[0m\u001b[0;34m\u001b[0m\u001b[0m\n\u001b[0m\u001b[1;32m    345\u001b[0m     \u001b[0;32melse\u001b[0m\u001b[0;34m:\u001b[0m\u001b[0;34m\u001b[0m\u001b[0;34m\u001b[0m\u001b[0m\n",
      "\u001b[0;32m~/cfpb-venv/lib/python3.7/site-packages/sklearn/utils/__init__.py\u001b[0m in \u001b[0;36m_array_indexing\u001b[0;34m(array, key, key_dtype, axis)\u001b[0m\n\u001b[1;32m    178\u001b[0m         \u001b[0mkey\u001b[0m \u001b[0;34m=\u001b[0m \u001b[0mlist\u001b[0m\u001b[0;34m(\u001b[0m\u001b[0mkey\u001b[0m\u001b[0;34m)\u001b[0m\u001b[0;34m\u001b[0m\u001b[0;34m\u001b[0m\u001b[0m\n\u001b[0;32m--> 179\u001b[0;31m     \u001b[0;32mreturn\u001b[0m \u001b[0marray\u001b[0m\u001b[0;34m[\u001b[0m\u001b[0mkey\u001b[0m\u001b[0;34m]\u001b[0m \u001b[0;32mif\u001b[0m \u001b[0maxis\u001b[0m \u001b[0;34m==\u001b[0m \u001b[0;36m0\u001b[0m \u001b[0;32melse\u001b[0m \u001b[0marray\u001b[0m\u001b[0;34m[\u001b[0m\u001b[0;34m:\u001b[0m\u001b[0;34m,\u001b[0m \u001b[0mkey\u001b[0m\u001b[0;34m]\u001b[0m\u001b[0;34m\u001b[0m\u001b[0;34m\u001b[0m\u001b[0m\n\u001b[0m\u001b[1;32m    180\u001b[0m \u001b[0;34m\u001b[0m\u001b[0m\n",
      "\u001b[0;31mIndexError\u001b[0m: index 8 is out of bounds for axis 0 with size 6",
      "\nThe above exception was the direct cause of the following exception:\n",
      "\u001b[0;31mValueError\u001b[0m                                Traceback (most recent call last)",
      "\u001b[0;32m<ipython-input-255-742b122954ca>\u001b[0m in \u001b[0;36m<module>\u001b[0;34m\u001b[0m\n\u001b[1;32m     11\u001b[0m \u001b[0mcat_cols\u001b[0m \u001b[0;34m=\u001b[0m \u001b[0mget_cat_cols\u001b[0m\u001b[0;34m(\u001b[0m\u001b[0mdatasets\u001b[0m\u001b[0;34m[\u001b[0m\u001b[0;34m'student_por'\u001b[0m\u001b[0;34m]\u001b[0m\u001b[0;34m)\u001b[0m\u001b[0;34m\u001b[0m\u001b[0;34m\u001b[0m\u001b[0m\n\u001b[1;32m     12\u001b[0m \u001b[0mct\u001b[0m \u001b[0;34m=\u001b[0m \u001b[0mColumnTransformer\u001b[0m\u001b[0;34m(\u001b[0m\u001b[0mtransformers\u001b[0m\u001b[0;34m=\u001b[0m\u001b[0;34m[\u001b[0m\u001b[0;34m(\u001b[0m\u001b[0;34m'encoder'\u001b[0m\u001b[0;34m,\u001b[0m \u001b[0mOneHotEncoder\u001b[0m\u001b[0;34m(\u001b[0m\u001b[0;34m)\u001b[0m\u001b[0;34m,\u001b[0m \u001b[0mcat_cols\u001b[0m\u001b[0;34m)\u001b[0m\u001b[0;34m]\u001b[0m\u001b[0;34m,\u001b[0m \u001b[0mremainder\u001b[0m\u001b[0;34m=\u001b[0m\u001b[0;34m'passthrough'\u001b[0m\u001b[0;34m)\u001b[0m\u001b[0;34m\u001b[0m\u001b[0;34m\u001b[0m\u001b[0m\n\u001b[0;32m---> 13\u001b[0;31m \u001b[0mX_train\u001b[0m \u001b[0;34m=\u001b[0m \u001b[0mnp\u001b[0m\u001b[0;34m.\u001b[0m\u001b[0marray\u001b[0m\u001b[0;34m(\u001b[0m\u001b[0mct\u001b[0m\u001b[0;34m.\u001b[0m\u001b[0mfit_transform\u001b[0m\u001b[0;34m(\u001b[0m\u001b[0mX\u001b[0m\u001b[0;34m)\u001b[0m\u001b[0;34m)\u001b[0m\u001b[0;34m\u001b[0m\u001b[0;34m\u001b[0m\u001b[0m\n\u001b[0m",
      "\u001b[0;32m~/cfpb-venv/lib/python3.7/site-packages/sklearn/compose/_column_transformer.py\u001b[0m in \u001b[0;36mfit_transform\u001b[0;34m(self, X, y)\u001b[0m\n\u001b[1;32m    503\u001b[0m         \u001b[0mself\u001b[0m\u001b[0;34m.\u001b[0m\u001b[0m_validate_transformers\u001b[0m\u001b[0;34m(\u001b[0m\u001b[0;34m)\u001b[0m\u001b[0;34m\u001b[0m\u001b[0;34m\u001b[0m\u001b[0m\n\u001b[1;32m    504\u001b[0m         \u001b[0mself\u001b[0m\u001b[0;34m.\u001b[0m\u001b[0m_validate_column_callables\u001b[0m\u001b[0;34m(\u001b[0m\u001b[0mX\u001b[0m\u001b[0;34m)\u001b[0m\u001b[0;34m\u001b[0m\u001b[0;34m\u001b[0m\u001b[0m\n\u001b[0;32m--> 505\u001b[0;31m         \u001b[0mself\u001b[0m\u001b[0;34m.\u001b[0m\u001b[0m_validate_remainder\u001b[0m\u001b[0;34m(\u001b[0m\u001b[0mX\u001b[0m\u001b[0;34m)\u001b[0m\u001b[0;34m\u001b[0m\u001b[0;34m\u001b[0m\u001b[0m\n\u001b[0m\u001b[1;32m    506\u001b[0m \u001b[0;34m\u001b[0m\u001b[0m\n\u001b[1;32m    507\u001b[0m         \u001b[0mresult\u001b[0m \u001b[0;34m=\u001b[0m \u001b[0mself\u001b[0m\u001b[0;34m.\u001b[0m\u001b[0m_fit_transform\u001b[0m\u001b[0;34m(\u001b[0m\u001b[0mX\u001b[0m\u001b[0;34m,\u001b[0m \u001b[0my\u001b[0m\u001b[0;34m,\u001b[0m \u001b[0m_fit_transform_one\u001b[0m\u001b[0;34m)\u001b[0m\u001b[0;34m\u001b[0m\u001b[0;34m\u001b[0m\u001b[0m\n",
      "\u001b[0;32m~/cfpb-venv/lib/python3.7/site-packages/sklearn/compose/_column_transformer.py\u001b[0m in \u001b[0;36m_validate_remainder\u001b[0;34m(self, X)\u001b[0m\n\u001b[1;32m    330\u001b[0m         \u001b[0mcols\u001b[0m \u001b[0;34m=\u001b[0m \u001b[0;34m[\u001b[0m\u001b[0;34m]\u001b[0m\u001b[0;34m\u001b[0m\u001b[0;34m\u001b[0m\u001b[0m\n\u001b[1;32m    331\u001b[0m         \u001b[0;32mfor\u001b[0m \u001b[0mcolumns\u001b[0m \u001b[0;32min\u001b[0m \u001b[0mself\u001b[0m\u001b[0;34m.\u001b[0m\u001b[0m_columns\u001b[0m\u001b[0;34m:\u001b[0m\u001b[0;34m\u001b[0m\u001b[0;34m\u001b[0m\u001b[0m\n\u001b[0;32m--> 332\u001b[0;31m             \u001b[0mcols\u001b[0m\u001b[0;34m.\u001b[0m\u001b[0mextend\u001b[0m\u001b[0;34m(\u001b[0m\u001b[0m_get_column_indices\u001b[0m\u001b[0;34m(\u001b[0m\u001b[0mX\u001b[0m\u001b[0;34m,\u001b[0m \u001b[0mcolumns\u001b[0m\u001b[0;34m)\u001b[0m\u001b[0;34m)\u001b[0m\u001b[0;34m\u001b[0m\u001b[0;34m\u001b[0m\u001b[0m\n\u001b[0m\u001b[1;32m    333\u001b[0m \u001b[0;34m\u001b[0m\u001b[0m\n\u001b[1;32m    334\u001b[0m         \u001b[0mremaining_idx\u001b[0m \u001b[0;34m=\u001b[0m \u001b[0msorted\u001b[0m\u001b[0;34m(\u001b[0m\u001b[0mset\u001b[0m\u001b[0;34m(\u001b[0m\u001b[0mrange\u001b[0m\u001b[0;34m(\u001b[0m\u001b[0mself\u001b[0m\u001b[0;34m.\u001b[0m\u001b[0m_n_features\u001b[0m\u001b[0;34m)\u001b[0m\u001b[0;34m)\u001b[0m \u001b[0;34m-\u001b[0m \u001b[0mset\u001b[0m\u001b[0;34m(\u001b[0m\u001b[0mcols\u001b[0m\u001b[0;34m)\u001b[0m\u001b[0;34m)\u001b[0m\u001b[0;34m\u001b[0m\u001b[0;34m\u001b[0m\u001b[0m\n",
      "\u001b[0;32m~/cfpb-venv/lib/python3.7/site-packages/sklearn/utils/__init__.py\u001b[0m in \u001b[0;36m_get_column_indices\u001b[0;34m(X, key)\u001b[0m\n\u001b[1;32m    368\u001b[0m                 \u001b[0;34m'all features must be in [0, {}] or [-{}, 0]'\u001b[0m\u001b[0;34m\u001b[0m\u001b[0;34m\u001b[0m\u001b[0m\n\u001b[1;32m    369\u001b[0m                 \u001b[0;34m.\u001b[0m\u001b[0mformat\u001b[0m\u001b[0;34m(\u001b[0m\u001b[0mn_columns\u001b[0m \u001b[0;34m-\u001b[0m \u001b[0;36m1\u001b[0m\u001b[0;34m,\u001b[0m \u001b[0mn_columns\u001b[0m\u001b[0;34m)\u001b[0m\u001b[0;34m\u001b[0m\u001b[0;34m\u001b[0m\u001b[0m\n\u001b[0;32m--> 370\u001b[0;31m             ) from e\n\u001b[0m\u001b[1;32m    371\u001b[0m         \u001b[0;32mreturn\u001b[0m \u001b[0mnp\u001b[0m\u001b[0;34m.\u001b[0m\u001b[0matleast_1d\u001b[0m\u001b[0;34m(\u001b[0m\u001b[0midx\u001b[0m\u001b[0;34m)\u001b[0m\u001b[0;34m.\u001b[0m\u001b[0mtolist\u001b[0m\u001b[0;34m(\u001b[0m\u001b[0;34m)\u001b[0m\u001b[0;34m\u001b[0m\u001b[0;34m\u001b[0m\u001b[0m\n\u001b[1;32m    372\u001b[0m     \u001b[0;32melif\u001b[0m \u001b[0mkey_dtype\u001b[0m \u001b[0;34m==\u001b[0m \u001b[0;34m'str'\u001b[0m\u001b[0;34m:\u001b[0m\u001b[0;34m\u001b[0m\u001b[0;34m\u001b[0m\u001b[0m\n",
      "\u001b[0;31mValueError\u001b[0m: all features must be in [0, 5] or [-6, 0]"
     ]
    }
   ],
   "source": [
    "# OHE categorical features (prompt for user's choice here?)\n",
    "\n",
    "# get indices of categorical columns\n",
    "def get_cat_cols(dataset):\n",
    "    df = dataset.df\n",
    "    res = []\n",
    "    for col in dataset.cat_cols:\n",
    "        res.append(df.columns.get_loc(col))\n",
    "    return res\n",
    "\n",
    "cat_cols = get_cat_cols(datasets['student_por'])\n",
    "ct = ColumnTransformer(transformers=[('encoder', OneHotEncoder(), cat_cols)], remainder='passthrough')\n",
    "X_train = np.array(ct.fit_transform(X))"
   ]
  },
  {
   "cell_type": "code",
   "execution_count": 256,
   "id": "ec781149-5558-4461-94d2-fc6db7f35513",
   "metadata": {},
   "outputs": [],
   "source": [
    "# format data\n",
    "X_true = df_test.iloc[:, :-1].values\n",
    "y_true = df_test.iloc[:, -1].values\n",
    "\n",
    "sens_attrs_true = [df_test[datasets['synthetic'].sens_attr]]"
   ]
  },
  {
   "cell_type": "markdown",
   "id": "950918b3",
   "metadata": {},
   "source": [
    "# Bias Injection (TODO - put different biases into another file?)"
   ]
  },
  {
   "cell_type": "markdown",
   "id": "aae1aacf-4096-440e-ab87-c83cd1b1ffef",
   "metadata": {},
   "source": [
    "### List of Biases\n",
    "1. Under-Sampling (of Minority)\n",
    "2. Over-Sampling (of Majority)\n",
    "3. Omitted Variable"
   ]
  },
  {
   "cell_type": "markdown",
   "id": "3a35ca10-2100-4c43-94b6-732f3c581244",
   "metadata": {},
   "source": [
    "#### Under-Sampling Minority Class\n",
    "\n",
    "Note: you will need to input $\\beta$, which is the probability of deleting an example from the minority class. For example, if $\\beta = 0.25$ then each example in the training data will be deleted with probability $0.25$, which will result in approximately $25\\%$ of the total minority class examples being deleted."
   ]
  },
  {
   "cell_type": "code",
   "execution_count": 257,
   "id": "049d95a2-097c-4ce9-a349-0c8abfc7977b",
   "metadata": {},
   "outputs": [],
   "source": [
    "'''\n",
    "\n",
    "This function performs the under-sampling bias injection\n",
    "\n",
    "'''\n",
    "def under_sample(df_minority, beta):\n",
    "    X_min = df_minority.iloc[:, :].values\n",
    "    cols = df_minority.columns\n",
    "    \n",
    "    # delete each example with probability beta\n",
    "    for i in range(len(X_min)):\n",
    "        if random.uniform(0,1) <= beta:\n",
    "            X_min = np.delete(X_min, 0, axis=0)\n",
    "    \n",
    "    df_minority = pd.DataFrame(pd.DataFrame(X_min))\n",
    "    df_minority.columns = cols\n",
    "    return df_minority\n",
    "\n",
    "\n",
    "'''\n",
    "\n",
    "Parameters:\n",
    "\n",
    "    beta = probability of deleting example from minority\n",
    "    sens_attr: sensitive attribute\n",
    "    maj_val: value of sens_attr which indicates majority class\n",
    "    min_val: value of sens_attr which indicates minority class\n",
    "    positive: true if only under-sampling POSITIVELY labeled examples from minority\n",
    "        if false: under-sampling positively and negatively labeled examples\n",
    "\n",
    "'''\n",
    "def under_sampling(df_train, beta, sens_attr,\n",
    "                    maj_val, min_val, positive = False):\n",
    "    df_majority = df_train[df_train[sens_attr] == maj_val]\n",
    "    df_minority = df_train[df_train[sens_attr] == min_val]\n",
    "    \n",
    "    if positive:\n",
    "        label = list(df_train.columns)[-1]\n",
    "        df_minority_negative = df_minority[df_minority[label] == 0.0]\n",
    "        df_minority_positive = df_minority[df_minority[label] == 1.0]\n",
    "\n",
    "        # data frame without positively labeled examples from minority class\n",
    "        df_total = pd.concat([df_majority, df_minority_negative])\n",
    "    \n",
    "        # under-sampling process\n",
    "        df_undersampled = under_sample(df_minority_positive, beta)\n",
    "        \n",
    "    else:\n",
    "        df_total = df_majority\n",
    "        df_undersampled = under_sample(df_minority, beta)\n",
    "\n",
    "    # combine undersampled and original majority class to create dataset\n",
    "    df_concat = pd.concat([df_total,df_undersampled])\n",
    "    \n",
    "    return df_concat.sample(frac=1) # reshuffle rows of dataframe randomly"
   ]
  },
  {
   "cell_type": "markdown",
   "id": "f12aa7c2-9c3a-4c9e-89f1-c36e245ab75f",
   "metadata": {},
   "source": [
    "#### Omitted Variable\n",
    "\n",
    "Note: if you choose to remove the sensitive feature, you will no longer be able to impose a fairness intervention! Resulting comparisons will simply be between regular ml models trained with and without the sensitive attribute."
   ]
  },
  {
   "cell_type": "code",
   "execution_count": 315,
   "id": "81d697a0-75ef-44ef-916e-9c90681395ce",
   "metadata": {},
   "outputs": [],
   "source": [
    "# must input a Dataset object\n",
    "def omitted_variable(df, short_name, col_to_del, is_sens_attr = False):\n",
    "    assert col_to_del in list(df.columns), \"Column to delete must be a column in the dataframe!\"\n",
    "    assert short_name in datasets.keys(), \"Dataset with that short name doesn't exist!\"\n",
    "    \n",
    "    if is_sens_attr:\n",
    "        datasets[short_name].has_sens_attr = False\n",
    "        \n",
    "    return df.drop(col_to_del, axis = 1)"
   ]
  },
  {
   "cell_type": "markdown",
   "id": "38c4d2e3",
   "metadata": {},
   "source": [
    "### Bias Selection"
   ]
  },
  {
   "cell_type": "code",
   "execution_count": 325,
   "id": "6b65ae5e-949a-49a4-ae9c-4b79dd62c99a",
   "metadata": {},
   "outputs": [],
   "source": [
    "biases = dict()\n",
    "\n",
    "def add_bias(bias_func, short_name):\n",
    "    biases[short_name] = bias_func\n",
    "\n",
    "# example usage\n",
    "add_bias(under_sampling, 'under_sampling')\n",
    "add_bias(omitted_variable, 'omitted_variable')"
   ]
  },
  {
   "cell_type": "markdown",
   "id": "dd676d70",
   "metadata": {},
   "source": [
    "### Bias Injection"
   ]
  },
  {
   "cell_type": "code",
   "execution_count": 326,
   "id": "8d39470a-30e9-4690-b225-77fefad47b94",
   "metadata": {},
   "outputs": [],
   "source": [
    "df_bias = biases['under_sampling'](df_train, 0.5, 'sens_feat', 1, 0, True)\n",
    "#df_bias = biases['omitted_variable'](df_train, 'synthetic', 'num1', is_sens_attr=False)\n",
    "\n",
    "# for fairness measures later\n",
    "if datasets['synthetic'].has_sens_attr:\n",
    "    df_sens = df_bias[datasets['synthetic'].sens_attr]\n",
    "\n",
    "# format data\n",
    "X_bias = df_bias.iloc[:, :-1].values\n",
    "y_bias = df_bias.iloc[:, -1].values"
   ]
  },
  {
   "cell_type": "markdown",
   "id": "9530fe48",
   "metadata": {},
   "source": [
    "### Post-Injection Visualization (TODO - update for each type of bias)"
   ]
  },
  {
   "cell_type": "markdown",
   "id": "84403b44",
   "metadata": {},
   "source": [
    "# Model"
   ]
  },
  {
   "cell_type": "markdown",
   "id": "25f6827f",
   "metadata": {},
   "source": [
    "### Model Selection + Training (TODO: modularize)"
   ]
  },
  {
   "cell_type": "code",
   "execution_count": 327,
   "id": "72d79618",
   "metadata": {
    "ExecuteTime": {
     "end_time": "2021-06-10T20:42:09.057618Z",
     "start_time": "2021-06-10T20:42:08.942574Z"
    }
   },
   "outputs": [],
   "source": [
    "# modularize and add data struct of different ml techniques\n",
    "\n",
    "classifier = DecisionTreeClassifier(min_samples_leaf = 10, max_depth = 4)\n",
    "\n",
    "classifier_true = classifier.fit(X_true, y_true)\n",
    "y_pred_truth = classifier_true.predict(X_true)\n",
    "\n",
    "classifier_bias = classifier.fit(X_bias, y_bias)\n",
    "y_pred_bias = classifier_bias.predict(X_bias)\n",
    "y_pred_bias_on_true = classifier_bias.predict(X_true)\n",
    "\n",
    "sens_feat_true = df_test['sens_feat']\n",
    "sens_feat_bias = df_sens"
   ]
  },
  {
   "cell_type": "markdown",
   "id": "ff477ccd",
   "metadata": {},
   "source": [
    "### Model Performance (TODO: modularize)"
   ]
  },
  {
   "cell_type": "code",
   "execution_count": 328,
   "id": "adf0a2b3",
   "metadata": {
    "ExecuteTime": {
     "end_time": "2021-06-10T20:42:09.231352Z",
     "start_time": "2021-06-10T20:42:09.225108Z"
    },
    "tags": []
   },
   "outputs": [
    {
     "name": "stdout",
     "output_type": "stream",
     "text": [
      "Accuracy of Ground Truth Model on Ground Truth Data:  0.779559118236473\n",
      "Accuracy of Biased Model on Biased Data:  0.7616033755274262\n",
      "Accuracy of Biased Model on Ground Truth Data:  0.7094188376753507\n"
     ]
    }
   ],
   "source": [
    "print(\"Accuracy of Ground Truth Model on Ground Truth Data: \", accuracy_score(y_pred_truth, y_true))\n",
    "print(\"Accuracy of Biased Model on Biased Data: \", accuracy_score(y_pred_bias, y_bias))\n",
    "print(\"Accuracy of Biased Model on Ground Truth Data: \", accuracy_score(y_pred_bias_on_true, y_true))"
   ]
  },
  {
   "cell_type": "code",
   "execution_count": 329,
   "id": "17d049d3",
   "metadata": {
    "ExecuteTime": {
     "end_time": "2021-06-10T21:16:04.515563Z",
     "start_time": "2021-06-10T21:16:04.499948Z"
    },
    "tags": []
   },
   "outputs": [
    {
     "name": "stdout",
     "output_type": "stream",
     "text": [
      "Overall Accuracy:  0.779559118236473\n",
      "Group Accuracy :  sens_feat\n",
      "0.0    0.790323\n",
      "1.0       0.776\n",
      "Name: accuracy_score, dtype: object\n",
      "\n",
      "\n",
      "Overall Selection Rate:  0.5110220440881763\n",
      "Group Selection Rate :  sens_feat\n",
      "0.0    0.548387\n",
      "1.0    0.498667\n",
      "Name: selection_rate, dtype: object\n"
     ]
    }
   ],
   "source": [
    "# Ground Truth Model on Ground Truth Data\n",
    "\n",
    "gm_true = MetricFrame(accuracy_score, y_true, y_pred_truth, sensitive_features = sens_feat_true)\n",
    "print(\"Overall Accuracy: \", gm_true.overall)\n",
    "print(\"Group Accuracy : \", gm_true.by_group)\n",
    "\n",
    "print(\"\\n\")\n",
    "\n",
    "sr_true = MetricFrame(selection_rate, y_true, y_pred_truth, sensitive_features = sens_feat_true)\n",
    "print(\"Overall Selection Rate: \", sr_true.overall)\n",
    "print(\"Group Selection Rate : \", sr_true.by_group)"
   ]
  },
  {
   "cell_type": "markdown",
   "id": "8c85b935",
   "metadata": {},
   "source": [
    "# Fairness Intervention"
   ]
  },
  {
   "cell_type": "code",
   "execution_count": 330,
   "id": "9352481e-0335-44c0-a4a9-288d4d8af531",
   "metadata": {},
   "outputs": [],
   "source": [
    "constraints = [EqualizedOdds(), DemographicParity(), ErrorRateParity(),\n",
    "               FalsePositiveRateParity(), TruePositiveRateParity()]"
   ]
  },
  {
   "cell_type": "code",
   "execution_count": 331,
   "id": "928281e3",
   "metadata": {
    "ExecuteTime": {
     "end_time": "2021-06-09T17:51:42.957037Z",
     "start_time": "2021-06-09T17:51:41.643906Z"
    }
   },
   "outputs": [],
   "source": [
    "constraint = DemographicParity()\n",
    "mitigator_true = ExponentiatedGradient(classifier_true, constraint)\n",
    "mitigator_true.fit(X_true, y_true, sensitive_features = sens_feat_true)\n",
    "y_pred_mitigated_true = mitigator_true.predict(X_true)"
   ]
  },
  {
   "cell_type": "code",
   "execution_count": 332,
   "id": "d8aec404-870a-4506-9224-4c0d8e07d081",
   "metadata": {},
   "outputs": [],
   "source": [
    "constraint = DemographicParity()\n",
    "mitigator_bias = ExponentiatedGradient(classifier_bias, constraint)\n",
    "mitigator_bias.fit(X_bias, y_bias, sensitive_features = sens_feat_bias)\n",
    "y_pred_mitigated_bias = mitigator_bias.predict(X_bias)\n",
    "y_pred_mitigated_bias_on_true = mitigator_bias.predict(X_true)"
   ]
  },
  {
   "cell_type": "markdown",
   "id": "2b7ea20d",
   "metadata": {},
   "source": [
    "# Evaluation"
   ]
  },
  {
   "cell_type": "code",
   "execution_count": 333,
   "id": "40d85690-7232-405f-9256-d987abd01b22",
   "metadata": {},
   "outputs": [
    {
     "name": "stdout",
     "output_type": "stream",
     "text": [
      "Accuracy of Ground Truth Model + Fairness Intervention on Ground Truth Data:  0.781563126252505\n",
      "Accuracy of Biased Model + Fairness Intervention on Ground Truth Data:  0.685370741482966\n"
     ]
    }
   ],
   "source": [
    "print(\"Accuracy of Ground Truth Model + Fairness Intervention on Ground Truth Data: \",\n",
    "      accuracy_score(y_pred_mitigated_true, y_true))\n",
    "\n",
    "print(\"Accuracy of Biased Model + Fairness Intervention on Ground Truth Data: \",\n",
    "      accuracy_score(y_pred_mitigated_bias_on_true, y_true))"
   ]
  },
  {
   "cell_type": "code",
   "execution_count": 334,
   "id": "ac90ed8c",
   "metadata": {
    "ExecuteTime": {
     "end_time": "2021-06-09T17:51:42.986098Z",
     "start_time": "2021-06-09T17:51:42.973042Z"
    },
    "tags": []
   },
   "outputs": [
    {
     "name": "stdout",
     "output_type": "stream",
     "text": [
      "Overall Accuracy:  0.781563126252505\n",
      "Group Accuracy :  sens_feat\n",
      "0.0    0.758065\n",
      "1.0    0.789333\n",
      "Name: accuracy_score, dtype: object\n",
      "\n",
      "\n",
      "Overall Selection Rate:  0.4849699398797595\n",
      "Group Selection Rate :  sens_feat\n",
      "0.0    0.467742\n",
      "1.0    0.490667\n",
      "Name: selection_rate, dtype: object\n"
     ]
    }
   ],
   "source": [
    "# Ground Truth Model + Fairness Intervention on Ground Truth Data\n",
    "\n",
    "gm_mitigated = MetricFrame(accuracy_score, y_true, y_pred_mitigated_true, sensitive_features = sens_feat_true)\n",
    "print(\"Overall Accuracy: \", gm_mitigated.overall)\n",
    "print(\"Group Accuracy : \", gm_mitigated.by_group)\n",
    "\n",
    "print(\"\\n\")\n",
    "\n",
    "sr_mitigated = MetricFrame(selection_rate, y_true, y_pred_mitigated_true, sensitive_features = sens_feat_true)\n",
    "print(\"Overall Selection Rate: \", sr_mitigated.overall)\n",
    "print(\"Group Selection Rate : \", sr_mitigated.by_group)"
   ]
  },
  {
   "cell_type": "code",
   "execution_count": 335,
   "id": "a3d5b09e-f879-4a03-ba44-9a1a66999204",
   "metadata": {},
   "outputs": [
    {
     "name": "stdout",
     "output_type": "stream",
     "text": [
      "Overall Accuracy:  0.685370741482966\n",
      "Group Accuracy :  sens_feat\n",
      "0.0    0.693548\n",
      "1.0    0.682667\n",
      "Name: accuracy_score, dtype: object\n",
      "\n",
      "\n",
      "Overall Selection Rate:  0.5571142284569138\n",
      "Group Selection Rate :  sens_feat\n",
      "0.0    0.629032\n",
      "1.0    0.533333\n",
      "Name: selection_rate, dtype: object\n"
     ]
    }
   ],
   "source": [
    "# Biased Model + Fairness Intervention on Ground Truth Data\n",
    "\n",
    "gm_mitigated_bias_on_true = MetricFrame(accuracy_score, y_true, y_pred_mitigated_bias_on_true, sensitive_features = sens_feat_true)\n",
    "print(\"Overall Accuracy: \", gm_mitigated_bias_on_true.overall)\n",
    "print(\"Group Accuracy : \", gm_mitigated_bias_on_true.by_group)\n",
    "\n",
    "print(\"\\n\")\n",
    "\n",
    "sr_mitigated_bias_on_true = MetricFrame(selection_rate, y_true, y_pred_mitigated_bias_on_true, sensitive_features = sens_feat_true)\n",
    "print(\"Overall Selection Rate: \", sr_mitigated_bias_on_true.overall)\n",
    "print(\"Group Selection Rate : \", sr_mitigated_bias_on_true.by_group)"
   ]
  },
  {
   "cell_type": "markdown",
   "id": "95e393d0-149b-4da6-91ba-e74e5225b0e2",
   "metadata": {},
   "source": [
    "# Trade-Off Visualization"
   ]
  },
  {
   "cell_type": "code",
   "execution_count": 350,
   "id": "48687919-16ae-446a-8db3-7120e07fc5b7",
   "metadata": {},
   "outputs": [],
   "source": [
    "# if verbose, shows \"Finished iteration: ... \"\n",
    "# if apply_fairness, uses fairness intervention\n",
    "def tradeoff_visualization(bias_amts, classifier, X_true, y_true, \n",
    "                           df_train, sensitive_feature = \"cat\",\n",
    "                           is_synthetic = False,\n",
    "                           apply_fairness = False, verbose = False):\n",
    "    \n",
    "    accuracy_on_true = []\n",
    "    accuracy_on_biased = []\n",
    "    accuracy_on_true_mitigated = []\n",
    "    accuracy_on_biased_mitigated = []\n",
    "    \n",
    "    count = 0\n",
    "\n",
    "    classifier_true = classifier.fit(X_true, y_true)\n",
    "    y_pred_truth = classifier_true.predict(X_true)\n",
    "\n",
    "    for bias in bias_amts:\n",
    "        \n",
    "        df_bias = biases['under_sampling'](df_train, bias, 'sens_feat', 1, 0, True)\n",
    "        sens_feat_bias = df_bias[sensitive_feature]\n",
    "\n",
    "        # format data\n",
    "        X_bias = df_bias.iloc[:, :-1].values\n",
    "        y_bias = df_bias.iloc[:, -1].values\n",
    "        \n",
    "        if not is_synthetic:\n",
    "            # OHE\n",
    "            ct = ColumnTransformer(transformers=[('encoder', OneHotEncoder(), cat_cols)], remainder='passthrough')\n",
    "            X_bias_true = np.array(ct.fit_transform(X_bias))\n",
    "        else:\n",
    "            X_bias_true = X_bias\n",
    "        \n",
    "        y_bias_true = df_bias.iloc[:, -1].values\n",
    "        \n",
    "        classifier_bias = classifier.fit(X_bias_true, y_bias_true)\n",
    "        \n",
    "        if apply_fairness:\n",
    "            constraint = DemographicParity()\n",
    "            classifier_mitigated_bias = ExponentiatedGradient(classifier_bias, constraint)\n",
    "            classifier_mitigated_bias.fit(X_bias_true, y_bias_true, sensitive_features = sens_feat_bias)\n",
    "            \n",
    "            # testing on biased data WITH fairness intervention\n",
    "            y_pred_mitigated_bias = classifier_mitigated_bias.predict(X_bias_true)\n",
    "            \n",
    "            # testing on GT data WITH fairness intervention\n",
    "            y_pred_mitigated_bias_on_true = classifier_mitigated_bias.predict(X_true)\n",
    "        \n",
    "        # testing on biased data withOUT fairness intervention\n",
    "        y_pred_bias = classifier_bias.predict(X_bias_true)\n",
    "        \n",
    "        # testing on GT data withOUT fairness intervention\n",
    "        y_pred_bias_on_true = classifier_bias.predict(X_true)\n",
    "\n",
    "        # model performance\n",
    "        \n",
    "        if apply_fairness:\n",
    "            # on biased data\n",
    "            acc_bias_mitigated = accuracy_score(y_pred=y_pred_mitigated_bias, y_true=y_bias_true)\n",
    "            accuracy_on_biased_mitigated.append(acc_bias_mitigated)\n",
    "            # on GT data\n",
    "            acc_bias_mitigated_on_true = accuracy_score(y_pred=y_pred_mitigated_bias_on_true, y_true=y_true)\n",
    "            accuracy_on_true_mitigated.append(acc_bias_mitigated_on_true)\n",
    "        \n",
    "        # on biased data\n",
    "        acc_bias = accuracy_score(y_pred=y_pred_bias, y_true=y_bias_true)\n",
    "        accuracy_on_biased.append(acc_bias)\n",
    "        # on GT data\n",
    "        acc_bias_on_true = accuracy_score(y_pred=y_pred_bias_on_true, y_true=y_true)\n",
    "        accuracy_on_true.append(acc_bias_on_true)\n",
    "        \n",
    "        if verbose:\n",
    "            print(\"Finished Iteration: \", count)\n",
    "            count +=1\n",
    "\n",
    "    return bias_amts, accuracy_on_biased, accuracy_on_true, \\\n",
    "           accuracy_on_biased_mitigated, accuracy_on_true_mitigated"
   ]
  },
  {
   "cell_type": "code",
   "execution_count": 351,
   "id": "99bfd23f-6f40-45d1-a77f-e93d9b460459",
   "metadata": {},
   "outputs": [],
   "source": [
    "def accuracy_visualizations(bias_amts,\n",
    "                            accuracy_on_biased = [], accuracy_on_true = [],\n",
    "                            accuracy_on_biased_mitigated = [],\n",
    "                            accuracy_on_true_mitigated = [], fairness = False):\n",
    "    \n",
    "    if fairness:\n",
    "        plt.figure(figsize=(17,7))\n",
    "\n",
    "        plt.plot(bias_amts, accuracy_on_true_mitigated, label = 'Ground Truth')\n",
    "        plt.plot(bias_amts, accuracy_on_biased_mitigated, label = 'Biased Data')\n",
    "        plt.xlabel(\"Amount of Bias (number of minority samples removed)\")\n",
    "        plt.ylabel(\"Accuracy Score\")\n",
    "        plt.axhline(y=accuracy_score(y_pred_truth, y_true), color = \"green\", label = \"Ground Truth Model Accuracy\", alpha = 0.5)\n",
    "        plt.title(\"Biased Model Accuracy\")\n",
    "        plt.ylim(0.92, 0.99)\n",
    "        plt.legend()\n",
    "\n",
    "        plt.show()\n",
    "        \n",
    "    else:\n",
    "        plt.figure(figsize=(17,7))\n",
    "\n",
    "        plt.plot(bias_amts, accuracy_on_true, label = 'Ground Truth')\n",
    "        plt.plot(bias_amts, accuracy_on_biased, label = 'Biased Data')\n",
    "        plt.xlabel(\"Amount of Bias (number of minority samples removed)\")\n",
    "        plt.ylabel(\"Accuracy Score\")\n",
    "        plt.axhline(y=accuracy_score(y_pred_truth, y_true), color = \"green\", label = \"Ground Truth Model Accuracy\", alpha = 0.5)\n",
    "        plt.title(\"Biased Model Accuracy\")\n",
    "        plt.ylim(0.92, 0.99)\n",
    "        plt.legend()\n",
    "\n",
    "        plt.show()"
   ]
  },
  {
   "cell_type": "code",
   "execution_count": 352,
   "id": "52f79ddb-5166-423d-862f-72e9f33f9214",
   "metadata": {},
   "outputs": [],
   "source": [
    "def total_visualizations(bias_amts, accuracy_on_biased, accuracy_on_true,\n",
    "                        accuracy_on_biased_mitigated, accuracy_on_true_mitigated):\n",
    "    plt.figure(figsize=(17,7))\n",
    "    plt.subplot(1,2,1)\n",
    "    plt.plot(bias_amts, accuracy_on_biased, label = 'Tested On Biased Data + No Fairness Intervention', color = \"red\")\n",
    "    plt.plot(bias_amts, accuracy_on_biased_mitigated, label = 'Tested On Biased Data + Fairness Intervention', color = \"green\")\n",
    "    plt.plot(bias_amts, accuracy_on_true, label = 'Tested On Ground Truth + No Fairness Intervention', color = \"blue\")\n",
    "    plt.plot(bias_amts, accuracy_on_true_mitigated, label = 'Tested On Ground Truth + Fairness Intervention', color = \"purple\")\n",
    "    plt.xlabel(\"Amount of Bias (number of minority samples removed)\")\n",
    "    plt.ylabel(\"Accuracy Score\")\n",
    "    #plt.axhline(y=accuracy_score(y_pred_truth, y_true), color = \"green\", label = \"Ground Truth Model On Ground Truth Data\", alpha = 0.5)\n",
    "    plt.title(\"Accuracy of Biased Model (trained on biased data)\")\n",
    "    plt.legend()\n",
    "    plt.show()"
   ]
  },
  {
   "cell_type": "code",
   "execution_count": null,
   "id": "1a0c372b-e5f1-4ed0-824d-80f8ba5f0a65",
   "metadata": {},
   "outputs": [
    {
     "name": "stdout",
     "output_type": "stream",
     "text": [
      "Finished Iteration:  0\n",
      "Finished Iteration:  1\n",
      "Finished Iteration:  2\n",
      "Finished Iteration:  3\n"
     ]
    }
   ],
   "source": [
    "classifier = LogisticRegression()\n",
    "\n",
    "bias_amts = np.divide(list(range(10,-1,-1)),10)\n",
    "\n",
    "bias_amts, accuracy_on_biased, accuracy_on_true, \\\n",
    "           accuracy_on_biased_mitigated, accuracy_on_true_mitigated = \\\n",
    "tradeoff_visualization(bias_amts, classifier, X_true, y_true,\n",
    "                       df_train, \"sens_feat\", is_synthetic=True,\n",
    "                       apply_fairness=True, verbose=True)"
   ]
  },
  {
   "cell_type": "code",
   "execution_count": null,
   "id": "58396013-0031-4828-8796-c2b12e7b59af",
   "metadata": {},
   "outputs": [],
   "source": [
    "total_visualizations(bias_amts, accuracy_on_biased, accuracy_on_true,\n",
    "                     accuracy_on_biased_mitigated, accuracy_on_true_mitigated)"
   ]
  },
  {
   "cell_type": "code",
   "execution_count": null,
   "id": "57adf5da-98b8-469f-8fbf-3496eb0a291e",
   "metadata": {},
   "outputs": [],
   "source": []
  }
 ],
 "metadata": {
  "kernelspec": {
   "display_name": "Python 3",
   "language": "python",
   "name": "python3"
  },
  "language_info": {
   "codemirror_mode": {
    "name": "ipython",
    "version": 3
   },
   "file_extension": ".py",
   "mimetype": "text/x-python",
   "name": "python",
   "nbconvert_exporter": "python",
   "pygments_lexer": "ipython3",
   "version": "3.7.3"
  }
 },
 "nbformat": 4,
 "nbformat_minor": 5
}
