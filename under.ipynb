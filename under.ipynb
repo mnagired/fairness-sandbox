{
 "cells": [
  {
   "cell_type": "markdown",
   "id": "d5e91243",
   "metadata": {
    "ExecuteTime": {
     "end_time": "2021-06-08T20:41:26.879421Z",
     "start_time": "2021-06-08T20:41:26.876140Z"
    }
   },
   "source": [
    "# Under-Representation Bias"
   ]
  },
  {
   "cell_type": "markdown",
   "id": "00909876",
   "metadata": {},
   "source": [
    "This notebook recreates the finding that Equalized Odds constrained model can recover from under-representation bias."
   ]
  },
  {
   "cell_type": "markdown",
   "id": "0a42ced1",
   "metadata": {},
   "source": [
    "### Setup\n",
    "\n",
    "Please run the code block below to install the necessary packages (if needed)."
   ]
  },
  {
   "cell_type": "code",
   "execution_count": 1,
   "id": "4a692724",
   "metadata": {
    "ExecuteTime": {
     "end_time": "2021-06-10T20:42:02.586362Z",
     "start_time": "2021-06-10T20:42:02.581026Z"
    }
   },
   "outputs": [],
   "source": [
    "import pandas as pd\n",
    "import numpy as np\n",
    "import matplotlib.pyplot as plt\n",
    "import seaborn as sns\n",
    "\n",
    "from sklearn.metrics import confusion_matrix, accuracy_score, f1_score, roc_curve, auc\n",
    "from collections import Counter\n",
    "\n",
    "import fairlearn\n",
    "from fairlearn.metrics import *\n",
    "from fairlearn.reductions import *\n",
    "import aif360\n",
    "\n",
    "import copy"
   ]
  },
  {
   "cell_type": "markdown",
   "id": "da59e303",
   "metadata": {},
   "source": [
    "# Data + EDA"
   ]
  },
  {
   "cell_type": "markdown",
   "id": "30a51666",
   "metadata": {},
   "source": [
    "### Dataset Class"
   ]
  },
  {
   "cell_type": "code",
   "execution_count": 2,
   "id": "996906d7",
   "metadata": {
    "ExecuteTime": {
     "end_time": "2021-06-10T20:42:06.040700Z",
     "start_time": "2021-06-10T20:42:06.035368Z"
    }
   },
   "outputs": [],
   "source": [
    "class Dataset:\n",
    "    def __init__(self, short_name = '', path = '', cat_cols = [], num_cols = [], sep = '', synthetic = False):\n",
    "        self.short_name = short_name\n",
    "        self.path = path\n",
    "        self.cat_cols = cat_cols\n",
    "        self.num_cols = num_cols\n",
    "        if not synthetic:\n",
    "            self.df = pd.read_csv(path, sep = sep)"
   ]
  },
  {
   "cell_type": "markdown",
   "id": "5f38f1ae",
   "metadata": {},
   "source": [
    "### Popular Datasets"
   ]
  },
  {
   "cell_type": "code",
   "execution_count": 3,
   "id": "21b5fd8a",
   "metadata": {
    "ExecuteTime": {
     "end_time": "2021-06-10T20:42:06.330948Z",
     "start_time": "2021-06-10T20:42:06.325325Z"
    }
   },
   "outputs": [],
   "source": [
    "# each dataset is a dictionary where keys = short name, values = Dataset object\n",
    "\n",
    "datasets = dict()\n",
    "\n",
    "def add_dataset(dataset):\n",
    "    if not isinstance(dataset, Dataset):\n",
    "        print(\"Error! Please enter a valid Dataset object\")\n",
    "    else:\n",
    "        if dataset.short_name not in datasets.keys():\n",
    "            datasets[dataset.short_name] = dataset"
   ]
  },
  {
   "cell_type": "code",
   "execution_count": 4,
   "id": "e570253c",
   "metadata": {
    "ExecuteTime": {
     "end_time": "2021-06-10T20:42:06.534123Z",
     "start_time": "2021-06-10T20:42:06.464059Z"
    }
   },
   "outputs": [],
   "source": [
    "# example - adding a dataset and cleaning it\n",
    "path_adult_income = 'Datasets/adult.csv'\n",
    "\n",
    "# note, cat_cols doesn't include predictor - income\n",
    "cat_cols = ['workclass', 'education','marital-status', 'occupation', 'relationship', 'race',\n",
    "            'gender', 'native-country']\n",
    "num_cols = ['age', 'fnlwgt', 'educational-num', 'capital-gain', 'capital-loss', 'hours-per-week']\n",
    "adult_income = Dataset('adult_income', path_adult_income, cat_cols, num_cols, sep = \",\")\n",
    "add_dataset(adult_income)"
   ]
  },
  {
   "cell_type": "code",
   "execution_count": 5,
   "id": "e0c4616c-286a-4153-a351-e4f8618d5270",
   "metadata": {},
   "outputs": [],
   "source": [
    "cat = ['school', 'sex', 'address','famsize','Pstatus','Mjob','Fjob','reason',\n",
    "       'guardian','schoolsup','famsup','paid', 'activities','nursery','higher', 'internet','romantic']\n",
    "num = ['age', 'Medu', 'Fedu','traveltime','studytime','failures', 'famrel',\n",
    "       'freetime','goout','Dalc','Walc','health','absences','G1', 'G2', 'G3']\n",
    "\n",
    "add_dataset(Dataset(\"student_mat\", path='Datasets/student-mat.csv', cat_cols=cat, num_cols=num, sep = \";\"))\n",
    "add_dataset(Dataset(\"student_por\", path='Datasets/student-por.csv', cat_cols=cat, num_cols=num, sep = \";\"))"
   ]
  },
  {
   "cell_type": "markdown",
   "id": "e27ed9c2-357b-4e9b-bdbc-fd79654fac59",
   "metadata": {},
   "source": [
    "### Synthetic Dataset"
   ]
  },
  {
   "cell_type": "markdown",
   "id": "afa08dcb-da31-4b58-8a20-3f94d4d79bbf",
   "metadata": {},
   "source": [
    "#### Data Generation"
   ]
  },
  {
   "cell_type": "code",
   "execution_count": 6,
   "id": "d3b2dc79-09c4-4024-803d-845e4e9376f6",
   "metadata": {},
   "outputs": [
    {
     "name": "stdout",
     "output_type": "stream",
     "text": [
      "50.7 % positively labeled\n"
     ]
    },
    {
     "data": {
      "image/png": "[encoded data removed]",
      "text/plain": [
       "<Figure size 432x288 with 1 Axes>"
      ]
     },
     "metadata": {
      "needs_background": "light"
     },
     "output_type": "display_data"
    }
   ],
   "source": [
    "## create synthetic data as such:\n",
    "# 3 numerical features (Gaussian), 1 categorical (sensitive attribute), \n",
    "# linear outcome model, s.t. outcome = Ind[effect_param*features > threshold]\n",
    "\n",
    "# parameters\n",
    "threshold = 0 # binary label threshold (outcome > threshold => label=1, else 0)\n",
    "effect_param = [0.5, -0.2, 0.1] # causal effect parameter (to create outcomes)\n",
    "n = 2000 # sample size\n",
    "prop_noise = 0.01 # proportion of noisy binary labels (set to 0 for totally linear)\n",
    "\n",
    "# categorical feature params\n",
    "# required: len(cat_probabilities) = n_cat_features\n",
    "n_cat_features = 2\n",
    "cat_probabilities = [0.5, 0.5] \n",
    "\n",
    "# numerical feature params\n",
    "num_feature_mean = [0, 0, 0]\n",
    "num_feature_cov = [[1, 0, 0], [0, 1, 0], [0, 0, 1]]\n",
    "\n",
    "# features\n",
    "num_features = np.random.multivariate_normal(num_feature_mean, num_feature_cov, n)\n",
    "cat_features = np.random.choice(np.arange(n_cat_features), n, cat_probabilities).reshape(n,1)\n",
    "\n",
    "# outcomes\n",
    "outcome_continuous = np.matmul(num_features,effect_param) # linear + no added noise\n",
    "outcome_binary = np.where(outcome_continuous > threshold, 1, 0).reshape(n,1)\n",
    "\n",
    "# binary label noise (flip prop_noise labels)\n",
    "flip_idx = np.random.randint(0,n,int(n*prop_noise))\n",
    "outcome_binary[flip_idx] = (outcome_binary[flip_idx]-1)*-1\n",
    "\n",
    "# joint = [numerical features, categorical features, & binary outcome]\n",
    "joint = np.hstack((num_features, cat_features, outcome_binary))\n",
    "\n",
    "# print pct of positive labels (to check threshold)\n",
    "print(round(np.mean(outcome_binary)*100,2), \"% positively labeled\")\n",
    "\n",
    "# plot distribution of continuous outcomes & binary threshold \n",
    "plt.hist(np.matmul(num_features,effect_param),label='continuous outcome',bins='auto')\n",
    "plt.axvline(threshold,color='red',label='threshold')\n",
    "plt.xlabel(\"continuous outcome (linear combination of numerical features)\")\n",
    "plt.ylabel(\"number of samples\")\n",
    "plt.title(\"distribution of outcomes & binary label threshold\")\n",
    "plt.legend()\n",
    "plt.show()"
   ]
  },
  {
   "cell_type": "code",
   "execution_count": 7,
   "id": "896aaa78-7aa1-4c44-8f14-4d6a7a52126a",
   "metadata": {},
   "outputs": [],
   "source": [
    "## add synthetic data to dataset list\n",
    "\n",
    "# save to file\n",
    "df_gaussian_synthetic = pd.DataFrame(pd.DataFrame(joint))\n",
    "df_gaussian_synthetic.columns = ['num1','num2','num3','cat','outcome']\n",
    "path_gaussian_synthetic = 'Datasets/gaussian_synthetic.csv'\n",
    "df_gaussian_synthetic.to_csv(path_gaussian_synthetic)\n",
    "\n",
    "# define Dataset object\n",
    "cat = df_gaussian_synthetic.columns.values[-1]\n",
    "num = df_gaussian_synthetic.columns.values[:-2]\n",
    "gaussian_synthetic = Dataset('gaussian_synthetic', path_gaussian_synthetic, cat_cols=cat, num_cols=num, synthetic=True)\n",
    "\n",
    "# add to dataset list\n",
    "add_dataset(gaussian_synthetic)"
   ]
  },
  {
   "cell_type": "markdown",
   "id": "dba55ee6",
   "metadata": {},
   "source": [
    "### EDA"
   ]
  },
  {
   "cell_type": "markdown",
   "id": "ad765b98",
   "metadata": {},
   "source": [
    "Feel free to use any/all of the following EDA functions and/or add your own!"
   ]
  },
  {
   "cell_type": "code",
   "execution_count": 8,
   "id": "7b887484",
   "metadata": {
    "ExecuteTime": {
     "end_time": "2021-06-10T20:42:07.151553Z",
     "start_time": "2021-06-10T20:42:07.125905Z"
    },
    "tags": []
   },
   "outputs": [],
   "source": [
    "df_por = datasets['student_por'].df\n",
    "\n",
    "df_adult = datasets['adult_income'].df\n",
    "df_adult = df_adult.replace('?', np.NaN)\n",
    "#print(df_adult.shape)\n",
    "df_adult = df_adult.dropna()\n",
    "#print(df_adult.shape)\n",
    "#df_adult.head()\n",
    "\n",
    "df_synthetic = df_gaussian_synthetic\n",
    "#df_synthetic.head()"
   ]
  },
  {
   "cell_type": "code",
   "execution_count": 9,
   "id": "3e5f3bce",
   "metadata": {
    "ExecuteTime": {
     "end_time": "2021-06-10T20:42:07.426895Z",
     "start_time": "2021-06-10T20:42:07.269718Z"
    },
    "tags": []
   },
   "outputs": [],
   "source": [
    "def plot_counts(df, attr):\n",
    "    if attr in df.columns:\n",
    "        df[attr].value_counts(normalize=True).plot.barh()\n",
    "    else:\n",
    "        print(\"Error! Please enter a valid feature.\")\n",
    "\n",
    "# example\n",
    "# plot_counts(df_por, 'sex')"
   ]
  },
  {
   "cell_type": "code",
   "execution_count": 10,
   "id": "243c0f8c",
   "metadata": {
    "ExecuteTime": {
     "end_time": "2021-06-10T20:42:08.016753Z",
     "start_time": "2021-06-10T20:42:07.428807Z"
    },
    "tags": []
   },
   "outputs": [],
   "source": [
    "def group_by_plot(df, attr1, attr2):\n",
    "    for val in list(df[attr1].unique()):\n",
    "        print(val)\n",
    "        temp = df[df[attr1] == val]\n",
    "        sns.displot(temp[attr2])\n",
    "\n",
    "# example\n",
    "# group_by_plot(df_por, 'sex', 'G3')"
   ]
  },
  {
   "cell_type": "code",
   "execution_count": 11,
   "id": "2122313b",
   "metadata": {
    "ExecuteTime": {
     "end_time": "2021-06-10T20:42:08.021705Z",
     "start_time": "2021-06-10T20:42:08.019363Z"
    }
   },
   "outputs": [],
   "source": [
    "# add support for sns.pairplot, plt.scatter, sns.heatmap"
   ]
  },
  {
   "cell_type": "markdown",
   "id": "11a7fd87-924b-41b0-a505-25cac190e8cd",
   "metadata": {},
   "source": [
    "# Preparation"
   ]
  },
  {
   "cell_type": "markdown",
   "id": "3f42c626",
   "metadata": {},
   "source": [
    "### Problem Formulation"
   ]
  },
  {
   "cell_type": "code",
   "execution_count": 12,
   "id": "6ce01c20",
   "metadata": {
    "ExecuteTime": {
     "end_time": "2021-06-10T20:42:08.045526Z",
     "start_time": "2021-06-10T20:42:08.023712Z"
    },
    "tags": []
   },
   "outputs": [
    {
     "data": {
      "text/plain": [
       "0    34014\n",
       "1    11208\n",
       "Name: label, dtype: int64"
      ]
     },
     "execution_count": 12,
     "metadata": {},
     "output_type": "execute_result"
    }
   ],
   "source": [
    "# Adult\n",
    "\n",
    "df_adult[\"label\"] = df_adult[\"income\"].map({'<=50K':0,\">50K\":1})\n",
    "\n",
    "df_adult[\"label\"].value_counts()"
   ]
  },
  {
   "cell_type": "code",
   "execution_count": 13,
   "id": "3482ee4f-f5ce-4c90-965e-6d6ff138ed17",
   "metadata": {},
   "outputs": [
    {
     "data": {
      "text/plain": [
       "0    512\n",
       "1    137\n",
       "Name: pass, dtype: int64"
      ]
     },
     "execution_count": 13,
     "metadata": {},
     "output_type": "execute_result"
    }
   ],
   "source": [
    "# Student Performance\n",
    "\n",
    "def threshold(df, g_1=0.3, g_2=0.3, g_3=0.4, threshold=11):\n",
    "    \"\"\"\n",
    "    Added \"pass/fail\" to make problem binary classification\n",
    "    \"\"\"\n",
    "    assert g_1 + g_2 + g_3 == 1, \"The sum of the percentages should be 1\"\n",
    "    assert 0 < threshold < 20, \"Threshold needs to be between 0 and 20\"\n",
    "    df['pass'] = df.apply(lambda row: 1\n",
    "                                 if g_1*row['G1'] + g_2*row['G2'] + g_3*row['G3'] >= threshold\n",
    "                                 else 0, axis=1)\n",
    "threshold(df_por, threshold=14)\n",
    "df_por['pass'].value_counts()"
   ]
  },
  {
   "cell_type": "markdown",
   "id": "9b641d84",
   "metadata": {},
   "source": [
    "We will now ask you to identify potential sensitive/protected attributes. Run the chunk below to see the different features in the dataset."
   ]
  },
  {
   "cell_type": "code",
   "execution_count": 14,
   "id": "7f0e0b0f",
   "metadata": {
    "ExecuteTime": {
     "end_time": "2021-06-10T20:42:08.414127Z",
     "start_time": "2021-06-10T20:42:08.410308Z"
    }
   },
   "outputs": [],
   "source": [
    "sens_attrs_por = [df_por['sex'], df_por['address']]\n",
    "sens_attrs_adult = [df_adult['gender'], df_adult['race']]\n",
    "sens_attrs_syn = [df_synthetic['cat']]"
   ]
  },
  {
   "cell_type": "markdown",
   "id": "0d385bc3-625f-4726-a2b3-7dac659fda04",
   "metadata": {},
   "source": [
    "### Data Preprocessing"
   ]
  },
  {
   "cell_type": "code",
   "execution_count": 15,
   "id": "547edc7c-4c9b-4f47-8a61-9398fc20f79f",
   "metadata": {
    "tags": []
   },
   "outputs": [],
   "source": [
    "# format data\n",
    "\n",
    "X_por = df_por.iloc[:, :-2].values\n",
    "y_por = df_por.iloc[:, -1].values\n",
    "\n",
    "X_adult = df_adult.iloc[:, :-2].values\n",
    "y_adult = df_adult.iloc[:, -1].values\n",
    "\n",
    "X_syn = df_synthetic.iloc[:, :-1].values\n",
    "y_syn = df_synthetic.iloc[:, -1].values"
   ]
  },
  {
   "cell_type": "code",
   "execution_count": 16,
   "id": "13da5c4e",
   "metadata": {
    "ExecuteTime": {
     "end_time": "2021-06-10T20:42:08.750322Z",
     "start_time": "2021-06-10T20:42:08.728346Z"
    }
   },
   "outputs": [],
   "source": [
    "# OHE categorical features (prompt for user's choice here?)\n",
    "from sklearn.compose import ColumnTransformer\n",
    "from sklearn.preprocessing import OneHotEncoder\n",
    "\n",
    "# get indices of categorical columns\n",
    "def get_cat_cols(dataset):\n",
    "    df = dataset.df\n",
    "    res = []\n",
    "    for col in dataset.cat_cols:\n",
    "        res.append(df.columns.get_loc(col))\n",
    "    return res\n",
    "\n",
    "cat_cols_por = get_cat_cols(datasets['student_por'])\n",
    "cat_cols_adult = get_cat_cols(datasets['adult_income'])\n",
    "\n",
    "ct_por = ColumnTransformer(transformers=[('encoder', OneHotEncoder(), cat_cols_por)], remainder='passthrough')\n",
    "\n",
    "X_por = np.array(ct_por.fit_transform(X_por))"
   ]
  },
  {
   "cell_type": "code",
   "execution_count": 17,
   "id": "40c31407-7cb0-4b25-b14d-993b9d068d28",
   "metadata": {},
   "outputs": [],
   "source": [
    "df_temp = df_adult.copy().drop(\"income\", axis = 1)\n",
    "df_temp = df_temp.drop(\"label\", axis = 1)\n",
    "#print(\"Before\", df_temp.shape)\n",
    "\n",
    "for cat_col in datasets['adult_income'].cat_cols:\n",
    "    encoded = pd.get_dummies(df_temp[cat_col])\n",
    "    df_temp = df_temp.drop(cat_col, axis = 1)\n",
    "    df_temp = df_temp.join(encoded)\n",
    "\n",
    "#print(\"After\", df_temp.shape)\n",
    "\n",
    "df_temp = df_temp.join(df_adult['label'])\n",
    "\n",
    "X_adult = np.array(df_temp.drop('label', axis = 1).values)"
   ]
  },
  {
   "cell_type": "code",
   "execution_count": 18,
   "id": "ec781149-5558-4461-94d2-fc6db7f35513",
   "metadata": {},
   "outputs": [],
   "source": [
    "X_por_true = X_por\n",
    "y_por_true = df_por['pass']\n",
    "\n",
    "X_adult_true = X_adult\n",
    "y_adult_true = df_adult['label']\n",
    "\n",
    "\n",
    "X_syn_true = X_syn\n",
    "y_syn_true = y_syn"
   ]
  },
  {
   "cell_type": "markdown",
   "id": "950918b3",
   "metadata": {},
   "source": [
    "# Bias Injection"
   ]
  },
  {
   "cell_type": "markdown",
   "id": "b4a976a1-4360-42a0-9114-d9d737fbaf74",
   "metadata": {},
   "source": [
    "### Class Distribution Visualization"
   ]
  },
  {
   "cell_type": "code",
   "execution_count": 19,
   "id": "2f644281-2f33-4acf-ab46-8f8c479704ca",
   "metadata": {
    "tags": []
   },
   "outputs": [
    {
     "name": "stdout",
     "output_type": "stream",
     "text": [
      "U    452\n",
      "R    197\n",
      "Name: address, dtype: int64 \n",
      "\n",
      "F    383\n",
      "M    266\n",
      "Name: sex, dtype: int64 \n",
      "\n",
      "White                 38903\n",
      "Black                  4228\n",
      "Asian-Pac-Islander     1303\n",
      "Amer-Indian-Eskimo      435\n",
      "Other                   353\n",
      "Name: race, dtype: int64 \n",
      "\n",
      "Male      30527\n",
      "Female    14695\n",
      "Name: gender, dtype: int64\n"
     ]
    }
   ],
   "source": [
    "#df_por.shape\n",
    "print(df_por['address'].value_counts(), \"\\n\")\n",
    "print(df_por['sex'].value_counts(), \"\\n\")\n",
    "\n",
    "print(df_adult['race'].value_counts(), \"\\n\")\n",
    "print(df_adult['gender'].value_counts())"
   ]
  },
  {
   "cell_type": "code",
   "execution_count": 20,
   "id": "01ac6f6a-a6d0-49cb-922f-feb8d502d8a5",
   "metadata": {
    "tags": []
   },
   "outputs": [
    {
     "data": {
      "text/plain": [
       "<AxesSubplot:>"
      ]
     },
     "execution_count": 20,
     "metadata": {},
     "output_type": "execute_result"
    },
    {
     "data": {
      "image/png": "[encoded data removed]",
      "text/plain": [
       "<Figure size 432x288 with 1 Axes>"
      ]
     },
     "metadata": {
      "needs_background": "light"
     },
     "output_type": "display_data"
    }
   ],
   "source": [
    "count = pd.value_counts(df_por['address'], sort = True)\n",
    "count.plot(kind = 'bar', rot = 0)"
   ]
  },
  {
   "cell_type": "markdown",
   "id": "dd676d70",
   "metadata": {},
   "source": [
    "### Bias Injection"
   ]
  },
  {
   "cell_type": "code",
   "execution_count": 21,
   "id": "8d39470a-30e9-4690-b225-77fefad47b94",
   "metadata": {},
   "outputs": [],
   "source": [
    "# separate based on protected attribute\n",
    "sens_values = sens_attrs_por[1].unique()\n",
    "\n",
    "# TODO - add prompt for user to specify which value is favored and which is unfavored\n",
    "\n",
    "df_favored_por = df_por[df_por['address'] == 'U']\n",
    "df_unfavored_por = df_por[df_por['address'] == 'R']\n",
    "\n",
    "df_favored_adult = df_adult[df_adult['gender'] == 'Male']\n",
    "df_unfavored_adult = df_adult[df_adult['gender'] == 'Female']\n",
    "\n",
    "df_favored_syn = df_synthetic[df_synthetic['cat'] == 0]\n",
    "df_unfavored_syn = df_synthetic[df_synthetic['cat'] == 1]"
   ]
  },
  {
   "cell_type": "code",
   "execution_count": 22,
   "id": "3d5ff053-d819-456a-b074-26069ca6c487",
   "metadata": {},
   "outputs": [],
   "source": [
    "# unfavored group with negative label\n",
    "df_unfavored_por_negative = df_unfavored_por[df_unfavored_por['pass'] == 0]\n",
    "df_unfavored_adult_negative = df_unfavored_adult[df_unfavored_adult['label'] == 0]\n",
    "df_unfavored_syn_negative = df_unfavored_syn[df_unfavored_syn['outcome'] == 0.0]\n",
    "\n",
    "\n",
    "# unfavored group with positive label (preferred)\n",
    "df_unfavored_por_positive = df_unfavored_por[df_unfavored_por['pass'] == 1]\n",
    "df_unfavored_adult_positive = df_unfavored_adult[df_unfavored_adult['label'] == 1]\n",
    "df_unfavored_syn_positive = df_unfavored_syn[df_unfavored_syn['outcome'] == 1.0]\n",
    "\n",
    "# differences in label counts for unfavored group\n",
    "df_unfavored_por['pass'].value_counts()\n",
    "\n",
    "df_total_por = pd.concat([df_favored_por, df_unfavored_por_negative])\n",
    "df_total_adult = pd.concat([df_favored_adult, df_unfavored_adult_negative])\n",
    "df_total_syn = pd.concat([df_favored_syn, df_unfavored_syn_negative])"
   ]
  },
  {
   "cell_type": "markdown",
   "id": "f143a18a-0041-4399-9821-2250410920de",
   "metadata": {},
   "source": [
    "### Under-Sampling Process"
   ]
  },
  {
   "cell_type": "code",
   "execution_count": 23,
   "id": "144c9d4b-2b36-4f86-b2be-d0c8b5c442cc",
   "metadata": {},
   "outputs": [
    {
     "name": "stdout",
     "output_type": "stream",
     "text": [
      "(649, 58) (649, 58)\n",
      "(45222, 104) (45055, 104)\n",
      "(2000, 4) (1949, 4)\n"
     ]
    }
   ],
   "source": [
    "# under-sampling process\n",
    "df_undersampled_por = df_unfavored_por_positive.sample(n=31, random_state=42)\n",
    "df_undersampled_adult = df_unfavored_adult_positive.sample(n=int(len(df_unfavored_adult_positive)*0.9), random_state=42)\n",
    "df_undersampled_syn = df_unfavored_syn_positive.sample(n=int(len(df_unfavored_syn_positive)*0.9), random_state=42)\n",
    "\n",
    "# combine undersampled and original favored class to create dataset\n",
    "df_concat_por = pd.concat([df_total_por,df_undersampled_por])\n",
    "df_concat_adult = pd.concat([df_total_adult,df_undersampled_adult])\n",
    "df_concat_syn = pd.concat([df_total_syn,df_undersampled_syn])\n",
    "#print(df_concat.shape)\n",
    "\n",
    "# for fairness measures later\n",
    "df_sens_por = df_concat_por['address']\n",
    "df_sens_adult = df_concat_adult['gender']\n",
    "df_sens_syn = df_concat_syn['cat']\n",
    "\n",
    "# format data\n",
    "X_por_bias = df_concat_por.iloc[:, :-2].values\n",
    "y_por_bias = df_concat_por.iloc[:, -1].values\n",
    "X_adult_bias = df_concat_adult.iloc[:, :-2].values\n",
    "y_adult_bias = df_concat_adult.iloc[:, -1].values\n",
    "X_syn_bias = df_concat_syn.iloc[:, :-1].values\n",
    "y_syn_bias = df_concat_syn.iloc[:, -1].values\n",
    "\n",
    "# OHE\n",
    "ct = ColumnTransformer(transformers=[('encoder', OneHotEncoder(), cat_cols_por)], remainder='passthrough')\n",
    "X_por_bias_true = np.array(ct.fit_transform(X_por_bias))\n",
    "y_por_bias_true = df_concat_por['pass']\n",
    "\n",
    "\n",
    "df_temp = df_concat_adult.copy().drop(\"income\", axis = 1)\n",
    "df_temp = df_temp.drop(\"label\", axis = 1)\n",
    "\n",
    "for cat_col in datasets['adult_income'].cat_cols:\n",
    "    encoded = pd.get_dummies(df_temp[cat_col])\n",
    "    df_temp = df_temp.drop(cat_col, axis = 1)\n",
    "    df_temp = df_temp.join(encoded)\n",
    "\n",
    "df_temp = df_temp.join(df_concat_adult['label'])\n",
    "\n",
    "X_adult_bias_true = np.array(df_temp.drop('label', axis = 1).values)\n",
    "y_adult_bias_true = df_concat_adult['label']\n",
    "\n",
    "\n",
    "X_syn_bias_true = X_syn_bias\n",
    "y_syn_bias_true = y_syn_bias\n",
    "\n",
    "print(X_por_true.shape, X_por_bias_true.shape)\n",
    "print(X_adult_true.shape, X_adult_bias_true.shape)\n",
    "print(X_syn_true.shape, X_syn_bias_true.shape)\n",
    "#print(y_true.value_counts(), \"\\n\\n\", y_bias_true.value_counts())"
   ]
  },
  {
   "cell_type": "markdown",
   "id": "9530fe48",
   "metadata": {},
   "source": [
    "\n",
    "### Post-Injection Visualization"
   ]
  },
  {
   "cell_type": "code",
   "execution_count": 25,
   "id": "593d694a-5b75-4cfa-9681-86d505bb5955",
   "metadata": {
    "tags": []
   },
   "outputs": [
    {
     "data": {
      "image/png": "[encoded data removed]",
      "text/plain": [
       "<Figure size 432x288 with 2 Axes>"
      ]
     },
     "metadata": {
      "needs_background": "light"
     },
     "output_type": "display_data"
    }
   ],
   "source": [
    "positive = len(df_unfavored_por['pass'] == 0)\n",
    "true_positive = len(df_unfavored_por['pass'] == 1)\n",
    "bias_positive = len(df_undersampled_por)\n",
    "\n",
    "x_vals = ['Negative', \"Positive\"]\n",
    "y_vals_true = [positive, true_positive]\n",
    "y_vals_bias = [positive, bias_positive]\n",
    "\n",
    "plt.subplot(1,2,1)\n",
    "plt.bar(x_vals, y_vals_true)\n",
    "plt.title(\"Ground Truth Unfavored \\nClass Labels\")\n",
    "plt.ylabel(\"Count\")\n",
    "\n",
    "plt.subplot(1,2,2)\n",
    "plt.bar(x_vals, y_vals_bias)\n",
    "plt.title(\"Under-Sampling Unfavored \\nClass Labels\")\n",
    "plt.ylim([0,500])\n",
    "\n",
    "plt.show()"
   ]
  },
  {
   "cell_type": "markdown",
   "id": "84403b44",
   "metadata": {},
   "source": [
    "# Model"
   ]
  },
  {
   "cell_type": "markdown",
   "id": "25f6827f",
   "metadata": {},
   "source": [
    "### Model Selection + Training (TODO: modularize)"
   ]
  },
  {
   "cell_type": "code",
   "execution_count": 58,
   "id": "72d79618",
   "metadata": {
    "ExecuteTime": {
     "end_time": "2021-06-10T20:42:09.057618Z",
     "start_time": "2021-06-10T20:42:08.942574Z"
    }
   },
   "outputs": [],
   "source": [
    "# modularize and add data struct of different ml techniques\n",
    "\n",
    "from sklearn.metrics import accuracy_score\n",
    "from sklearn.ensemble import RandomForestClassifier\n",
    "\n",
    "classifier = RandomForestClassifier(n_estimators = 5, criterion = 'entropy', random_state = 42)\n",
    "\n",
    "# Student Performance\n",
    "classifier_por_true = classifier.fit(X_por_true, y_por_true)\n",
    "y_por_pred_truth = classifier_por_true.predict(X_por_true)\n",
    "\n",
    "classifier_por_bias = classifier.fit(X_por_bias_true, y_por_bias_true)\n",
    "y_por_pred_bias = classifier_por_bias.predict(X_por_bias_true)\n",
    "y_por_pred_bias_on_true = classifier_por_bias.predict(X_por_true)\n",
    "\n",
    "\n",
    "# Adult Income\n",
    "classifier_adult_true = classifier.fit(X_adult_true, y_adult_true)\n",
    "y_adult_pred_truth = classifier_adult_true.predict(X_adult_true)\n",
    "\n",
    "classifier_adult_bias = classifier.fit(X_adult_bias_true, y_adult_bias_true)\n",
    "y_adult_pred_bias = classifier_adult_bias.predict(X_adult_bias_true)\n",
    "y_adult_pred_bias_on_true = classifier_adult_bias.predict(X_adult_true)\n",
    "\n",
    "\n",
    "# Synthetic Data\n",
    "classifier_syn_true = classifier.fit(X_syn_true, y_syn_true)\n",
    "y_syn_pred_truth = classifier_syn_true.predict(X_syn_true)\n",
    "\n",
    "classifier_syn_bias = classifier.fit(X_syn_bias_true, y_syn_bias_true)\n",
    "y_syn_pred_bias = classifier_syn_bias.predict(X_syn_bias_true)\n",
    "y_syn_pred_bias_on_true = classifier_syn_bias.predict(X_syn_true)"
   ]
  },
  {
   "cell_type": "markdown",
   "id": "ff477ccd",
   "metadata": {},
   "source": [
    "### Model Performance (TODO: modularize)"
   ]
  },
  {
   "cell_type": "code",
   "execution_count": 59,
   "id": "adf0a2b3",
   "metadata": {
    "ExecuteTime": {
     "end_time": "2021-06-10T20:42:09.231352Z",
     "start_time": "2021-06-10T20:42:09.225108Z"
    },
    "tags": []
   },
   "outputs": [
    {
     "name": "stdout",
     "output_type": "stream",
     "text": [
      "Student Performance\n",
      "Accuracy of Ground Truth Model on Ground Truth Data:  0.9938366718027735\n",
      "Accuracy of Biased Model on Biased Data:  0.9984591679506933\n",
      "Accuracy of Biased Model on Ground Truth Data:  0.9984591679506933\n",
      "\n",
      "Adult Income\n",
      "Accuracy of Ground Truth Model on Ground Truth Data:  0.9780858873999381\n",
      "Accuracy of Biased Model on Biased Data:  0.9778714904006215\n",
      "Accuracy of Biased Model on Ground Truth Data:  0.9762283844146654\n",
      "\n",
      "Synthetic Data\n",
      "Accuracy of Ground Truth Model on Ground Truth Data:  0.9925\n",
      "Accuracy of Biased Model on Biased Data:  0.995382247306311\n",
      "Accuracy of Biased Model on Ground Truth Data:  0.9955\n"
     ]
    }
   ],
   "source": [
    "print(\"Student Performance\")\n",
    "\n",
    "print(\"Accuracy of Ground Truth Model on Ground Truth Data: \", accuracy_score(y_por_pred_truth, y_por_true))\n",
    "print(\"Accuracy of Biased Model on Biased Data: \", accuracy_score(y_por_pred_bias, y_por_bias_true))\n",
    "print(\"Accuracy of Biased Model on Ground Truth Data: \", accuracy_score(y_por_pred_bias_on_true, y_por_true))\n",
    "\n",
    "print(\"\\nAdult Income\")\n",
    "\n",
    "print(\"Accuracy of Ground Truth Model on Ground Truth Data: \", accuracy_score(y_adult_pred_truth, y_adult_true))\n",
    "print(\"Accuracy of Biased Model on Biased Data: \", accuracy_score(y_adult_pred_bias, y_adult_bias_true))\n",
    "print(\"Accuracy of Biased Model on Ground Truth Data: \", accuracy_score(y_adult_pred_bias_on_true, y_adult_true))\n",
    "\n",
    "print(\"\\nSynthetic Data\")\n",
    "\n",
    "print(\"Accuracy of Ground Truth Model on Ground Truth Data: \", accuracy_score(y_syn_pred_truth, y_syn_true))\n",
    "print(\"Accuracy of Biased Model on Biased Data: \", accuracy_score(y_syn_pred_bias, y_syn_bias_true))\n",
    "print(\"Accuracy of Biased Model on Ground Truth Data: \", accuracy_score(y_syn_pred_bias_on_true, y_syn_true))"
   ]
  },
  {
   "cell_type": "code",
   "execution_count": null,
   "id": "17d049d3",
   "metadata": {
    "ExecuteTime": {
     "end_time": "2021-06-10T21:16:04.515563Z",
     "start_time": "2021-06-10T21:16:04.499948Z"
    },
    "tags": []
   },
   "outputs": [],
   "source": [
    "# Ground Truth Model on Ground Truth Data\n",
    "\n",
    "gm_true = MetricFrame(accuracy_score, y_true, y_pred_truth, sensitive_features = sens_attrs[1])\n",
    "print(\"Overall Accuracy: \", gm_true.overall)\n",
    "print(\"Group Accuracy : \", gm_true.by_group)\n",
    "\n",
    "print(\"\\n\")\n",
    "\n",
    "sr_true = MetricFrame(selection_rate, y_true, y_pred_truth, sensitive_features = sens_attrs[1])\n",
    "print(\"Overall Selection Rate: \", sr_true.overall)\n",
    "print(\"Group Selection Rate : \", sr_true.by_group)"
   ]
  },
  {
   "cell_type": "markdown",
   "id": "3c40158f",
   "metadata": {},
   "source": [
    "Thus, we can see that there is a **5% discrepancy** in the selection rate for Rural vs Urban students (with Urban students being preferred)"
   ]
  },
  {
   "cell_type": "code",
   "execution_count": null,
   "id": "ec50ddde-b262-4c56-bda3-70c2df3988f4",
   "metadata": {
    "tags": []
   },
   "outputs": [],
   "source": [
    "# Biased Model on Biased Data\n",
    "\n",
    "gm_bias = MetricFrame(accuracy_score, y_bias_true, y_pred_bias, sensitive_features = df_sens)\n",
    "print(\"Overall Accuracy: \", gm_bias.overall)\n",
    "print(\"Group Accuracy : \", gm_bias.by_group)\n",
    "\n",
    "print(\"\\n\")\n",
    "\n",
    "sr_bias = MetricFrame(selection_rate, y_bias_true, y_pred_bias, sensitive_features = df_sens)\n",
    "print(\"Overall Selection Rate: \", sr_bias.overall)\n",
    "print(\"Group Selection Rate : \", sr_bias.by_group)"
   ]
  },
  {
   "cell_type": "markdown",
   "id": "b9877b0a-453a-4c0e-9ac5-c95dbb92aa0f",
   "metadata": {},
   "source": [
    "Thus, we can see that there is now a **7% discrepancy due to under-sampling** in the selection rate for Rural vs Urban students (with Urban students being preferred) on biased data"
   ]
  },
  {
   "cell_type": "code",
   "execution_count": null,
   "id": "97b1ea82-14b2-47f6-9030-16bf6f11814a",
   "metadata": {},
   "outputs": [],
   "source": [
    "# Biased Model on Ground Truth Data\n",
    "\n",
    "gm_bias_on_true = MetricFrame(accuracy_score, y_true,\n",
    "                           y_pred_bias_on_true, sensitive_features = sens_attrs[1])\n",
    "print(\"Overall Accuracy: \", gm_bias_on_true.overall)\n",
    "print(\"Group Accuracy : \", gm_bias_on_true.by_group)\n",
    "\n",
    "print(\"\\n\")\n",
    "\n",
    "sr_bias_on_true = MetricFrame(selection_rate, y_true,\n",
    "                              y_pred_bias_on_true, sensitive_features = sens_attrs[1])\n",
    "print(\"Overall Selection Rate: \", sr_bias_on_true.overall)\n",
    "print(\"Group Selection Rate : \", sr_bias_on_true.by_group)"
   ]
  },
  {
   "cell_type": "markdown",
   "id": "a828b712-e2f9-47b2-b308-9d41b356b2cc",
   "metadata": {},
   "source": [
    "Thus, we see that the biased model has lower overall and subgroup accuracy on the ground truth data. \n",
    "Also, we can observe that the selection rate disparity increased ever so slightly with the biased model."
   ]
  },
  {
   "cell_type": "code",
   "execution_count": null,
   "id": "10d7a575",
   "metadata": {
    "ExecuteTime": {
     "end_time": "2021-06-10T21:16:54.784535Z",
     "start_time": "2021-06-10T21:16:54.725029Z"
    },
    "tags": []
   },
   "outputs": [],
   "source": [
    "print(\"Ground Truth Model on Ground Truth Data\")\n",
    "\n",
    "print(\"EOD:\", equalized_odds_difference(y_true=y_true, y_pred = y_pred_truth, sensitive_features=sens_attrs[1]))\n",
    "print(\"DPD:\", demographic_parity_difference(y_true=y_true, y_pred = y_pred_truth, sensitive_features=sens_attrs[1]))\n",
    "\n",
    "print(\"EOR:\", equalized_odds_ratio(y_true=y_true, y_pred = y_pred_truth, sensitive_features=sens_attrs[1]))\n",
    "print(\"DPR:\", demographic_parity_ratio(y_true=y_true, y_pred = y_pred_truth, sensitive_features=sens_attrs[1]))\n",
    "\n",
    "print(\"\\n\")\n",
    "\n",
    "print(\"Biased Model on Ground Truth Data\")\n",
    "\n",
    "print(\"EOD:\", equalized_odds_difference(y_true=y_true, y_pred = y_pred_bias_on_true, sensitive_features=sens_attrs[1]))\n",
    "print(\"DPD:\", demographic_parity_difference(y_true=y_true, y_pred = y_pred_bias_on_true, sensitive_features=sens_attrs[1]))\n",
    "\n",
    "print(\"EOR:\", equalized_odds_ratio(y_true=y_true, y_pred = y_pred_bias_on_true, sensitive_features=sens_attrs[1]))\n",
    "print(\"DPR:\", demographic_parity_ratio(y_true=y_true, y_pred = y_pred_bias_on_true, sensitive_features=sens_attrs[1]))"
   ]
  },
  {
   "cell_type": "markdown",
   "id": "8c85b935",
   "metadata": {},
   "source": [
    "# Fairness Intervention"
   ]
  },
  {
   "cell_type": "code",
   "execution_count": 36,
   "id": "3db7ace8-9024-47f7-9215-88463035949a",
   "metadata": {},
   "outputs": [],
   "source": [
    "from fairlearn.reductions import ExponentiatedGradient, DemographicParity, EqualizedOdds\n",
    "np.random.seed(0)"
   ]
  },
  {
   "cell_type": "markdown",
   "id": "53c6af18-539d-41df-ab46-66623d8d67f1",
   "metadata": {},
   "source": [
    "#### Student Performance"
   ]
  },
  {
   "cell_type": "code",
   "execution_count": 60,
   "id": "928281e3",
   "metadata": {
    "ExecuteTime": {
     "end_time": "2021-06-09T17:51:42.957037Z",
     "start_time": "2021-06-09T17:51:41.643906Z"
    }
   },
   "outputs": [],
   "source": [
    "constraint = EqualizedOdds()\n",
    "mitigator_por_true = ExponentiatedGradient(classifier_por_true, constraint)\n",
    "mitigator_por_true.fit(X_por_true, y_por_true, sensitive_features = sens_attrs_por[1])\n",
    "y_por_pred_mitigated_true = mitigator_por_true.predict(X_por_true)"
   ]
  },
  {
   "cell_type": "code",
   "execution_count": 61,
   "id": "d8aec404-870a-4506-9224-4c0d8e07d081",
   "metadata": {},
   "outputs": [],
   "source": [
    "constraint = EqualizedOdds()\n",
    "mitigator_por_bias = ExponentiatedGradient(classifier_por_bias, constraint)\n",
    "mitigator_por_bias.fit(X_por_bias_true, y_por_bias_true, sensitive_features = df_sens_por)\n",
    "y_por_pred_mitigated_bias = mitigator_por_bias.predict(X_por_bias_true)\n",
    "y_por_pred_mitigated_bias_on_true = mitigator_por_bias.predict(X_por_true)"
   ]
  },
  {
   "cell_type": "markdown",
   "id": "2e73f90b-c48e-4edb-903e-346e317af0d9",
   "metadata": {},
   "source": [
    "#### Adult Income"
   ]
  },
  {
   "cell_type": "code",
   "execution_count": 62,
   "id": "63e7fea2-d2fc-4cd6-995e-49a7d884f364",
   "metadata": {},
   "outputs": [],
   "source": [
    "constraint = EqualizedOdds()\n",
    "mitigator_adult_true = ExponentiatedGradient(classifier_adult_true, constraint)\n",
    "mitigator_adult_true.fit(X_adult_true, y_adult_true, sensitive_features = sens_attrs_adult[0])\n",
    "y_adult_pred_mitigated_true = mitigator_adult_true.predict(X_adult_true)"
   ]
  },
  {
   "cell_type": "code",
   "execution_count": 63,
   "id": "5af12a7c-9c7b-4b5b-a006-56e3a5dd4587",
   "metadata": {},
   "outputs": [],
   "source": [
    "constraint = EqualizedOdds()\n",
    "mitigator_adult_bias = ExponentiatedGradient(classifier_adult_bias, constraint)\n",
    "mitigator_adult_bias.fit(X_adult_bias_true, y_adult_bias_true, sensitive_features = df_sens_adult)\n",
    "y_adult_pred_mitigated_bias = mitigator_adult_bias.predict(X_adult_bias_true)\n",
    "y_adult_pred_mitigated_bias_on_true = mitigator_adult_bias.predict(X_adult_true)"
   ]
  },
  {
   "cell_type": "markdown",
   "id": "9e05fce6-7d80-41c1-b57b-0475438601af",
   "metadata": {},
   "source": [
    "#### Synthetic Data"
   ]
  },
  {
   "cell_type": "code",
   "execution_count": 70,
   "id": "eb52a316-c5be-4c96-a72c-a88ba6b0d5e9",
   "metadata": {},
   "outputs": [],
   "source": [
    "constraint = EqualizedOdds()\n",
    "mitigator_syn_true = ExponentiatedGradient(classifier_syn_true, constraint)\n",
    "mitigator_syn_true.fit(X_syn_true, y_syn_true, sensitive_features = sens_attrs_syn[0])\n",
    "y_syn_pred_mitigated_true = mitigator_syn_true.predict(X_syn_true)"
   ]
  },
  {
   "cell_type": "code",
   "execution_count": 72,
   "id": "cb4407ad-9b58-4b9d-8c49-f4b4158e6ea8",
   "metadata": {},
   "outputs": [],
   "source": [
    "constraint = EqualizedOdds()\n",
    "mitigator_syn_bias = ExponentiatedGradient(classifier_syn_bias, constraint)\n",
    "mitigator_syn_bias.fit(X_syn_bias_true, y_syn_bias_true, sensitive_features = df_sens_syn)\n",
    "y_syn_pred_mitigated_bias = mitigator_syn_bias.predict(X_syn_bias_true)\n",
    "y_syn_pred_mitigated_bias_on_true = mitigator_syn_bias.predict(X_syn_true)"
   ]
  },
  {
   "cell_type": "markdown",
   "id": "2b7ea20d",
   "metadata": {},
   "source": [
    "#### Student Performance# Evaluation"
   ]
  },
  {
   "cell_type": "code",
   "execution_count": null,
   "id": "2a101305-1e9c-46ee-9397-784fd0b0593e",
   "metadata": {},
   "outputs": [],
   "source": [
    "# TODO: create data structure of different ml performance metrics\n",
    "#       get user input and modularize output shown"
   ]
  },
  {
   "cell_type": "code",
   "execution_count": 74,
   "id": "40d85690-7232-405f-9256-d987abd01b22",
   "metadata": {},
   "outputs": [
    {
     "name": "stdout",
     "output_type": "stream",
     "text": [
      "Student Performance\n",
      "Accuracy of Ground Truth Model + Fairness Intervention on Ground Truth Data:  0.9984591679506933\n",
      "Accuracy of Biased Model + Fairness Intervention on Ground Truth Data:  1.0\n",
      "\n",
      "Adult Income\n",
      "Accuracy of Ground Truth Model + Fairness Intervention on Ground Truth Data:  0.975675556145239\n",
      "Accuracy of Biased Model + Fairness Intervention on Ground Truth Data:  0.9760293662376719\n",
      "\n",
      "Synthetic Data\n",
      "Accuracy of Ground Truth Model + Fairness Intervention on Ground Truth Data:  0.996\n",
      "Accuracy of Biased Model + Fairness Intervention on Ground Truth Data:  0.9965\n"
     ]
    }
   ],
   "source": [
    "print(\"Student Performance\")\n",
    "\n",
    "print(\"Accuracy of Ground Truth Model + Fairness Intervention on Ground Truth Data: \",\n",
    "      accuracy_score(y_por_pred_mitigated_true, y_por_true))\n",
    "\n",
    "print(\"Accuracy of Biased Model + Fairness Intervention on Ground Truth Data: \",\n",
    "      accuracy_score(y_por_pred_mitigated_bias_on_true, y_por_true))\n",
    "\n",
    "print(\"\\nAdult Income\")\n",
    "\n",
    "print(\"Accuracy of Ground Truth Model + Fairness Intervention on Ground Truth Data: \",\n",
    "      accuracy_score(y_adult_pred_mitigated_true, y_adult_true))\n",
    "\n",
    "print(\"Accuracy of Biased Model + Fairness Intervention on Ground Truth Data: \",\n",
    "      accuracy_score(y_adult_pred_mitigated_bias_on_true, y_adult_true))\n",
    "\n",
    "print(\"\\nSynthetic Data\")\n",
    "\n",
    "print(\"Accuracy of Ground Truth Model + Fairness Intervention on Ground Truth Data: \",\n",
    "      accuracy_score(y_syn_pred_mitigated_true, y_syn_true))\n",
    "\n",
    "print(\"Accuracy of Biased Model + Fairness Intervention on Ground Truth Data: \",\n",
    "      accuracy_score(y_syn_pred_mitigated_bias_on_true, y_syn_true))"
   ]
  },
  {
   "cell_type": "code",
   "execution_count": null,
   "id": "ac90ed8c",
   "metadata": {
    "ExecuteTime": {
     "end_time": "2021-06-09T17:51:42.986098Z",
     "start_time": "2021-06-09T17:51:42.973042Z"
    },
    "tags": []
   },
   "outputs": [],
   "source": [
    "# Ground Truth Model + Fairness Intervention on Ground Truth Data\n",
    "\n",
    "gm_mitigated = MetricFrame(accuracy_score, y_true, y_pred_mitigated_true, sensitive_features = sens_attrs[1])\n",
    "print(\"Overall Accuracy: \", gm_mitigated.overall)\n",
    "print(\"Group Accuracy : \", gm_mitigated.by_group)\n",
    "\n",
    "print(\"\\n\")\n",
    "\n",
    "sr_mitigated = MetricFrame(selection_rate, y_true, y_pred_mitigated_true, sensitive_features = sens_attrs[1])\n",
    "print(\"Overall Selection Rate: \", sr_mitigated.overall)\n",
    "print(\"Group Selection Rate : \", sr_mitigated.by_group)"
   ]
  },
  {
   "cell_type": "code",
   "execution_count": null,
   "id": "a3d5b09e-f879-4a03-ba44-9a1a66999204",
   "metadata": {},
   "outputs": [],
   "source": [
    "# Biased Model + Fairness Intervention on Ground Truth Data\n",
    "\n",
    "gm_mitigated_bias_on_true = MetricFrame(accuracy_score, y_true, y_pred_mitigated_bias_on_true, sensitive_features = sens_attrs[1])\n",
    "print(\"Overall Accuracy: \", gm_mitigated_bias_on_true.overall)\n",
    "print(\"Group Accuracy : \", gm_mitigated_bias_on_true.by_group)\n",
    "\n",
    "print(\"\\n\")\n",
    "\n",
    "sr_mitigated_bias_on_true = MetricFrame(selection_rate, y_true, y_pred_mitigated_bias_on_true, sensitive_features = sens_attrs[1])\n",
    "print(\"Overall Selection Rate: \", sr_mitigated_bias_on_true.overall)\n",
    "print(\"Group Selection Rate : \", sr_mitigated_bias_on_true.by_group)"
   ]
  },
  {
   "cell_type": "markdown",
   "id": "2a51941c",
   "metadata": {},
   "source": [
    "Hence, we observe an increase in overall and subgroup accuracy, but a decrease in disadvantaged subgroup selection rate"
   ]
  },
  {
   "cell_type": "markdown",
   "id": "95e393d0-149b-4da6-91ba-e74e5225b0e2",
   "metadata": {},
   "source": [
    "### Bias vs Accuracy vs Fairness Trade-Off"
   ]
  },
  {
   "cell_type": "code",
   "execution_count": 66,
   "id": "94a195c8-324a-47ce-90fe-5991cfc62a0f",
   "metadata": {},
   "outputs": [],
   "source": [
    "# Correct Version"
   ]
  },
  {
   "cell_type": "code",
   "execution_count": null,
   "id": "48687919-16ae-446a-8db3-7120e07fc5b7",
   "metadata": {},
   "outputs": [],
   "source": [
    "# if verbose, shows \"Finished iteration: ... \"\n",
    "# if apply_fairness, uses fairness intervention\n",
    "def tradeoff_visualization(classifier, apply_fairness = False, verbose = False):\n",
    "    \n",
    "    bias_amts = list(range(0,30))\n",
    "    accuracy_on_true = []\n",
    "    accuracy_on_biased = []\n",
    "    accuracy_on_true_mitigated = []\n",
    "    accuracy_on_biased_mitigated = []\n",
    "    eod_on_true = []\n",
    "    eod_on_biased = []\n",
    "    dataset_size_true = np.full(shape=len(bias_amts), fill_value= X_true.shape[0]).tolist()\n",
    "    dataset_size_bias = []\n",
    "    table = []\n",
    "\n",
    "    classifier_true = classifier.fit(X_true, y_true)\n",
    "    y_pred_truth = classifier_true.predict(X_true)\n",
    "\n",
    "    df_undersampled = df_unfavored_positive.sample(n=len(df_unfavored_positive), random_state=42)\n",
    "\n",
    "    for i in range(30):\n",
    "        # under-sampling process\n",
    "        if i == 0:\n",
    "            df_undersampled = df_undersampled.sample(n=len(df_undersampled), random_state=42)\n",
    "        else:\n",
    "            df_undersampled = df_undersampled.sample(n=len(df_undersampled)-1, random_state=42)\n",
    "\n",
    "        # combine undersampled and original favored class to create dataset\n",
    "        df_concat = pd.concat([df_favored,df_undersampled])\n",
    "        df_concat.shape\n",
    "        df_sens = df_concat['address']\n",
    "\n",
    "        # format data\n",
    "        X_bias = df_concat.iloc[:, :-2].values\n",
    "        y_bias = df_concat.iloc[:, -1].values\n",
    "\n",
    "        # OHE\n",
    "        ct = ColumnTransformer(transformers=[('encoder', OneHotEncoder(), cat_cols)], remainder='passthrough')\n",
    "        X_bias_true = np.array(ct.fit_transform(X_bias))\n",
    "        y_bias_true = df_concat['pass']\n",
    "\n",
    "        dataset_size_bias.append(X_bias_true.shape[0])\n",
    "        classifier_bias = classifier.fit(X_bias_true, y_bias_true)\n",
    "        \n",
    "        if apply_fairness:\n",
    "            constraint = EqualizedOdds()\n",
    "            classifier_mitigated_bias = ExponentiatedGradient(classifier_bias, constraint)\n",
    "            classifier_mitigated_bias.fit(X_bias_true, y_bias_true, sensitive_features = df_sens)\n",
    "            \n",
    "            # testing on biased data WITH fairness intervention\n",
    "            y_pred_mitigated_bias = classifier_mitigated_bias.predict(X_bias_true)\n",
    "            \n",
    "            # testing on GT data WITH fairness intervention\n",
    "            y_pred_mitigated_bias_on_true = classifier_mitigated_bias.predict(X_true)\n",
    "        \n",
    "        # testing on biased data withOUT fairness intervention\n",
    "        y_pred_bias = classifier_bias.predict(X_bias_true)\n",
    "        \n",
    "        # testing on GT data withOUT fairness intervention\n",
    "        y_pred_bias_on_true = classifier_bias.predict(X_true)\n",
    "\n",
    "        # model performance\n",
    "        \n",
    "        if apply_fairness:\n",
    "            # on biased data\n",
    "            acc_bias_mitigated = accuracy_score(y_pred=y_pred_mitigated_bias, y_true=y_bias_true)\n",
    "            accuracy_on_biased_mitigated.append(acc_bias_mitigated)\n",
    "            # on GT data\n",
    "            acc_bias_mitigated_on_true = accuracy_score(y_pred=y_pred_mitigated_bias_on_true, y_true=y_true)\n",
    "            accuracy_on_true_mitigated.append(acc_bias_mitigated_on_true)\n",
    "        \n",
    "        # on biased data\n",
    "        acc_bias = accuracy_score(y_pred=y_pred_bias, y_true=y_bias_true)\n",
    "        accuracy_on_biased.append(acc_bias)\n",
    "        # on GT data\n",
    "        acc_bias_on_true = accuracy_score(y_pred=y_pred_bias_on_true, y_true=y_true)\n",
    "        accuracy_on_true.append(acc_bias_on_true)\n",
    "        \n",
    "        '''\n",
    "        # fairness performance (TODO)\n",
    "        eod_true = equalized_odds_difference(y_true=y_bias_true, y_pred = y_pred_bias, sensitive_features=df_sens)\n",
    "        eod_on_true.append(eod_true)\n",
    "\n",
    "        eod_bias_on_true = equalized_odds_difference(y_true=y_true, y_pred = y_pred_bias_on_true, sensitive_features=sens_attrs[1])\n",
    "        eod_on_biased.append(eod_bias_on_true)\n",
    "\n",
    "        # table visualization \n",
    "        table_elem = [i*10, acc_bias, acc_bias_on_true]\n",
    "        table.append(table_elem)\n",
    "        '''\n",
    "        \n",
    "        if verbose:\n",
    "            print(\"Finished Iteration: \", len(df_concat))\n",
    "\n",
    "    return bias_amts, dataset_size_true, dataset_size_bias, accuracy_on_biased, accuracy_on_true, accuracy_on_biased_mitigated, accuracy_on_true_mitigated"
   ]
  },
  {
   "cell_type": "code",
   "execution_count": 67,
   "id": "7179030c-bb19-43b6-9cff-e49e05d579e2",
   "metadata": {},
   "outputs": [],
   "source": [
    "# New Version"
   ]
  },
  {
   "cell_type": "code",
   "execution_count": 101,
   "id": "9021a6d5-19ad-4c05-b165-497c84360069",
   "metadata": {},
   "outputs": [],
   "source": [
    "# if verbose, shows \"Finished iteration: ... \"\n",
    "# if apply_fairness, uses fairness intervention\n",
    "def tradeoff_visualization(classifier, X_true, y_true, df_favored,\n",
    "                           df_unfavored_positive, df_unfavored_negative,\n",
    "                           sensitive_feature = \"sex\", is_adult = False,\n",
    "                           label = \"label\",\n",
    "                           apply_fairness = False, verbose = False):\n",
    "    \n",
    "    bias_amts = list(range(0,30))\n",
    "    accuracy_on_true = []\n",
    "    accuracy_on_biased = []\n",
    "    accuracy_on_true_mitigated = []\n",
    "    accuracy_on_biased_mitigated = []\n",
    "    eod_on_true = []\n",
    "    eod_on_biased = []\n",
    "    dataset_size_true = np.full(shape=len(bias_amts), fill_value= X_true.shape[0]).tolist()\n",
    "    dataset_size_bias = []\n",
    "\n",
    "    classifier_true = classifier.fit(X_true, y_true)\n",
    "    y_pred_truth = classifier_true.predict(X_true)\n",
    "\n",
    "    df_undersampled = df_unfavored_positive.sample(n=len(df_unfavored_positive), random_state=42)\n",
    "\n",
    "    for i in range(30):\n",
    "        # under-sampling process\n",
    "        if i != 0:\n",
    "            df_undersampled = df_undersampled.sample(n=int(len(df_undersampled)*0.9), random_state=42)\n",
    "\n",
    "        # combine undersampled and original favored class to create dataset\n",
    "        df_concat = pd.concat([df_favored, df_unfavored_negative, df_undersampled])\n",
    "        df_sens = df_concat[sensitive_feature]\n",
    "\n",
    "        # format data\n",
    "        X_bias = df_concat.iloc[:, :-2].values\n",
    "        y_bias = df_concat.iloc[:, -1].values\n",
    "\n",
    "        # OHE\n",
    "        \n",
    "        if is_adult:\n",
    "            df_temp = df_concat.copy().drop(\"income\", axis = 1)\n",
    "            df_temp = df_temp.drop(\"label\", axis = 1)\n",
    "            for cat_col in datasets['adult_income'].cat_cols:\n",
    "                encoded = pd.get_dummies(df_temp[cat_col])\n",
    "                df_temp = df_temp.drop(cat_col, axis = 1)\n",
    "                df_temp = df_temp.join(encoded)\n",
    "            df_temp = df_temp.join(df_concat['label'])\n",
    "            X_bias_true = np.array(df_temp.drop('label', axis = 1).values)\n",
    "            y_bias_true = df_concat['label']\n",
    "        else:\n",
    "            ct = ColumnTransformer(transformers=[('encoder', OneHotEncoder(), cat_cols)], remainder='passthrough')\n",
    "            X_bias_true = np.array(ct.fit_transform(X_bias))\n",
    "            y_bias_true = df_concat[label]\n",
    "\n",
    "        dataset_size_bias.append(X_bias_true.shape[0])\n",
    "        classifier_bias = classifier.fit(X_bias_true, y_bias_true)\n",
    "        \n",
    "        if apply_fairness:\n",
    "            constraint = EqualizedOdds()\n",
    "            classifier_mitigated_bias = ExponentiatedGradient(classifier_bias, constraint)\n",
    "            classifier_mitigated_bias.fit(X_bias_true, y_bias_true, sensitive_features = df_sens)\n",
    "            \n",
    "            # testing on biased data WITH fairness intervention\n",
    "            y_pred_mitigated_bias = classifier_mitigated_bias.predict(X_bias_true)\n",
    "            \n",
    "            # testing on GT data WITH fairness intervention\n",
    "            y_pred_mitigated_bias_on_true = classifier_mitigated_bias.predict(X_true)\n",
    "        \n",
    "        # testing on biased data withOUT fairness intervention\n",
    "        y_pred_bias = classifier_bias.predict(X_bias_true)\n",
    "        \n",
    "        # testing on GT data withOUT fairness intervention\n",
    "        y_pred_bias_on_true = classifier_bias.predict(X_true)\n",
    "\n",
    "        # model performance\n",
    "        \n",
    "        if apply_fairness:\n",
    "            # on biased data\n",
    "            acc_bias_mitigated = accuracy_score(y_pred=y_pred_mitigated_bias, y_true=y_bias_true)\n",
    "            accuracy_on_biased_mitigated.append(acc_bias_mitigated)\n",
    "            # on GT data\n",
    "            acc_bias_mitigated_on_true = accuracy_score(y_pred=y_pred_mitigated_bias_on_true, y_true=y_true)\n",
    "            accuracy_on_true_mitigated.append(acc_bias_mitigated_on_true)\n",
    "        \n",
    "        # on biased data\n",
    "        acc_bias = accuracy_score(y_pred=y_pred_bias, y_true=y_bias_true)\n",
    "        accuracy_on_biased.append(acc_bias)\n",
    "        # on GT data\n",
    "        acc_bias_on_true = accuracy_score(y_pred=y_pred_bias_on_true, y_true=y_true)\n",
    "        accuracy_on_true.append(acc_bias_on_true)\n",
    "        \n",
    "        '''\n",
    "        # fairness performance (TODO)\n",
    "        eod_true = equalized_odds_difference(y_true=y_bias_true, y_pred = y_pred_bias, sensitive_features=df_sens)\n",
    "        eod_on_true.append(eod_true)\n",
    "\n",
    "        eod_bias_on_true = equalized_odds_difference(y_true=y_true, y_pred = y_pred_bias_on_true, sensitive_features=sens_attrs[1])\n",
    "        eod_on_biased.append(eod_bias_on_true)\n",
    "\n",
    "        # table visualization \n",
    "        table_elem = [i*10, acc_bias, acc_bias_on_true]\n",
    "        table.append(table_elem)\n",
    "        '''\n",
    "        \n",
    "        if verbose:\n",
    "            print(\"Finished Iteration: \", i)\n",
    "\n",
    "    return bias_amts, dataset_size_true, dataset_size_bias, accuracy_on_biased, accuracy_on_true, accuracy_on_biased_mitigated, accuracy_on_true_mitigated"
   ]
  },
  {
   "cell_type": "code",
   "execution_count": 105,
   "id": "99bfd23f-6f40-45d1-a77f-e93d9b460459",
   "metadata": {},
   "outputs": [],
   "source": [
    "def accuracy_visualizations(bias_amts, dataset_size_true, dataset_size_bias,\n",
    "                            accuracy_on_biased = [], accuracy_on_true = [],\n",
    "                            accuracy_on_biased_mitigated = [],\n",
    "                            accuracy_on_true_mitigated = [], fairness = False):\n",
    "    \n",
    "    if fairness:\n",
    "        plt.figure(figsize=(17,7))\n",
    "\n",
    "        plt.subplot(1,2,1)\n",
    "        plt.plot(bias_amts, accuracy_on_true_mitigated, label = 'Ground Truth')\n",
    "        plt.plot(bias_amts, accuracy_on_biased_mitigated, label = 'Biased Data')\n",
    "        plt.xlabel(\"Amount of Bias (number of minority samples removed)\")\n",
    "        plt.ylabel(\"Accuracy Score\")\n",
    "        plt.title(\"Biased Model Accuracy\")\n",
    "        #plt.ylim(0.97, 0.99)\n",
    "        plt.legend()\n",
    "\n",
    "        plt.subplot(1,2,2)\n",
    "        plt.plot(bias_amts, dataset_size_true, label = 'Ground Truth')\n",
    "        plt.plot(bias_amts, dataset_size_bias, label = 'Biased Data')\n",
    "        plt.xlabel(\"Amount of Bias (number of minority samples removed)\")\n",
    "        plt.ylabel(\"Dataset Size\")\n",
    "        plt.legend()\n",
    "\n",
    "        plt.show()\n",
    "        \n",
    "    else:\n",
    "        plt.figure(figsize=(17,7))\n",
    "\n",
    "        plt.subplot(1,2,1)\n",
    "        plt.plot(bias_amts, accuracy_on_true, label = 'Ground Truth')\n",
    "        plt.plot(bias_amts, accuracy_on_biased, label = 'Biased Data')\n",
    "        plt.xlabel(\"Amount of Bias (number of minority samples removed)\")\n",
    "        plt.ylabel(\"Accuracy Score\")\n",
    "        plt.title(\"Biased Model Accuracy\")\n",
    "        #plt.ylim(0.97, 0.99)\n",
    "        plt.legend()\n",
    "\n",
    "        plt.subplot(1,2,2)\n",
    "        plt.plot(bias_amts, dataset_size_true, label = 'Ground Truth')\n",
    "        plt.plot(bias_amts, dataset_size_bias, label = 'Biased Data')\n",
    "        plt.xlabel(\"Amount of Bias (number of minority samples removed)\")\n",
    "        plt.ylabel(\"Dataset Size\")\n",
    "        plt.legend()\n",
    "\n",
    "        plt.show()"
   ]
  },
  {
   "cell_type": "code",
   "execution_count": 107,
   "id": "1ead13ff-aba0-4882-b615-d04541d1be91",
   "metadata": {},
   "outputs": [
    {
     "name": "stdout",
     "output_type": "stream",
     "text": [
      "Finished Iteration:  0\n",
      "Finished Iteration:  1\n",
      "Finished Iteration:  2\n",
      "Finished Iteration:  3\n",
      "Finished Iteration:  4\n",
      "Finished Iteration:  5\n",
      "Finished Iteration:  6\n",
      "Finished Iteration:  7\n",
      "Finished Iteration:  8\n",
      "Finished Iteration:  9\n",
      "Finished Iteration:  10\n",
      "Finished Iteration:  11\n",
      "Finished Iteration:  12\n",
      "Finished Iteration:  13\n",
      "Finished Iteration:  14\n",
      "Finished Iteration:  15\n",
      "Finished Iteration:  16\n",
      "Finished Iteration:  17\n",
      "Finished Iteration:  18\n",
      "Finished Iteration:  19\n",
      "Finished Iteration:  20\n",
      "Finished Iteration:  21\n",
      "Finished Iteration:  22\n",
      "Finished Iteration:  23\n",
      "Finished Iteration:  24\n",
      "Finished Iteration:  25\n",
      "Finished Iteration:  26\n",
      "Finished Iteration:  27\n",
      "Finished Iteration:  28\n",
      "Finished Iteration:  29\n"
     ]
    }
   ],
   "source": [
    "classifier = RandomForestClassifier(n_estimators = 5, criterion = 'entropy', random_state = 42)\n",
    "\n",
    "bias_amts, dataset_size_true, dataset_size_bias, \\\n",
    "accuracy_on_biased, accuracy_on_true, accuracy_on_biased_mitigated, accuracy_on_true_mitigated = \\\n",
    "tradeoff_visualization(classifier, X_true=X_adult_true, y_true=y_adult_true, \\\n",
    "                       df_favored=df_favored_adult, df_unfavored_positive= df_unfavored_adult_positive,\\\n",
    "                       df_unfavored_negative= df_unfavored_adult_negative, sensitive_feature=\"gender\",\n",
    "                       is_adult=True, label = \"label\", apply_fairness=False,verbose=True)"
   ]
  },
  {
   "cell_type": "code",
   "execution_count": 108,
   "id": "bbe24539-8c4d-4d0e-ae9d-6a192b1525da",
   "metadata": {},
   "outputs": [
    {
     "data": {
      "image/png": "[encoded data removed]",
      "text/plain": [
       "<Figure size 1224x504 with 2 Axes>"
      ]
     },
     "metadata": {
      "needs_background": "light"
     },
     "output_type": "display_data"
    }
   ],
   "source": [
    "accuracy_visualizations(bias_amts, dataset_size_true, dataset_size_bias, accuracy_on_biased, accuracy_on_true, accuracy_on_biased_mitigated, accuracy_on_true_mitigated, False)"
   ]
  },
  {
   "cell_type": "code",
   "execution_count": null,
   "id": "abe7015c-a460-4e43-907c-0d19896145e7",
   "metadata": {},
   "outputs": [
    {
     "name": "stdout",
     "output_type": "stream",
     "text": [
      "Finished Iteration:  0\n",
      "Finished Iteration:  1\n",
      "Finished Iteration:  2\n",
      "Finished Iteration:  3\n",
      "Finished Iteration:  4\n"
     ]
    }
   ],
   "source": [
    "classifier = RandomForestClassifier(n_estimators = 5, criterion = 'entropy', random_state = 42)\n",
    "\n",
    "bias_amts, dataset_size_true, dataset_size_bias, \\\n",
    "accuracy_on_biased, accuracy_on_true, accuracy_on_biased_mitigated, accuracy_on_true_mitigated = \\\n",
    "tradeoff_visualization(classifier, X_true=X_adult_true, y_true=y_adult_true, \\\n",
    "                       df_favored=df_favored_adult, df_unfavored_positive= df_unfavored_adult_positive,\\\n",
    "                       df_unfavored_negative= df_unfavored_adult_negative, sensitive_feature=\"gender\",\n",
    "                       is_adult=True, label = \"label\", apply_fairness=True,verbose=True)"
   ]
  },
  {
   "cell_type": "code",
   "execution_count": null,
   "id": "2b97fc83-fa23-407f-8246-c2cf9108aa9a",
   "metadata": {},
   "outputs": [],
   "source": [
    "# without fairness intervention\n",
    "accuracy_visualizations(bias_amts, dataset_size_true, dataset_size_bias, accuracy_on_biased, accuracy_on_true, accuracy_on_biased_mitigated, accuracy_on_true_mitigated, False)"
   ]
  },
  {
   "cell_type": "code",
   "execution_count": null,
   "id": "f67d72c5-c381-43be-a0a5-08019a5742b6",
   "metadata": {},
   "outputs": [],
   "source": [
    "# with fairness intervention\n",
    "accuracy_visualizations(bias_amts, dataset_size_true, dataset_size_bias, accuracy_on_biased, accuracy_on_true, accuracy_on_biased_mitigated, accuracy_on_true_mitigated, True)"
   ]
  },
  {
   "cell_type": "markdown",
   "id": "bad30644-086e-4595-b159-2b158721c0fa",
   "metadata": {},
   "source": [
    "### Special Visualizations"
   ]
  },
  {
   "cell_type": "code",
   "execution_count": null,
   "id": "9162938f-0c56-444a-a799-3cfbe6b6f205",
   "metadata": {},
   "outputs": [],
   "source": [
    "bias_amts = list(range(0,30))\n",
    "accuracy_on_true = []\n",
    "accuracy_on_biased = []\n",
    "accuracy_on_true_mitigated = []\n",
    "accuracy_on_biased_mitigated = []\n",
    "eod_on_true = []\n",
    "eod_on_biased = []\n",
    "eod_on_true_mitigated = []\n",
    "dataset_size_true = np.full(shape=len(bias_amts), fill_value= X_true.shape[0]).tolist()\n",
    "dataset_size_bias = []\n",
    "\n",
    "classifier_true = classifier.fit(X_true, y_true)\n",
    "y_pred_truth = classifier_true.predict(X_true)\n",
    "\n",
    "df_undersampled = df_unfavored_positive.sample(n=len(df_unfavored_positive), random_state=42)\n",
    "\n",
    "for i in range(30):\n",
    "    # under-sampling process\n",
    "    # print(len(df_undersampled))\n",
    "    if i == 0:\n",
    "        df_undersampled = df_undersampled.sample(n=len(df_undersampled), random_state=42)\n",
    "    else:\n",
    "        df_undersampled = df_undersampled.sample(n=len(df_undersampled)-1, random_state=42)\n",
    "\n",
    "    # combine undersampled and original favored class to create dataset\n",
    "    df_concat = pd.concat([df_favored,df_undersampled])\n",
    "    df_concat.shape\n",
    "    df_sens = df_concat['address']\n",
    "\n",
    "    # format data\n",
    "    X_bias = df_concat.iloc[:, :-2].values\n",
    "    y_bias = df_concat.iloc[:, -1].values\n",
    "\n",
    "    # OHE\n",
    "    ct = ColumnTransformer(transformers=[('encoder', OneHotEncoder(), cat_cols)], remainder='passthrough')\n",
    "    X_bias_true = np.array(ct.fit_transform(X_bias))\n",
    "    y_bias_true = df_concat['pass']\n",
    "\n",
    "    dataset_size_bias.append(X_bias_true.shape[0])\n",
    "    classifier_bias = classifier.fit(X_bias_true, y_bias_true)\n",
    "\n",
    "    constraint = EqualizedOdds()\n",
    "    classifier_mitigated_bias = ExponentiatedGradient(classifier_bias, constraint)\n",
    "    classifier_mitigated_bias.fit(X_bias_true, y_bias_true, sensitive_features = df_sens)\n",
    "    \n",
    "    # model testing\n",
    "    \n",
    "    # on biased data\n",
    "    \n",
    "    # without fairness intervention\n",
    "    y_pred_bias = classifier_bias.predict(X_bias_true)\n",
    "    # with fairness intervention\n",
    "    y_pred_mitigated_bias = classifier_mitigated_bias.predict(X_bias_true)\n",
    "    \n",
    "    # on GT data\n",
    "    \n",
    "    # without fairness intervention\n",
    "    y_pred_bias_on_true = classifier_bias.predict(X_true)\n",
    "    # with fairness intervention\n",
    "    y_pred_mitigated_bias_on_true = classifier_mitigated_bias.predict(X_true)\n",
    "    \n",
    "    \n",
    "    # model performance\n",
    "    \n",
    "    # on biased data\n",
    "    \n",
    "    # without fairness intervention\n",
    "    acc_bias = accuracy_score(y_pred=y_pred_bias, y_true=y_bias_true)\n",
    "    accuracy_on_biased.append(acc_bias)\n",
    "    # with fairness intervention\n",
    "    acc_bias_mitigated = accuracy_score(y_pred=y_pred_mitigated_bias, y_true=y_bias_true)\n",
    "    accuracy_on_biased_mitigated.append(acc_bias_mitigated)\n",
    "    \n",
    "    # on GT data\n",
    "    \n",
    "    # without fairness intervention\n",
    "    acc_bias_on_true = accuracy_score(y_pred=y_pred_bias_on_true, y_true=y_true)\n",
    "    accuracy_on_true.append(acc_bias_on_true)\n",
    "    # with fairness intervention\n",
    "    acc_bias_mitigated_on_true = accuracy_score(y_pred=y_pred_mitigated_bias_on_true, y_true=y_true)\n",
    "    accuracy_on_true_mitigated.append(acc_bias_mitigated_on_true)\n",
    "\n",
    "    # fairness performance\n",
    "    \n",
    "    eod_true = equalized_odds_difference(y_true=y_bias_true, y_pred = y_pred_bias, sensitive_features=df_sens)\n",
    "    eod_on_true.append(eod_true)\n",
    "\n",
    "    eod_bias_on_true = equalized_odds_difference(y_true=y_true, y_pred = y_pred_bias_on_true, sensitive_features=sens_attrs[1])\n",
    "    eod_on_biased.append(eod_bias_on_true)\n",
    "    \n",
    "    eod_bias_true_mitigated = equalized_odds_difference(y_true=y_true, y_pred = y_pred_mitigated_bias_on_true, sensitive_features=sens_attrs[1])\n",
    "    eod_on_true_mitigated.append(eod_bias_true_mitigated)\n",
    "    "
   ]
  },
  {
   "cell_type": "code",
   "execution_count": null,
   "id": "f6297243-9839-471a-b22a-eecba0414cc9",
   "metadata": {},
   "outputs": [],
   "source": [
    "plt.figure(figsize=(17,7))\n",
    "\n",
    "plt.subplot(1,2,1)\n",
    "plt.plot(bias_amts, accuracy_on_biased, label = 'Tested On Biased Data + No Fairness Intervention', color = \"red\")\n",
    "plt.plot(bias_amts, accuracy_on_biased_mitigated, label = 'Tested On Biased Data + Fairness Intervention', color = \"green\")\n",
    "plt.plot(bias_amts, accuracy_on_true, label = 'Tested On Ground Truth + No Fairness Intervention', color = \"blue\")\n",
    "plt.plot(bias_amts, accuracy_on_true_mitigated, label = 'Tested On Ground Truth + Fairness Intervention', color = \"purple\")\n",
    "plt.xlabel(\"Amount of Bias (number of minority samples removed)\")\n",
    "plt.ylabel(\"Accuracy Score\")\n",
    "#plt.axhline(y=accuracy_score(y_pred_truth, y_true), color = \"green\", label = \"Ground Truth Model On Ground Truth Data\", alpha = 0.5)\n",
    "plt.title(\"Accuracy of Biased Model (trained on biased data)\")\n",
    "plt.ylim(0.9725, 0.99)\n",
    "plt.legend()\n",
    "\n",
    "plt.subplot(1,2,2)\n",
    "plt.plot(bias_amts, dataset_size_true, label = 'Ground Truth')\n",
    "plt.plot(bias_amts, dataset_size_bias, label = 'Biased Data')\n",
    "plt.xlabel(\"Amount of Bias (number of minority samples removed)\")\n",
    "plt.ylabel(\"Dataset Size\")\n",
    "plt.title(\"Amount of Minority Samples Removed vs Dataset Size\")\n",
    "plt.legend()\n",
    "\n",
    "plt.show()"
   ]
  },
  {
   "cell_type": "code",
   "execution_count": null,
   "id": "38888381-710d-407b-9db1-541bcabcdd60",
   "metadata": {},
   "outputs": [],
   "source": [
    "plt.plot(bias_amts, eod_on_biased, label = 'On Biased Data + No Fairness Intervention', color = \"red\")\n",
    "plt.plot(bias_amts, eod_on_true, label = 'On Ground Truth + No Fairness Intervention', color = \"blue\")\n",
    "plt.plot(bias_amts, eod_on_true_mitigated, label = 'On Ground Truth + Fairness Intervention', color = \"purple\")\n",
    "plt.xlabel(\"Amount of Bias (number of minority samples removed)\")\n",
    "plt.ylabel(\"Equalized Odds Difference\")\n",
    "plt.axhline(y=equalized_odds_difference(y_true=y_true, y_pred = y_pred_truth, sensitive_features=sens_attrs[1]), color = \"green\",\n",
    "            label = \"Ground Truth EOD\", alpha = 0.5)\n",
    "plt.ylim(0, 0.15)\n",
    "plt.legend()\n",
    "plt.title(\"Biased Model Equalized Odds Difference\")\n",
    "plt.show()\n",
    "#plt.savefig(\"bias1.png\")"
   ]
  },
  {
   "cell_type": "code",
   "execution_count": null,
   "id": "1f2df4e6-e55f-405f-8832-a19f96963be9",
   "metadata": {},
   "outputs": [],
   "source": []
  }
 ],
 "metadata": {
  "kernelspec": {
   "display_name": "Python 3",
   "language": "python",
   "name": "python3"
  },
  "language_info": {
   "codemirror_mode": {
    "name": "ipython",
    "version": 3
   },
   "file_extension": ".py",
   "mimetype": "text/x-python",
   "name": "python",
   "nbconvert_exporter": "python",
   "pygments_lexer": "ipython3",
   "version": "3.7.3"
  }
 },
 "nbformat": 4,
 "nbformat_minor": 5
}
