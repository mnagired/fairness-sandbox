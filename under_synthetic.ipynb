{
 "cells": [
  {
   "cell_type": "markdown",
   "id": "d5e91243",
   "metadata": {
    "ExecuteTime": {
     "end_time": "2021-06-08T20:41:26.879421Z",
     "start_time": "2021-06-08T20:41:26.876140Z"
    }
   },
   "source": [
    "# Under-Representation Bias (w/ Synthetic Data)"
   ]
  },
  {
   "cell_type": "markdown",
   "id": "00909876",
   "metadata": {},
   "source": [
    "This notebook recreates the finding that Equalized Odds constrained model can recover from under-representation bias."
   ]
  },
  {
   "cell_type": "markdown",
   "id": "0a42ced1",
   "metadata": {},
   "source": [
    "### Setup\n",
    "\n",
    "Please run the code block below to install the necessary packages (if needed)."
   ]
  },
  {
   "cell_type": "code",
   "execution_count": 1,
   "id": "4a692724",
   "metadata": {
    "ExecuteTime": {
     "end_time": "2021-06-10T20:42:02.586362Z",
     "start_time": "2021-06-10T20:42:02.581026Z"
    }
   },
   "outputs": [],
   "source": [
    "import pandas as pd\n",
    "import numpy as np\n",
    "import matplotlib.pyplot as plt\n",
    "import seaborn as sns\n",
    "import math\n",
    "\n",
    "from sklearn.base import clone\n",
    "\n",
    "from sklearn.metrics import confusion_matrix, accuracy_score, f1_score, roc_curve, auc\n",
    "from collections import Counter\n",
    "\n",
    "import fairlearn\n",
    "from fairlearn.metrics import *\n",
    "from fairlearn.reductions import *\n",
    "import aif360\n",
    "\n",
    "import copy, random\n",
    "\n",
    "from sklearn.metrics import accuracy_score\n",
    "from sklearn.linear_model import LogisticRegression"
   ]
  },
  {
   "cell_type": "markdown",
   "id": "da59e303",
   "metadata": {},
   "source": [
    "# Synthetic Dataset Generation"
   ]
  },
  {
   "cell_type": "markdown",
   "id": "9d46dc53-d064-4c1f-8845-891216d77cde",
   "metadata": {},
   "source": [
    "## Parameters (User Input)"
   ]
  },
  {
   "cell_type": "code",
   "execution_count": 2,
   "id": "0e4c1bcf-a112-4a4f-9d02-a6724a2268b0",
   "metadata": {},
   "outputs": [],
   "source": [
    "'''\n",
    "\n",
    "r is the proportion of training examples in the minority group, \n",
    "\n",
    "which means 1-r is proportion of examples in the majority group\n",
    "\n",
    "eta is the probability of flipping the label\n",
    "\n",
    "n is the number of training examples\n",
    "\n",
    "beta is the probability of keeping a positively labeled example\n",
    "from the minority class\n",
    "\n",
    "NOTE: results can be replicated if and only if the following condition holds:\n",
    "\n",
    "(1-r)(1-2*eta) + r((1-eta)*beta - eta) > 0\n",
    "\n",
    "'''\n",
    "def get_params(r = 1/3, eta = 1/4, n = 2000, beta = 0.5):\n",
    "    return r, eta, n, beta\n",
    "\n",
    "r, eta, n, beta = get_params(eta = 0, n = 30000)"
   ]
  },
  {
   "cell_type": "code",
   "execution_count": 3,
   "id": "8e7d3c98-54c3-4198-9f03-528bebb016cc",
   "metadata": {
    "tags": []
   },
   "outputs": [
    {
     "name": "stdout",
     "output_type": "stream",
     "text": [
      "constraint:  1.0\n",
      "yes! 0.3333333333333333 0 1.0\n",
      "constraint:  0.9666666666666668\n",
      "yes! 0.3333333333333333 0 0.9\n",
      "constraint:  0.9333333333333333\n",
      "yes! 0.3333333333333333 0 0.8\n",
      "constraint:  0.9\n",
      "yes! 0.3333333333333333 0 0.7\n",
      "constraint:  0.8666666666666667\n",
      "yes! 0.3333333333333333 0 0.6\n",
      "constraint:  0.8333333333333334\n",
      "yes! 0.3333333333333333 0 0.5\n",
      "constraint:  0.8\n",
      "yes! 0.3333333333333333 0 0.4\n",
      "constraint:  0.7666666666666667\n",
      "yes! 0.3333333333333333 0 0.3\n",
      "constraint:  0.7333333333333334\n",
      "yes! 0.3333333333333333 0 0.2\n",
      "constraint:  0.7000000000000001\n",
      "yes! 0.3333333333333333 0 0.1\n",
      "constraint:  0.6666666666666667\n",
      "yes! 0.3333333333333333 0 0.0\n"
     ]
    }
   ],
   "source": [
    "# check if above constraint holds\n",
    "def check_constraints(r, eta, beta):\n",
    "    first = (1-r)*(1-2*eta)\n",
    "    second = r * ((1-eta)*beta - eta)\n",
    "    res = first + second\n",
    "    print(\"constraint: \", res)\n",
    "    print(\"yes!\", r, eta, beta) if res > 0 else print(\"no\", r, eta, beta)\n",
    "    \n",
    "bias_amts = np.divide(list(range(10, -1, -1)),10)\n",
    "\n",
    "for beta in bias_amts:\n",
    "    check_constraints(r=r, eta=eta, beta=beta)"
   ]
  },
  {
   "cell_type": "markdown",
   "id": "270ebbd2-719c-42d5-8de4-dce388fc0a51",
   "metadata": {},
   "source": [
    "## True Label Generation"
   ]
  },
  {
   "cell_type": "code",
   "execution_count": 4,
   "id": "74f9b8a4-c293-4c8a-9c8c-72d28f624312",
   "metadata": {},
   "outputs": [],
   "source": [
    "# create minority and majority groups\n",
    "def get_cat_features(n, r):\n",
    "    num_minority = int(r * n)\n",
    "    num_majority = n - num_minority\n",
    "    \n",
    "    minority = np.zeros((num_minority, 1))\n",
    "    majority = np.ones((num_majority, 1))\n",
    "    \n",
    "    cat_features = np.vstack((minority, majority))\n",
    "    #np.random.shuffle(cat_features) # this is what causes us to not recover coeffs\n",
    "    \n",
    "    return cat_features"
   ]
  },
  {
   "cell_type": "code",
   "execution_count": 5,
   "id": "acba1061-c071-4a58-ae21-706122184dd8",
   "metadata": {},
   "outputs": [],
   "source": [
    "# return labels from Bayes Optimal Classifier\n",
    "def get_bayes_optimal_labels(features, effect_param):\n",
    "    outcome_continuous = 1/(1+np.exp(-np.matmul(features, effect_param)))\n",
    "    #return [np.random.binomial(n = 1, p = outcome_continuous[i]) for i in range(len(outcome_continuous))]\n",
    "    return outcome_continuous, np.random.binomial(1,outcome_continuous) # bernoulli to simulate LR's probabilistic nature\n",
    "\n",
    "# flip labels with probability eta\n",
    "def flip_labels(df_synthetic, eta):\n",
    "    labels = df_synthetic['outcome']\n",
    "    \n",
    "    for i in range(len(labels)):\n",
    "        if random.uniform(0,1) <= eta:\n",
    "            labels[i] = 1 if labels[i] == 0 else 0\n",
    "    df_synthetic['outcome'] = labels\n",
    "    \n",
    "    return df_synthetic"
   ]
  },
  {
   "cell_type": "code",
   "execution_count": 6,
   "id": "9faebb17-ed24-453b-a179-16933179c612",
   "metadata": {},
   "outputs": [],
   "source": [
    "'''\n",
    "\n",
    "create synthetic data with:\n",
    "    3 numerical features (Gaussian), 1 categorical (sensitive attribute) \n",
    "    logistic outcome model s.t. outcome = Indicator[logit(effect_param*features) >= 0.5]\n",
    "    \n",
    "create minority/majority groups according to r param\n",
    "\n",
    "simulate Bayes Optimal Classifiers for minority and majority\n",
    "\n",
    "flip labels according to eta param\n",
    "\n",
    "ensure equal base rates (proportion of positive examples) across both groups\n",
    "\n",
    "'''\n",
    "\n",
    "def true_label_generation(r, eta, n):\n",
    "\n",
    "    ''' \n",
    "    delete this variable to allow user to control percentage of positively labeled examples\n",
    "    eg: let outcome_continuous >= 0.2 implies 80% positively labeled samples\n",
    "    '''\n",
    "    # causal effect params\n",
    "    effect_param_min = [0.5, -0.2, 0.1] \n",
    "    effect_param_maj = [-0.7, 0.5, 1.5]\n",
    "    \n",
    "    num_min = int(n*r)\n",
    "    num_maj = n - num_min\n",
    "\n",
    "    # required: len(cat_probabilities) = n_cat_features\n",
    "    n_cat_features = 2\n",
    "    cat_probabilities = [0.5, 0.5] \n",
    "\n",
    "    # numerical feature params\n",
    "    means = [0, 0, 0]\n",
    "    cov_matrix = [[1, 0, 0], [0, 1, 0], [0, 0, 1]]\n",
    "\n",
    "    # features\n",
    "    cat_features = get_cat_features(r=r, n=n)\n",
    "    \n",
    "    num_features_min = np.random.multivariate_normal(means, cov_matrix, num_min)\n",
    "    #num_features_min = np.random.normal(0, 1, num_min)\n",
    "    num_features_maj = np.random.multivariate_normal(means, cov_matrix, num_maj)\n",
    "    #num_features_min = np.random.normal(0, 1, num_min)\n",
    "\n",
    "    num_features = np.concatenate((num_features_min, num_features_maj))\n",
    "\n",
    "    # outcomes\n",
    "    outcome_continuous_min, outcome_binary_min = get_bayes_optimal_labels(features=num_features_min, effect_param=effect_param_min)\n",
    "    #outcome_binary_min = np.where(np.matmul(num_features_min, effect_param_min) > 0.5, 1, 0)\n",
    "    outcome_continuous_maj, outcome_binary_maj = get_bayes_optimal_labels(features=num_features_maj, effect_param=effect_param_maj)\n",
    "    #outcome_binary_maj = np.where(np.matmul(num_features_maj, effect_param_maj) > 0.5, 1, 0)\n",
    "    \n",
    "    outcome = np.hstack((outcome_binary_min,outcome_binary_maj)).reshape(n,1)\n",
    "    outcome_continuous = np.hstack((outcome_continuous_min,outcome_continuous_maj)).reshape(n,1)\n",
    "    temp_data = np.hstack((num_features,cat_features, outcome))\n",
    "    np.random.shuffle(temp_data) # randomly shuffle the data\n",
    "    \n",
    "    df_synthetic = pd.DataFrame(temp_data)\n",
    "    df_synthetic.columns = ['num1','num2','num3','cat','outcome']\n",
    "    \n",
    "    df_majority = df_synthetic[df_synthetic['cat'] == 1]\n",
    "    df_minority = df_synthetic[df_synthetic['cat'] == 0]\n",
    "    \n",
    "    df_synthetic = flip_labels(df_synthetic, eta)\n",
    "    \n",
    "    return outcome_continuous, df_synthetic \n",
    "\n",
    "outcome_continuous, df_synthetic = true_label_generation(r=r, eta=eta, n=2*n)"
   ]
  },
  {
   "cell_type": "markdown",
   "id": "11a7fd87-924b-41b0-a505-25cac190e8cd",
   "metadata": {},
   "source": [
    "# Preparation"
   ]
  },
  {
   "cell_type": "markdown",
   "id": "0d385bc3-625f-4726-a2b3-7dac659fda04",
   "metadata": {},
   "source": [
    "### Data Preprocessing"
   ]
  },
  {
   "cell_type": "code",
   "execution_count": 7,
   "id": "547edc7c-4c9b-4f47-8a61-9398fc20f79f",
   "metadata": {
    "tags": []
   },
   "outputs": [
    {
     "data": {
      "text/plain": [
       "\"\\n# split into train and test\\ndf_train = df_synthetic.loc[range(0,int(len(df_synthetic)/2)), :]\\n# if original dataset has odd number of samples, remove 1 sample to be even\\nif (len(df_synthetic) % 2 == 1):\\n    df_test = df_synthetic.loc[range(int(len(df_synthetic)/2)+1, len(df_synthetic)), :]\\nelse:\\n    df_test = df_synthetic.loc[range(int(len(df_synthetic)/2), len(df_synthetic)), :]\\n    \\ndf_test_maj = df_test[df_test['cat'] == 1]\\ndf_test_min = df_test[df_test['cat'] == 0]\\n\\n# format data\\nX_true = df_test.iloc[:, :-1].values\\ny_true = df_test.iloc[:, -1].values\\n\\nX_true_maj = df_test_maj.iloc[:, :-1].values\\ny_true_maj = df_test_maj.iloc[:, -1].values\\nX_true_min = df_test_min.iloc[:, :-1].values\\ny_true_min = df_test_min.iloc[:, -1].values\\n\\nsens_attrs_true = [df_test['cat']]\\n\""
      ]
     },
     "execution_count": 7,
     "metadata": {},
     "output_type": "execute_result"
    }
   ],
   "source": [
    "'''\n",
    "# split into train and test\n",
    "df_train = df_synthetic.loc[range(0,int(len(df_synthetic)/2)), :]\n",
    "# if original dataset has odd number of samples, remove 1 sample to be even\n",
    "if (len(df_synthetic) % 2 == 1):\n",
    "    df_test = df_synthetic.loc[range(int(len(df_synthetic)/2)+1, len(df_synthetic)), :]\n",
    "else:\n",
    "    df_test = df_synthetic.loc[range(int(len(df_synthetic)/2), len(df_synthetic)), :]\n",
    "    \n",
    "df_test_maj = df_test[df_test['cat'] == 1]\n",
    "df_test_min = df_test[df_test['cat'] == 0]\n",
    "\n",
    "# format data\n",
    "X_true = df_test.iloc[:, :-1].values\n",
    "y_true = df_test.iloc[:, -1].values\n",
    "\n",
    "X_true_maj = df_test_maj.iloc[:, :-1].values\n",
    "y_true_maj = df_test_maj.iloc[:, -1].values\n",
    "X_true_min = df_test_min.iloc[:, :-1].values\n",
    "y_true_min = df_test_min.iloc[:, -1].values\n",
    "\n",
    "sens_attrs_true = [df_test['cat']]\n",
    "'''"
   ]
  },
  {
   "cell_type": "code",
   "execution_count": 8,
   "id": "240d919e-9d87-4429-9f42-e4f2a938fac7",
   "metadata": {},
   "outputs": [],
   "source": [
    "# split into train and test\n",
    "df_train = df_synthetic.loc[range(0,int(n/2)), :]\n",
    "# if original dataset has odd number of samples, remove 1 sample to be even\n",
    "if (n % 2 == 1):\n",
    "    df_test = df_synthetic.loc[range(int(n/2)+1, n), :]\n",
    "else:\n",
    "    df_test = df_synthetic.loc[range(int(n/2), n), :]\n",
    "\n",
    "df_fidel = df_synthetic.loc[range(n, len(df_synthetic)),:]\n",
    "outcome_cts = outcome_continuous[n:len(df_synthetic)]\n",
    "    \n",
    "df_test_maj = df_test[df_test['cat'] == 1]\n",
    "df_test_min = df_test[df_test['cat'] == 0]\n",
    "\n",
    "# format data\n",
    "X_true = df_test.iloc[:, :-1].values\n",
    "y_true = df_test.iloc[:, -1].values\n",
    "\n",
    "X_true_maj = df_test_maj.iloc[:, :-1].values\n",
    "y_true_maj = df_test_maj.iloc[:, -1].values\n",
    "X_true_min = df_test_min.iloc[:, :-1].values\n",
    "y_true_min = df_test_min.iloc[:, -1].values\n",
    "\n",
    "sens_attrs_true = [df_test['cat']]"
   ]
  },
  {
   "cell_type": "markdown",
   "id": "950918b3",
   "metadata": {},
   "source": [
    "# Bias Injection"
   ]
  },
  {
   "cell_type": "code",
   "execution_count": 9,
   "id": "1a788ace-562a-4256-a853-40db73a61e23",
   "metadata": {},
   "outputs": [],
   "source": [
    "def under_sample(df_minority_positive, beta):\n",
    "    X_min = df_minority_positive.iloc[:, :].values\n",
    "    \n",
    "    # keep each example with probability beta\n",
    "    for i in range(len(X_min)):\n",
    "        if random.uniform(0,1) > beta:\n",
    "            X_min = np.delete(X_min, 0, axis=0)\n",
    "    \n",
    "    df_minority_positive = pd.DataFrame(pd.DataFrame(X_min))\n",
    "    df_minority_positive.columns = ['num1','num2','num3','cat','outcome']\n",
    "    return df_minority_positive\n",
    "\n",
    "def get_biased_data(df_train, beta):\n",
    "    df_majority = df_train[df_train['cat'] == 1]\n",
    "    df_minority = df_train[df_train['cat'] == 0]\n",
    "    \n",
    "    # unfavored group with negative label\n",
    "    df_minority_negative = df_minority[df_minority['outcome'] == 0.0]\n",
    "\n",
    "    # unfavored group with positive label (preferred)\n",
    "    df_minority_positive = df_minority[df_minority['outcome'] == 1.0]\n",
    "    \n",
    "    # data frame without positively labeled examples from minority class\n",
    "    df_total = pd.concat([df_majority, df_minority_negative])\n",
    "    \n",
    "    # under-sampling process\n",
    "    df_undersampled = under_sample(df_minority_positive, beta)\n",
    "\n",
    "    # combine undersampled and original favored class to create dataset\n",
    "    df_concat = pd.concat([df_total,df_undersampled])\n",
    "    \n",
    "    return df_concat.sample(frac=1) # permute data\n",
    "\n",
    "df_concat = get_biased_data(df_train, 0.5)\n",
    "\n",
    "# for fairness measures later\n",
    "df_sens = df_concat['cat']\n",
    "\n",
    "# format data\n",
    "X_bias = df_concat.iloc[:, :-1].values\n",
    "y_bias = df_concat.iloc[:, -1].values"
   ]
  },
  {
   "cell_type": "code",
   "execution_count": 10,
   "id": "213427a7-8fec-4a2a-a568-439e01b6b31f",
   "metadata": {},
   "outputs": [],
   "source": [
    "''' Nil-Jana's Suggestions '''\n",
    "\n",
    "def transform(df, is_test = False):\n",
    "\n",
    "    sens_feat = df.iloc[:, -2].values\n",
    "    outcome = df.iloc[:, -1].values\n",
    "    num_feats = df.iloc[:, :-2].values\n",
    "\n",
    "    trans_feats = []\n",
    "    # -2 for sensitive feature and label\n",
    "    for i in range(len(df.columns) - 2):\n",
    "        num_feat = df.iloc[:, i].values\n",
    "        num_feat_transf = np.multiply(num_feat, sens_feat)\n",
    "        trans_feats += [num_feat_transf.reshape((len(df),))]\n",
    "\n",
    "\n",
    "    temp_data = np.hstack((num_feats, trans_feats[0].reshape((len(df),1)), trans_feats[1].reshape((len(df),1)), trans_feats[2].reshape((len(df),1)), outcome.reshape((len(df),1))))\n",
    "\n",
    "    df_transf = pd.DataFrame(temp_data)\n",
    "    df_transf.columns = ['num1','num2','num3', 'num1_transf','num2_transf','num3_transf','outcome']\n",
    "\n",
    "    # for fairness measures later\n",
    "    df_sens = df['cat']\n",
    "    maj_list = list(df[df['cat'] == 1].index)\n",
    "    min_list = list(df[df['cat'] == 0].index)\n",
    "    \n",
    "    for i in range(len(maj_list)):\n",
    "        maj_list[i] = maj_list[i] - len(df)\n",
    "        \n",
    "    for i in range(len(min_list)):\n",
    "        min_list[i] = min_list[i] - len(df)\n",
    "\n",
    "    # format data\n",
    "    X_bias = df_transf.iloc[:, :-1].values\n",
    "    y_bias = df_transf.iloc[:, -1].values\n",
    "    \n",
    "    if not is_test:\n",
    "        return X_bias, y_bias, df_sens\n",
    "    else:\n",
    "        return df_transf, maj_list, min_list"
   ]
  },
  {
   "cell_type": "markdown",
   "id": "84403b44",
   "metadata": {},
   "source": [
    "# Model"
   ]
  },
  {
   "cell_type": "markdown",
   "id": "25f6827f",
   "metadata": {},
   "source": [
    "### Model Selection + Training (TODO: modularize)"
   ]
  },
  {
   "cell_type": "code",
   "execution_count": 11,
   "id": "2e198bb7-af19-46fa-96e0-f3b7cb155f21",
   "metadata": {},
   "outputs": [],
   "source": [
    "classifier = LogisticRegression(random_state=42)\n",
    "\n",
    "classifier_bias = classifier.fit(X_bias, y_bias)\n",
    "y_pred_bias = classifier_bias.predict(X_bias)\n",
    "y_pred_bias_on_true = classifier_bias.predict(X_true)\n",
    "\n",
    "classifier_b = LogisticRegression(solver='lbfgs', random_state=42, penalty = 'l2')\n",
    "classifier_bo = classifier_b.fit(X_true, y_true)\n",
    "bo_pred = classifier_bo.predict(X_true)\n",
    "\n",
    "classifier_b_maj = LogisticRegression(solver='lbfgs', random_state=42, penalty = 'l2')\n",
    "classifier_maj = classifier_b_maj.fit(X_true_maj, y_true_maj)\n",
    "bo_maj_pred = classifier_maj.predict(X_true_maj)\n",
    "\n",
    "classifier_b_min = LogisticRegression(solver='lbfgs', random_state=42, penalty = 'l2')\n",
    "classifier_min = classifier_b_min.fit(X_true_min, y_true_min)\n",
    "bo_min_pred = classifier_min.predict(X_true_min)\n"
   ]
  },
  {
   "cell_type": "code",
   "execution_count": 12,
   "id": "d70210bc-f996-40bc-8956-5fa16b826986",
   "metadata": {
    "tags": []
   },
   "outputs": [],
   "source": [
    "df_fidel_maj = df_fidel[df_fidel['cat'] == 1]\n",
    "df_fidel_min = df_fidel[df_fidel['cat'] == 0]\n",
    "\n",
    "maj_list = list(df_fidel[df_fidel['cat'] == 1].index)\n",
    "min_list = list(df_fidel[df_fidel['cat'] == 0].index)\n",
    "\n",
    "for i in range(len(maj_list)):\n",
    "    maj_list[i] = maj_list[i] - len(df_fidel)\n",
    "        \n",
    "for i in range(len(min_list)):\n",
    "    min_list[i] = min_list[i] - len(df_fidel)\n",
    "    \n",
    "outcome_cts_maj = outcome_cts.take([maj_list]).flatten()\n",
    "outcome_cts_min = outcome_cts.take([min_list]).flatten()\n",
    "\n",
    "classifier_b_maj = LogisticRegression(solver='lbfgs', random_state=42, penalty = 'l2').fit(X_true_maj, y_true_maj)\n",
    "classifier_b_min = LogisticRegression(solver='lbfgs', random_state=42, penalty = 'l2').fit(X_true_min, y_true_min)\n",
    "\n",
    "\n",
    "arr = []\n",
    "for i in range(10, len(df_fidel_maj), 10):\n",
    "    df_slice_maj = df_fidel_maj.head(i)\n",
    "    X_fidel_maj = df_slice_maj.iloc[:, :-1].values\n",
    "    outcome_maj = outcome_cts_maj[:i].flatten()\n",
    "    pred_proba_maj = pd.DataFrame(classifier_b_maj.predict_proba(X_fidel_maj))\n",
    "    #print(pred_proba_maj.max(axis = 1).values)\n",
    "    #print(outcome_maj)\n",
    "    arr += [(pred_proba_maj.max(axis = 1).values - outcome_maj).sum() / i]\n",
    "    \n",
    "for i in range(10, len(df_fidel_min), 10):\n",
    "    df_slice_min = df_fidel_min.head(i)\n",
    "    X_fidel_min = df_slice_min.iloc[:, :-1].values\n",
    "    outcome_min = outcome_cts_min[:i].flatten()\n",
    "    pred_proba_min = pd.DataFrame(classifier_b_min.predict_proba(X_fidel_min))\n",
    "    #print(pred_proba_maj.max(axis = 1).values)\n",
    "    #print(outcome_maj)\n",
    "    arr += [(pred_proba_min.max(axis = 1).values - outcome_min).sum() / i]"
   ]
  },
  {
   "cell_type": "markdown",
   "id": "ff477ccd",
   "metadata": {},
   "source": [
    "### Model Performance (TODO: modularize)"
   ]
  },
  {
   "cell_type": "code",
   "execution_count": 13,
   "id": "adf0a2b3",
   "metadata": {
    "ExecuteTime": {
     "end_time": "2021-06-10T20:42:09.231352Z",
     "start_time": "2021-06-10T20:42:09.225108Z"
    },
    "tags": []
   },
   "outputs": [
    {
     "name": "stdout",
     "output_type": "stream",
     "text": [
      "Synthetic Data\n",
      "\n",
      "Accuracy of Bayes Optimal Model on Ground Truth Data (Maj):  0.7519669154730684\n",
      "Accuracy of Bayes Optimal Model on Ground Truth Data (Min):  0.5967361384191899\n",
      "\n",
      "Coefs Majority:  [[-0.68519878  0.45570097  1.48392245 -0.02374198]]\n",
      "Coefs Minority:  [[ 0.49640203 -0.19089129  0.0789934   0.        ]]\n"
     ]
    }
   ],
   "source": [
    "print(\"Synthetic Data\\n\")\n",
    "\n",
    "#print(\"Accuracy of Biased Model on Biased Data: \", accuracy_score(y_pred_bias, y_bias))\n",
    "#print(\"Accuracy of Biased Model on Ground Truth Data: \", accuracy_score(y_pred_bias_on_true, y_true))\n",
    "\n",
    "#print(\"\\nAccuracy of Bayes Optimal Model on Ground Truth Data: \", accuracy_score(bo_pred, y_true))\n",
    "print(\"Accuracy of Bayes Optimal Model on Ground Truth Data (Maj): \", accuracy_score(bo_maj_pred, y_true_maj))\n",
    "print(\"Accuracy of Bayes Optimal Model on Ground Truth Data (Min): \", accuracy_score(bo_min_pred, y_true_min))\n",
    "\n",
    "effect_param_maj = [-0.7, 0.5, 1.5]\n",
    "effect_param_min = [0.5, -0.2, 0.1] \n",
    "\n",
    "print(\"\\nCoefs Majority: \", classifier_maj.coef_)\n",
    "print(\"Coefs Minority: \", classifier_min.coef_)"
   ]
  },
  {
   "cell_type": "markdown",
   "id": "2b7ea20d",
   "metadata": {},
   "source": [
    "# Evaluation"
   ]
  },
  {
   "cell_type": "markdown",
   "id": "a7f17d7a-7138-479b-87f7-ff45e561eb97",
   "metadata": {},
   "source": [
    "### Error Bars with Multiple Iterations"
   ]
  },
  {
   "cell_type": "code",
   "execution_count": 21,
   "id": "7cdc3dd6-a00b-4e1d-8177-86130db9a557",
   "metadata": {},
   "outputs": [],
   "source": [
    "# if verbose, shows \"Finished iteration: ... \"\n",
    "def tradeoff_visualization_error(classifier, X_true, y_true, df_train,\n",
    "                           sensitive_feature = \"cat\",\n",
    "                           apply_fairness = False, verbose = False, num_iters = 10):\n",
    "    \n",
    "    total_accuracy_on_true = []\n",
    "    total_accuracy_on_true_maj = []\n",
    "    total_accuracy_on_true_min = []\n",
    "    total_accuracy_on_biased = []\n",
    "    total_accuracy_on_true_mitigated = []\n",
    "    total_accuracy_on_true_mitigated_maj = []\n",
    "    total_accuracy_on_true_mitigated_min = []\n",
    "    total_accuracy_on_biased_mitigated = []\n",
    "    total_bayes_accuracy_on_true = []\n",
    "    total_bayes_accuracy_on_true_maj = []\n",
    "    total_bayes_accuracy_on_true_min = []\n",
    "    bayes_accuracy_on_true = []\n",
    "    bayes_accuracy_on_true_maj = []\n",
    "    bayes_accuracy_on_true_min = []\n",
    "    \n",
    "    for i in range(num_iters):\n",
    "    \n",
    "        # 0 to 1 in increments of 0.1\n",
    "        bias_amts = np.divide(list(range(10,-1,-1)),10)\n",
    "        accuracy_on_true = []\n",
    "        accuracy_on_true_maj = []\n",
    "        accuracy_on_true_min = []\n",
    "        accuracy_on_biased = []\n",
    "        accuracy_on_true_mitigated = []\n",
    "        accuracy_on_true_mitigated_maj = []\n",
    "        accuracy_on_true_mitigated_min = []\n",
    "        accuracy_on_biased_mitigated = []\n",
    "        bayes_temp = []\n",
    "        bayes_temp_maj = []\n",
    "        bayes_temp_min = []\n",
    "\n",
    "        count = 0\n",
    "        \n",
    "        outcome_continuous, df_synthetic = true_label_generation(r=r, eta=eta, n=n)\n",
    "        \n",
    "        # split into train and test\n",
    "        df_train = df_synthetic.loc[range(0,int(n/2)), :]\n",
    "        # if original dataset has odd number of samples, remove 1 sample to be even\n",
    "        if (n % 2 == 1):\n",
    "            df_test = df_synthetic.loc[range(int(n/2)+1, n), :]\n",
    "        else:\n",
    "            df_test = df_synthetic.loc[range(int(n/2), n), :]\n",
    "        \n",
    "        #df_test_transf = df_test\n",
    "        df_test_transf, maj_list, min_list = transform(df_test, True)\n",
    "            \n",
    "        df_test_maj = df_test_transf.loc[maj_list]\n",
    "        #df_test_maj = df_test[df_test['cat'] == 1]\n",
    "        df_test_min = df_test_transf.loc[min_list]\n",
    "        #df_test_min = df_test[df_test['cat'] == 0]\n",
    "        \n",
    "        df_fidel_transf, maj_list, min_list = transform(df_fidel, True)\n",
    "        \n",
    "        df_fidel_maj = df_fidel_transf.loc[maj_list]\n",
    "        #df_test_maj = df_test[df_test['cat'] == 1]\n",
    "        df_fidel_min = df_fidel_transf.loc[min_list]\n",
    "\n",
    "        outcome_cts_maj = outcome_cts.take([maj_list]).flatten()\n",
    "        outcome_cts_min = outcome_cts.take([min_list]).flatten()\n",
    "\n",
    "        # format data\n",
    "        X_true = df_test_transf.iloc[:, :-1].values\n",
    "        y_true = df_test_transf.iloc[:, -1].values\n",
    "        X_true_maj = df_test_maj.iloc[:, :-1].values\n",
    "        y_true_maj = df_test_maj.iloc[:, -1].values\n",
    "        X_true_min = df_test_min.iloc[:, :-1].values\n",
    "        y_true_min = df_test_min.iloc[:, -1].values\n",
    "        \n",
    "        # bayes optimal classifier(s) accuracy on ground truth data\n",
    "\n",
    "        sens_attrs_true = [df_test['cat']]\n",
    "\n",
    "        for beta in bias_amts:\n",
    "            \n",
    "            if i == 0: print(\"Beta: \", beta, '\\n')\n",
    "\n",
    "            df_train_copy = df_train.copy()\n",
    "\n",
    "            df_majority = df_train_copy[df_train_copy['cat'] == 1]\n",
    "            df_minority = df_train_copy[df_train_copy['cat'] == 0]\n",
    "\n",
    "            # unfavored group with negative label\n",
    "            df_minority_negative = df_minority[df_minority['outcome'] == 0.0]\n",
    "\n",
    "            # unfavored group with positive label (preferred)\n",
    "            df_minority_positive = df_minority[df_minority['outcome'] == 1.0]\n",
    "\n",
    "            # data frame without positively labeled examples from minority class\n",
    "            df_total = pd.concat([df_majority, df_minority_negative])\n",
    "\n",
    "            # under-sampling process\n",
    "            df_undersampled = under_sample(df_minority_positive, beta)\n",
    "            #print(\"Num Minority Pos: \", len(df_undersampled))\n",
    "\n",
    "            # combine undersampled and original favored class to create dataset\n",
    "            df_concat = pd.concat([df_total,df_undersampled])\n",
    "\n",
    "            # format data\n",
    "            X_bias_true, y_bias_true, df_sens = transform(df_concat)\n",
    "            #X_bias_true, y_bias_true, df_sens = df_concat.iloc[:, :-1].values, df_concat.iloc[:, -1].values, df_concat['cat']\n",
    "\n",
    "            classifier_bias = classifier.fit(X_bias_true, y_bias_true)\n",
    "            if i == 0: print(\"Model + No Intervention Coefs: \", classifier_bias.coef_)\n",
    "            \n",
    "            # bayes optimal\n",
    "            classifier_b = clone(classifier).fit(X_true, y_true)\n",
    "            bo_pred = classifier_b.predict(X_true)\n",
    "            \n",
    "            classifier_b_maj = clone(classifier).fit(X_true_maj, y_true_maj)\n",
    "            bo_maj_pred = classifier_b_maj.predict(X_true_maj)\n",
    "            if i == 0: print(\"BO Majority Coefs: \", classifier_b_maj.coef_)\n",
    "            \n",
    "            classifier_b_min = clone(classifier).fit(X_true_min, y_true_min)\n",
    "            bo_min_pred = classifier_b_min.predict(X_true_min)\n",
    "            if i == 0: print(\"BO Minority Coefs: \", classifier_b_min.coef_)\n",
    "                        \n",
    "            bayes_temp.append(accuracy_score(bo_pred, y_true))\n",
    "            bayes_temp_maj.append(accuracy_score(bo_maj_pred, y_true_maj))\n",
    "            bayes_temp_min.append(accuracy_score(bo_min_pred, y_true_min))\n",
    "            \n",
    "            if beta == 1.0: \n",
    "                print(\"BO Majority Accuracy: \", accuracy_score(bo_maj_pred, y_true_maj))\n",
    "                print(\"BO Minority Accuracy: \", accuracy_score(bo_min_pred, y_true_min))\n",
    "                \n",
    "\n",
    "            if apply_fairness:\n",
    "                constraint = EqualizedOdds()\n",
    "                classifier_mitigated_bias = GridSearch(clone(classifier_bias), constraint)\n",
    "                #classifier_mitigated_bias = ExponentiatedGradient(clone(classifier_bias), constraint)\n",
    "                classifier_mitigated_bias.fit(X_bias_true, y_bias_true, sensitive_features = df_sens)\n",
    "\n",
    "                # testing on biased data WITH fairness intervention\n",
    "                y_pred_mitigated_bias = classifier_mitigated_bias.predict(X_bias_true)\n",
    "\n",
    "                # testing on GT data WITH fairness intervention\n",
    "                y_pred_mitigated_bias_on_true = classifier_mitigated_bias.predict(X_true)\n",
    "                y_pred_mitigated_bias_on_true_maj = classifier_mitigated_bias.predict(X_true_maj)\n",
    "                y_pred_mitigated_bias_on_true_min = classifier_mitigated_bias.predict(X_true_min)\n",
    "\n",
    "            # testing on biased data withOUT fairness intervention\n",
    "            y_pred_bias = classifier_bias.predict(X_bias_true)\n",
    "\n",
    "            # testing on GT data withOUT fairness intervention\n",
    "            y_pred_bias_on_true = classifier_bias.predict(X_true)\n",
    "            y_pred_bias_on_true_maj = classifier_bias.predict(X_true_maj)\n",
    "            y_pred_bias_on_true_min = classifier_bias.predict(X_true_min)\n",
    "\n",
    "            # model performance\n",
    "\n",
    "            if apply_fairness:\n",
    "                # on biased data\n",
    "                acc_bias_mitigated = accuracy_score(y_pred=y_pred_mitigated_bias, y_true=y_bias_true)\n",
    "                accuracy_on_biased_mitigated.append(acc_bias_mitigated)\n",
    "\n",
    "                # on GT data\n",
    "                acc_bias_mitigated_on_true = accuracy_score(y_pred=y_pred_mitigated_bias_on_true, y_true=y_true)\n",
    "                accuracy_on_true_mitigated.append(acc_bias_mitigated_on_true)\n",
    "                \n",
    "                acc_bias_mitigated_on_true_maj = accuracy_score(y_pred=y_pred_mitigated_bias_on_true_maj, y_true=y_true_maj)\n",
    "                accuracy_on_true_mitigated_maj.append(acc_bias_mitigated_on_true_maj)\n",
    "                print(\"Model on GT + Intervention (Maj):\", acc_bias_mitigated_on_true_maj)\n",
    "                \n",
    "                acc_bias_mitigated_on_true_min = accuracy_score(y_pred=y_pred_mitigated_bias_on_true_min, y_true=y_true_min)\n",
    "                accuracy_on_true_mitigated_min.append(acc_bias_mitigated_on_true_min)\n",
    "                print(\"Model on GT + Intervention (Min):\", acc_bias_mitigated_on_true_min)\n",
    "\n",
    "            # on biased data\n",
    "            acc_bias = accuracy_score(y_pred=y_pred_bias, y_true=y_bias_true)\n",
    "            accuracy_on_biased.append(acc_bias)\n",
    "            \n",
    "            acc_bias_on_true_maj = accuracy_score(y_pred=y_pred_bias_on_true_maj, y_true=y_true_maj)\n",
    "            accuracy_on_true_maj.append(acc_bias_on_true_maj)\n",
    "            print(\"Model on GT + NO Intervention (Maj):\", acc_bias_on_true_maj)\n",
    "\n",
    "            acc_bias_on_true_min = accuracy_score(y_pred=y_pred_bias_on_true_min, y_true=y_true_min)\n",
    "            accuracy_on_true_min.append(acc_bias_on_true_min)\n",
    "            print(\"Model on GT + NO Intervention (Min):\", acc_bias_on_true_min)\n",
    "            \n",
    "            # on GT data\n",
    "            acc_bias_on_true = accuracy_score(y_pred=y_pred_bias_on_true, y_true=y_true)\n",
    "            accuracy_on_true.append(acc_bias_on_true)\n",
    "\n",
    "            if beta == 0.8:\n",
    "                maj_arr = []\n",
    "                for j in range(1000, len(df_fidel_maj), 1000):\n",
    "                    df_slice_maj = df_fidel_maj.head(j)\n",
    "                    X_fidel_maj = df_slice_maj.iloc[:, :-1].values\n",
    "                    #outcome_maj = outcome_cts_maj[:j].flatten()\n",
    "                    pred_proba_maj = pd.DataFrame(classifier_mitigated_bias.predict_proba(X_fidel_maj))\n",
    "                    pred_proba_maj_bo = pd.DataFrame(classifier_b_maj.predict_proba(X_fidel_maj))\n",
    "                    #print(pred_proba_maj.max(axis = 1).values)\n",
    "                    #print(outcome_maj)\n",
    "                    maj_arr += [(pred_proba_maj.max(axis = 1).values - pred_proba_maj_bo.max(axis = 1).values).sum() / j]\n",
    "                    \n",
    "                min_arr = []\n",
    "                for k in range(1000, len(df_fidel_min), 1000):\n",
    "                    df_slice_min = df_fidel_min.head(k)\n",
    "                    X_fidel_min = df_slice_min.iloc[:, :-1].values\n",
    "                    #outcome_min = outcome_cts_min[:k].flatten()\n",
    "                    pred_proba_min = pd.DataFrame(classifier_mitigated_bias.predict_proba(X_fidel_min))\n",
    "                    pred_proba_min_bo = pd.DataFrame(classifier_b_min.predict_proba(X_fidel_min))\n",
    "                    #print(pred_proba_maj.max(axis = 1).values)\n",
    "                    #print(outcome_maj)\n",
    "                    min_arr += [(pred_proba_min.max(axis = 1).values - pred_proba_min_bo.max(axis = 1).values).sum() / k]\n",
    "            \n",
    "                break\n",
    "                \n",
    "            if verbose:\n",
    "                print(\"Finished Iteration: \", count)\n",
    "                count +=1\n",
    "\n",
    "            # fail-safe\n",
    "            if count > 30:\n",
    "                break\n",
    "        \n",
    "        total_accuracy_on_biased.append(accuracy_on_biased)\n",
    "        total_accuracy_on_biased_mitigated.append(accuracy_on_biased_mitigated)\n",
    "        total_accuracy_on_true.append(accuracy_on_true)\n",
    "        total_accuracy_on_true_maj.append(accuracy_on_true_maj)\n",
    "        total_accuracy_on_true_min.append(accuracy_on_true_min)\n",
    "        total_accuracy_on_true_mitigated.append(accuracy_on_true_mitigated)\n",
    "        total_accuracy_on_true_mitigated_maj.append(accuracy_on_true_mitigated_maj)\n",
    "        total_accuracy_on_true_mitigated_min.append(accuracy_on_true_mitigated_min)\n",
    "        \n",
    "        total_bayes_accuracy_on_true.append(bayes_temp)\n",
    "        total_bayes_accuracy_on_true_maj.append(bayes_temp_maj)\n",
    "        total_bayes_accuracy_on_true_min.append(bayes_temp_min)\n",
    "        \n",
    "        if verbose:\n",
    "                print(\"Finished Total Iteration: \", i+1)\n",
    "    \n",
    "        \n",
    "    mean_biased = np.mean(total_accuracy_on_biased, axis = 0)\n",
    "    mean_biased_mitigated = np.mean(total_accuracy_on_biased_mitigated, axis = 0)\n",
    "    mean_true = np.mean(total_accuracy_on_true, axis = 0)\n",
    "    mean_true_maj = np.mean(total_accuracy_on_true_maj, axis = 0)\n",
    "    mean_true_min = np.mean(total_accuracy_on_true_min, axis = 0)\n",
    "    mean_true_mitigated = np.mean(total_accuracy_on_true_mitigated, axis = 0)\n",
    "    mean_true_mitigated_maj = np.mean(total_accuracy_on_true_mitigated_maj, axis = 0)\n",
    "    mean_true_mitigated_min = np.mean(total_accuracy_on_true_mitigated_min, axis = 0)\n",
    "    \n",
    "    mean_bayes_accuracy_on_true = np.mean(total_bayes_accuracy_on_true, axis = 0)\n",
    "    mean_bayes_accuracy_on_true_maj = np.mean(total_bayes_accuracy_on_true_maj, axis = 0)\n",
    "    mean_bayes_accuracy_on_true_min = np.mean(total_bayes_accuracy_on_true_min, axis = 0) \n",
    "    \n",
    "    y_err_biased = np.std(total_accuracy_on_biased, axis = 0)\n",
    "    y_err_biased_mitigated = np.std(total_accuracy_on_biased_mitigated, axis = 0)\n",
    "    y_err_true = np.std(total_accuracy_on_true, axis = 0)\n",
    "    y_err_true_maj = np.std(total_accuracy_on_true_maj, axis = 0)\n",
    "    y_err_true_min = np.std(total_accuracy_on_true_min, axis = 0)\n",
    "    y_err_true_mitigated = np.std(total_accuracy_on_true_mitigated, axis = 0)\n",
    "    y_err_true_mitigated_maj = np.std(total_accuracy_on_true_mitigated_maj, axis = 0)\n",
    "    y_err_true_mitigated_min = np.std(total_accuracy_on_true_mitigated_min, axis = 0)\n",
    "\n",
    "\n",
    "    return bias_amts, mean_biased, mean_true, \\\n",
    "           mean_biased_mitigated, mean_true_mitigated, y_err_biased, \\\n",
    "           y_err_true, y_err_biased_mitigated, y_err_true_mitigated, \\\n",
    "           mean_true_maj, mean_true_min, \\\n",
    "           mean_true_mitigated_maj, mean_true_mitigated_min, \\\n",
    "           y_err_true_maj, y_err_true_min, \\\n",
    "           y_err_true_mitigated_maj, y_err_true_mitigated_min, \\\n",
    "           mean_bayes_accuracy_on_true, mean_bayes_accuracy_on_true_maj, \\\n",
    "           mean_bayes_accuracy_on_true_min, maj_arr, min_arr"
   ]
  },
  {
   "cell_type": "code",
   "execution_count": 22,
   "id": "99bfd23f-6f40-45d1-a77f-e93d9b460459",
   "metadata": {},
   "outputs": [],
   "source": [
    "def accuracy_visualizations(bias_amts, accuracy_on_biased = [], accuracy_on_true = [],\n",
    "                            accuracy_on_biased_mitigated = [],\n",
    "                            accuracy_on_true_mitigated = [], fairness = False):\n",
    "    plt.figure(figsize=(10,7))\n",
    "    if fairness:\n",
    "        plt.plot(bias_amts, accuracy_on_true_mitigated, label = 'Ground Truth')\n",
    "        plt.plot(bias_amts, accuracy_on_biased_mitigated, label = 'Biased Data')\n",
    "        plt.xlim(1.05, -0.05)\n",
    "        plt.xlabel(\"Beta Value\")\n",
    "        plt.ylabel(\"Accuracy Score\")\n",
    "        plt.title(\"Biased Model Accuracy\")\n",
    "        plt.legend()\n",
    "\n",
    "        plt.show()\n",
    "        \n",
    "    else:\n",
    "        plt.plot(bias_amts, accuracy_on_true, label = 'Ground Truth')\n",
    "        plt.plot(bias_amts, accuracy_on_biased, label = 'Biased Data')\n",
    "        plt.xlim(1.05, -0.05)\n",
    "        plt.xlabel(\"Beta Value\")\n",
    "        plt.ylabel(\"Accuracy Score\")\n",
    "        plt.title(\"Biased Model Accuracy\")\n",
    "        plt.legend()\n",
    "\n",
    "        plt.show()"
   ]
  },
  {
   "cell_type": "code",
   "execution_count": 23,
   "id": "4d884d65-9fac-4e54-aafa-d3fc41b627b4",
   "metadata": {},
   "outputs": [],
   "source": [
    "def total_visualizations(bias_amts, mean_biased, mean_true,\n",
    "                        mean_biased_mitigated, mean_true_mitigated):\n",
    "    plt.figure(figsize=(10,7))\n",
    "    plt.errorbar(bias_amts, mean_biased, yerr= y_err_biased, label = 'Tested On Biased Data + No Fairness Intervention', color = \"red\")\n",
    "    plt.errorbar(bias_amts, mean_biased_mitigated, yerr= y_err_biased_mitigated, label = 'Tested On Biased Data + Fairness Intervention', color = \"green\")\n",
    "    plt.errorbar(bias_amts, mean_true, yerr= y_err_true, label = 'Tested On Ground Truth + No Fairness Intervention', color = \"blue\")\n",
    "    plt.errorbar(bias_amts, mean_true_mitigated, yerr= y_err_true_mitigated, label = 'Tested On Ground Truth + Fairness Intervention', color = \"purple\")\n",
    "    #plt.plot(bias_amts, bayes_accuracy_on_biased, label = 'Bayes Optimal Model On Biased Data', color = \"black\")\n",
    "    #plt.axhline(y = bayes_optimal_accuracy(df_test), label = \"Bayes Optimal Model On Ground Truth Data\", color = \"pink\")\n",
    "    plt.xlim(1.05, -0.05)\n",
    "    plt.xlabel(\"Beta Value\")\n",
    "    plt.ylabel(\"Accuracy Score\")\n",
    "    plt.title(\"Accuracy of Biased Model (trained on biased data)\")\n",
    "    #plt.legend(loc = 1)\n",
    "    plt.legend()\n",
    "    plt.show()"
   ]
  },
  {
   "cell_type": "code",
   "execution_count": 24,
   "id": "41379f6f-9cc4-4ab8-bf1c-5fd3dd0164ae",
   "metadata": {
    "tags": []
   },
   "outputs": [
    {
     "name": "stdout",
     "output_type": "stream",
     "text": [
      "Beta:  1.0 \n",
      "\n",
      "Model + No Intervention Coefs:  [[ 0.52866069 -0.20899118  0.09660715 -1.26176067  0.70869285  1.39574536]]\n",
      "BO Majority Coefs:  [[-0.35489816  0.25587196  0.73060498 -0.35489816  0.25587196  0.73060498]]\n",
      "BO Minority Coefs:  [[ 0.50542595 -0.20253461  0.13404916  0.          0.          0.        ]]\n",
      "BO Majority Accuracy:  0.751428285055628\n",
      "BO Minority Accuracy:  0.6089986064105116\n",
      "Model on GT + Intervention (Maj): 0.7519294377067255\n",
      "Model on GT + Intervention (Min): 0.6028269958192315\n",
      "Model on GT + NO Intervention (Maj): 0.7519294377067255\n",
      "Model on GT + NO Intervention (Min): 0.6020306589687437\n",
      "Finished Iteration:  0\n",
      "Beta:  0.9 \n",
      "\n",
      "Model + No Intervention Coefs:  [[ 0.53260537 -0.20093106  0.10105277 -1.26579979  0.70088736  1.39131751]]\n",
      "BO Majority Coefs:  [[-0.35489816  0.25587196  0.73060498 -0.35489816  0.25587196  0.73060498]]\n",
      "BO Minority Coefs:  [[ 0.50542595 -0.20253461  0.13404916  0.          0.          0.        ]]\n",
      "Model on GT + Intervention (Maj): 0.7513280545254084\n",
      "Model on GT + Intervention (Min): 0.6054150905833168\n",
      "Model on GT + NO Intervention (Maj): 0.7513280545254084\n",
      "Model on GT + NO Intervention (Min): 0.6054150905833168\n",
      "Finished Iteration:  1\n",
      "Beta:  0.8 \n",
      "\n",
      "Model + No Intervention Coefs:  [[ 0.52556038 -0.20819693  0.09653239 -1.259461    0.70881559  1.39700985]]\n",
      "BO Majority Coefs:  [[-0.35489816  0.25587196  0.73060498 -0.35489816  0.25587196  0.73060498]]\n",
      "BO Minority Coefs:  [[ 0.50542595 -0.20253461  0.13404916  0.          0.          0.        ]]\n",
      "Model on GT + Intervention (Maj): 0.751428285055628\n",
      "Model on GT + Intervention (Min): 0.6054150905833168\n",
      "Model on GT + NO Intervention (Maj): 0.751428285055628\n",
      "Model on GT + NO Intervention (Min): 0.6054150905833168\n",
      "Finished Total Iteration:  1\n"
     ]
    }
   ],
   "source": [
    "classifier = LogisticRegression(solver = 'lbfgs', random_state = 42, penalty = 'none')\n",
    "\n",
    "effect_param_maj = [-0.7, 0.5, 1.5]\n",
    "effect_param_min = [0.5, -0.2, 0.1]\n",
    "\n",
    "bias_amts, mean_biased, mean_true, \\\n",
    "           mean_biased_mitigated, mean_true_mitigated, y_err_biased, \\\n",
    "           y_err_true, y_err_biased_mitigated, y_err_true_mitigated, \\\n",
    "           mean_true_maj, mean_true_min, \\\n",
    "           mean_true_mitigated_maj, mean_true_mitigated_min, \\\n",
    "           y_err_true_maj, y_err_true_min, \\\n",
    "           y_err_true_mitigated_maj, y_err_true_mitigated_min, \\\n",
    "           mean_bayes_accuracy_on_true, mean_bayes_accuracy_on_true_maj, \\\n",
    "           mean_bayes_accuracy_on_true_min, maj_arr, min_arr = \\\n",
    "tradeoff_visualization_error(classifier, X_true=X_true, y_true=y_true, \\\n",
    "                       df_train=df_train, sensitive_feature=\"cat\", \\\n",
    "                       apply_fairness=True,verbose=True, num_iters=1)"
   ]
  },
  {
   "cell_type": "code",
   "execution_count": 18,
   "id": "b6f906e9-9db4-40e2-ab2b-8b46ac65858f",
   "metadata": {
    "tags": []
   },
   "outputs": [
    {
     "data": {
      "image/png": "[encoded data removed]",
      "text/plain": [
       "<Figure size 720x504 with 1 Axes>"
      ]
     },
     "metadata": {
      "needs_background": "light"
     },
     "output_type": "display_data"
    }
   ],
   "source": [
    "plt.figure(figsize=(10,7))\n",
    "plt.errorbar(bias_amts, mean_true_mitigated_maj, yerr= y_err_true_mitigated_maj, label = 'Tested On Ground Truth + Intervention (Majority)', color = \"purple\")\n",
    "plt.errorbar(bias_amts, mean_true_mitigated_min, yerr= y_err_true_mitigated_min, label = 'Tested On Ground Truth + Intervention (Minority)', color = \"blue\")\n",
    "#plt.errorbar(bias_amts, mean_true_maj, yerr= y_err_true_mitigated_maj, label = 'Tested On Ground Truth + NO Intervention (Majority)', color = \"pink\")\n",
    "#plt.errorbar(bias_amts, mean_true_min, yerr= y_err_true_mitigated_min, label = 'Tested On Ground Truth + NO Intervention (Minority)', color = \"black\")\n",
    "plt.errorbar(bias_amts, mean_bayes_accuracy_on_true_maj, label = 'Bayes Optimal (Majority)', color = 'red')\n",
    "plt.errorbar(bias_amts, mean_bayes_accuracy_on_true_min, label = 'Bayes Optimal (Minority)', color = 'green')\n",
    "plt.legend()\n",
    "plt.xlim(1.05, -0.05)\n",
    "plt.show()"
   ]
  },
  {
   "cell_type": "code",
   "execution_count": 25,
   "id": "65d326e6-adbb-49ec-afc6-680dc15e0ecf",
   "metadata": {},
   "outputs": [
    {
     "data": {
      "text/plain": [
       "[<matplotlib.lines.Line2D at 0x7fca61e8db90>]"
      ]
     },
     "execution_count": 25,
     "metadata": {},
     "output_type": "execute_result"
    },
    {
     "data": {
      "image/png": "[encoded data removed]",
      "text/plain": [
       "<Figure size 432x288 with 1 Axes>"
      ]
     },
     "metadata": {
      "needs_background": "light"
     },
     "output_type": "display_data"
    }
   ],
   "source": [
    "plt.plot([i for i in range(1000, len(df_fidel_maj), 1000)], maj_arr)"
   ]
  },
  {
   "cell_type": "code",
   "execution_count": 26,
   "id": "dad1b9f6-4fea-4064-8ba0-b5bb94556b27",
   "metadata": {},
   "outputs": [
    {
     "data": {
      "text/plain": [
       "[<matplotlib.lines.Line2D at 0x7fca716ff4d0>]"
      ]
     },
     "execution_count": 26,
     "metadata": {},
     "output_type": "execute_result"
    },
    {
     "data": {
      "image/png": "[encoded data removed]",
      "text/plain": [
       "<Figure size 432x288 with 1 Axes>"
      ]
     },
     "metadata": {
      "needs_background": "light"
     },
     "output_type": "display_data"
    }
   ],
   "source": [
    "plt.plot([i for i in range(1000, len(df_fidel_min), 1000)], min_arr)"
   ]
  },
  {
   "cell_type": "code",
   "execution_count": null,
   "id": "a4e0a316-dc08-4a65-aee4-234ed77ffea9",
   "metadata": {},
   "outputs": [],
   "source": []
  }
 ],
 "metadata": {
  "kernelspec": {
   "display_name": "Python 3",
   "language": "python",
   "name": "python3"
  },
  "language_info": {
   "codemirror_mode": {
    "name": "ipython",
    "version": 3
   },
   "file_extension": ".py",
   "mimetype": "text/x-python",
   "name": "python",
   "nbconvert_exporter": "python",
   "pygments_lexer": "ipython3",
   "version": "3.7.4"
  }
 },
 "nbformat": 4,
 "nbformat_minor": 5
}
